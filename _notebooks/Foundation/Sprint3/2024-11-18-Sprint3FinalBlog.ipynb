{
 "cells": [
  {
   "cell_type": "raw",
   "metadata": {
    "vscode": {
     "languageId": "raw"
    }
   },
   "source": [
    "---\n",
    "layout: post\n",
    "title: Sprint 3 Personal Blog\n",
    "description:  Sprint 3 Personal Blog\n",
    "type: issues\n",
    "comments: true\n",
    "---"
   ]
  },
  {
   "cell_type": "markdown",
   "metadata": {},
   "source": [
    "# MCQ Corrections and Mistakes\n",
    "\n",
    "\n",
    "Overall, this MCQ went well for me. I got a 65/66 in 01:39:36. I feel that this was a good accomplishment because I spent an ample amount of time on each problem and spent my time well.\n",
    "\n",
    "\n",
    "![image.png]({{site.baseurl}}/_notebooks/Foundation/Sprint3/q26.png)\n",
    "\n",
    "This question was based on the topic of algorithms and conditionals. "
   ]
  }
 ],
 "metadata": {
  "kernelspec": {
   "display_name": "venv",
   "language": "python",
   "name": "python3"
  },
  "language_info": {
   "codemirror_mode": {
    "name": "ipython",
    "version": 3
   },
   "file_extension": ".py",
   "mimetype": "text/x-python",
   "name": "python",
   "nbconvert_exporter": "python",
   "pygments_lexer": "ipython3",
   "version": "3.10.12"
  }
 },
 "nbformat": 4,
 "nbformat_minor": 2
}

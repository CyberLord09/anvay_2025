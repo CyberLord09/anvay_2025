{
 "cells": [
  {
   "cell_type": "raw",
   "metadata": {
    "vscode": {
     "languageId": "raw"
    }
   },
   "source": [
    "---\n",
    "layout: post\n",
    "title: Testing with Javascript\n",
    "description: Testing with Javascript\n",
    "type: issues \n",
    "comments: false\n",
    "---"
   ]
  },
  {
   "cell_type": "markdown",
   "metadata": {
    "vscode": {
     "languageId": "javascript"
    }
   },
   "source": [
    "<script>\n",
    "// input from the user\n",
    "const min = parseInt(prompt(\"Enter a min value: \"));\n",
    "const max = parseInt(prompt(\"Enter a max value: \"));\n",
    "\n",
    "// generating a random number\n",
    "const a = Math.floor(Math.random() * (max - min + 1)) + min;\n",
    "\n",
    "// display a random number\n",
    "document.write(`Random value between ${min} and ${max} is ${a}`);\n",
    "</script>"
   ]
  }
 ],
 "metadata": {
  "kernelspec": {
   "display_name": "venv",
   "language": "python",
   "name": "python3"
  },
  "language_info": {
   "codemirror_mode": {
    "name": "ipython",
    "version": 3
   },
   "file_extension": ".py",
   "mimetype": "text/x-python",
   "name": "python",
   "nbconvert_exporter": "python",
   "pygments_lexer": "ipython3",
   "version": "3.10.12"
  }
 },
 "nbformat": 4,
 "nbformat_minor": 2
}

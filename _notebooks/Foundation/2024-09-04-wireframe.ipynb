{
 "cells": [
  {
   "cell_type": "raw",
   "metadata": {
    "vscode": {
     "languageId": "raw"
    }
   },
   "source": [
    "---\n",
    "layout: post\n",
    "title: Wireframe Formatted Post\n",
    "description: 3 buttons formatted for the wireframe format\n",
    "type: issues \n",
    "comments: false\n",
    "---"
   ]
  },
  {
   "cell_type": "markdown",
   "metadata": {},
   "source": [
    "<div class=\"button-div\" style=\"text-align: center; margin-top: 40px;\">\n",
    "    <p>Mario (Japanese: マリオ; /mɑːrioʊ/, /mærioʊ/) is a character created by the Japanese game designer Shigeru Miyamoto. He is the star of the Mario franchise, a recurring character in the Donkey Kong franchise, and the mascot of the Japanese video game company Nintendo. Mario is an Italian plumber who lives in the Mushroom Kingdom with his younger twin brother, Luigi. Their adventures generally involve rescuing Princess Peach from the villain Bowser while using power-ups that give them different abilities. Mario's distinctive characteristics include his large nose and mustache, overalls, red cap, and high-pitched, exaggerated Italian accent (Wikipedia). </p>\n",
    "    <button class=\"cool-button\">Hello</button>\n",
    "</div>\n",
    "\n",
    "<div class=\"button-div\" style=\"text-align: center; margin-top: 40px;\">\n",
    "    <a href=\"https://cyberlord09.github.io/grouprepo_2025\" target=\"_blank\">\n",
    "        <button class=\"cool-button\">Github Mini Project</button>\n",
    "    </a>\n",
    "        <a href=\"https://cyberlord09.github.io/AnvayDNHSCompSci//2023/12/04/PartnerPost.html\" target=\"_blank\">\n",
    "        <button class=\"cool-button\">CTF</button>\n",
    "    </a>\n",
    "    <p>Luigi (Japanese: ルイージ; /luˈiːdʒi/) is a character from the Mario franchise. Luigi is portrayed as a kind-hearted, cowardly Italian plumber, and the younger fraternal twin brother and sidekick of Mario. Luigi was created by video game designer Shigeru Miyamoto and first appeared in Mario Bros. in which he was originally designed as a palette swap of Mario with a green color scheme, Luigi has since appeared in multiple games and other media throughout the Mario franchise which developed a personality and style of his own. As his role in the Mario franchise progressed, Luigi evolved into a physically distinct character, and become the main protagonist of Mario is Missing! and the Luigi's Mansion series.</p>\n",
    "</div>\n",
    "\n",
    "<style>\n",
    ".button-div {\n",
    "    position: relative;\n",
    "    padding: 20px;\n",
    "    border-radius: 12px;\n",
    "    animation: glowing 2s infinite;\n",
    "}\n",
    "\n",
    "@keyframes glowing {\n",
    "    0% { box-shadow: 0 0 5px #3498db, 0 0 10px #3498db, 0 0 15px #3498db, 0 0 20px #3498db; }\n",
    "    50% { box-shadow: 0 0 20px #3498db, 0 0 30px #3498db, 0 0 40px #3498db, 0 0 50px #3498db; }\n",
    "    100% { box-shadow: 0 0 5px #3498db, 0 0 10px #3498db, 0 0 15px #3498db, 0 0 20px #3498db; }\n",
    "}\n",
    "\n",
    ".cool-button {\n",
    "    background: linear-gradient(45deg, #1e3c72, #2a5298) !important; /* Cool blue gradient */\n",
    "    border: none !important;\n",
    "    color: white !important;\n",
    "    padding: 15px 32px !important;\n",
    "    text-align: center !important;\n",
    "    text-decoration: none !important;\n",
    "    display: inline-block !important;\n",
    "    font-size: 16px !important;\n",
    "    margin: 10px !important;\n",
    "    cursor: pointer !important;\n",
    "    transition: background 0.3s, transform 0.3s, box-shadow 0.3s !important;\n",
    "    border-radius: 12px !important;\n",
    "    position: relative !important;\n",
    "    overflow: hidden !important;\n",
    "}\n",
    "\n",
    ".cool-button::before {\n",
    "    content: \"\" !important;\n",
    "    position: absolute !important;\n",
    "    top: 50% !important;\n",
    "    left: 50% !important;\n",
    "    width: 300% !important;\n",
    "    height: 300% !important;\n",
    "    background: rgba(255, 255, 255, 0.15) !important;\n",
    "    transition: all 0.75s !important;\n",
    "    border-radius: 50% !important;\n",
    "    transform: translate(-50%, -50%) scale(0.1) !important;\n",
    "}\n",
    "\n",
    ".cool-button:hover::before {\n",
    "    transform: translate(-50%, -50%) scale(1) !important;\n",
    "}\n",
    "\n",
    ".cool-button:hover {\n",
    "    background: linear-gradient(45deg, #2a5298, #1e3c72) !important; /* Hover blue gradient */\n",
    "    transform: scale(1.1) !important;\n",
    "    box-shadow: 0 8px 16px rgba(0, 0, 0, 0.2), 0 12px 40px rgba(0, 0, 0, 0.19) !important;\n",
    "}\n",
    "\n",
    ".cool-button:active {\n",
    "    background: linear-gradient(45deg, #1b2a49, #162a4f) !important; /* Active blue gradient */\n",
    "    transform: scale(0.9) !important;\n",
    "    box-shadow: 0 4px 8px rgba(0, 0, 0, 0.2), 0 6px 20px rgba(0, 0, 0, 0.19) !important;\n",
    "}\n",
    "</style>"
   ]
  }
 ],
 "metadata": {
  "language_info": {
   "name": "python"
  }
 },
 "nbformat": 4,
 "nbformat_minor": 2
}

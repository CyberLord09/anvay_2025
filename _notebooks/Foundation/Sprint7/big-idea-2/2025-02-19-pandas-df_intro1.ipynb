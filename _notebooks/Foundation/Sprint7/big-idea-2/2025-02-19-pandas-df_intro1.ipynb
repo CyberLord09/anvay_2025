{
 "cells": [
  {
   "attachments": {},
   "cell_type": "raw",
   "metadata": {
    "vscode": {
     "languageId": "raw"
    }
   },
   "source": [
    "---\n",
    "layout: post\n",
    "title: Data Frames | Pandas | Intro 1\n",
    "description: Data connections, trends, and correlation.  Pandas is introduced as it could be valuable for CPT and PBL.\n",
    "categories: [Machine Learning and Data Structures]\n",
    "---"
   ]
  },
  {
   "attachments": {},
   "cell_type": "markdown",
   "metadata": {},
   "source": [
    "# Files To Get\n",
    "\n",
    "1. Use wget or drag-and-drop the **_notebooks/CSP/big-ideas/big-idea-2** folder for this and other ipynb on pandas.\n",
    "\n",
    "2. Use wget or drag-and-drop, in a subfolder named **data** in your **_notebookx** to grab data files.\n",
    "\n",
    "- data.csv\n",
    "- grade.json\n",
    "\n",
    "3. Use wget or drag-and-drop, then copy image file and place into subfolder named **data_structures** in your **images** folder.  Grab the entire folder.\n"
   ]
  },
  {
   "attachments": {},
   "cell_type": "markdown",
   "metadata": {},
   "source": [
    "# Pandas and DataFrames\n",
    "> In this lesson we will be exploring data analysis using Pandas.  \n",
    "\n",
    "- College Board talks about ideas like \n",
    "    - Tools. \"the ability to process data depends on users capabilities and their tools\"\n",
    "    - Combining Data.  \"combine county data sets\"\n",
    "    - Status on Data\"determining the artist with the greatest attendance during a particular month\"\n",
    "    - Data poses challenge. \"the need to clean data\", \"incomplete data\"\n",
    "\n",
    "\n",
    "- [From Pandas Overview](https://pandas.pydata.org/docs/getting_started/index.html) -- When working with tabular data, such as data stored in spreadsheets or databases, pandas is the right tool for you. pandas will help you to explore, clean, and process your data. In pandas, a data table is called a DataFrame.\n",
    "\n",
    "- DataFrame is a 2-dimensional labeled data structure with columns of potentially different types. It is similar to: \n",
    "    - a spreadsheet \n",
    "    - an SQL table\n",
    "    - a JSON object with rows [] with nexted key-values {}\n",
    "\n",
    "![DataFrame]({{site.baseurl}}/images/data_structures/pandas_dataframe.png)"
   ]
  },
  {
   "cell_type": "code",
   "execution_count": 2,
   "metadata": {},
   "outputs": [],
   "source": [
    "# uncomment the following line to install the pandas library\n",
    "# !pip install pandas \n",
    "\n",
    "'''Pandas is used to gather data sets through its DataFrames implementation'''\n",
    "import pandas as pd"
   ]
  },
  {
   "attachments": {},
   "cell_type": "markdown",
   "metadata": {},
   "source": [
    "# Cleaning Data\n",
    "\n",
    "When looking at a data set, check to see what data needs to be cleaned. Examples include:\n",
    "- Missing Data Points\n",
    "- Invalid Data\n",
    "- Inaccurate Data\n",
    "\n",
    "Run the following code to see what needs to be cleaned"
   ]
  },
  {
   "cell_type": "code",
   "execution_count": 3,
   "metadata": {},
   "outputs": [
    {
     "name": "stdout",
     "output_type": "stream",
     "text": [
      "   Student ID Year in School   GPA\n",
      "0         123             12  3.57\n",
      "1         246             10  4.00\n",
      "2         578             12  2.78\n",
      "3         469             11  3.45\n",
      "4         324         Junior  4.75\n",
      "5         313             20  3.33\n",
      "6         145             12  2.95\n",
      "7         167             10  3.90\n",
      "8         235      9th Grade  3.15\n",
      "9         nil              9  2.80\n",
      "10        469             11  3.45\n",
      "11        456             10  2.75\n"
     ]
    }
   ],
   "source": [
    "# Read the JSON file and convert it to a Pandas DataFrame \n",
    "# pd.read_json:  a method that reads a JSON and converts it to a DataFrame (df)\n",
    "# df: a variable that holds the DataFrame\n",
    "df = pd.read_json('data/grade.json')\n",
    "\n",
    "# Print the DataFrame\n",
    "print(df)\n",
    "\n",
    "# Additional print statements to understand the DataFrame:\n",
    "# print(df.info()) # prints a summary of the DataFrame, simmilar to database schema\n",
    "# print(df.describe()) # prints statistics of the DataFrame\n",
    "# print(df.head()) # prints the first 5 rows of the DataFrame\n",
    "# print(df.tail()) # prints the last 5 rows of the DataFrame\n",
    "# print(df.columns) # prints the columns of the DataFrame\n",
    "# print(df.index) # prints the index of the DataFrame\n",
    "\n",
    "# Questions:\n",
    "# What part of the data set needs to be cleaned?\n",
    "# From PBL learning, what is a good time to clean data?  \n",
    "# Could you hav Garbage in, Garbage out problem if you don't clean the data?"
   ]
  },
  {
   "attachments": {},
   "cell_type": "markdown",
   "metadata": {},
   "source": [
    "# Extracting Info\n",
    "\n",
    "Take a look at some features that the Pandas library has that extracts info from the dataset"
   ]
  },
  {
   "attachments": {},
   "cell_type": "markdown",
   "metadata": {},
   "source": [
    "## DataFrame Extract Column"
   ]
  },
  {
   "cell_type": "code",
   "execution_count": 4,
   "metadata": {},
   "outputs": [
    {
     "name": "stdout",
     "output_type": "stream",
     "text": [
      "     GPA\n",
      "0   3.57\n",
      "1   4.00\n",
      "2   2.78\n",
      "3   3.45\n",
      "4   4.75\n",
      "5   3.33\n",
      "6   2.95\n",
      "7   3.90\n",
      "8   3.15\n",
      "9   2.80\n",
      "10  3.45\n",
      "11  2.75\n",
      "\n",
      "Student ID  GPA\n",
      "       123 3.57\n",
      "       246 4.00\n",
      "       578 2.78\n",
      "       469 3.45\n",
      "       324 4.75\n",
      "       313 3.33\n",
      "       145 2.95\n",
      "       167 3.90\n",
      "       235 3.15\n",
      "       nil 2.80\n",
      "       469 3.45\n",
      "       456 2.75\n"
     ]
    }
   ],
   "source": [
    "#print the values in the points column with column header\n",
    "print(df[['GPA']])\n",
    "\n",
    "print()\n",
    "\n",
    "#try two columns and remove the index from print statement\n",
    "print(df[['Student ID','GPA']].to_string(index=False))"
   ]
  },
  {
   "attachments": {},
   "cell_type": "markdown",
   "metadata": {},
   "source": [
    "## DataFrame Sort"
   ]
  },
  {
   "cell_type": "code",
   "execution_count": 5,
   "metadata": {},
   "outputs": [
    {
     "name": "stdout",
     "output_type": "stream",
     "text": [
      "   Student ID Year in School   GPA\n",
      "11        456             10  2.75\n",
      "2         578             12  2.78\n",
      "9         nil              9  2.80\n",
      "6         145             12  2.95\n",
      "8         235      9th Grade  3.15\n",
      "5         313             20  3.33\n",
      "10        469             11  3.45\n",
      "3         469             11  3.45\n",
      "0         123             12  3.57\n",
      "7         167             10  3.90\n",
      "1         246             10  4.00\n",
      "4         324         Junior  4.75\n",
      "\n",
      "   Student ID Year in School   GPA\n",
      "4         324         Junior  4.75\n",
      "1         246             10  4.00\n",
      "7         167             10  3.90\n",
      "0         123             12  3.57\n",
      "10        469             11  3.45\n",
      "3         469             11  3.45\n",
      "5         313             20  3.33\n",
      "8         235      9th Grade  3.15\n",
      "6         145             12  2.95\n",
      "9         nil              9  2.80\n",
      "2         578             12  2.78\n",
      "11        456             10  2.75\n"
     ]
    }
   ],
   "source": [
    "#sort values\n",
    "print(df.sort_values(by=['GPA']))\n",
    "\n",
    "print()\n",
    "\n",
    "#sort the values in reverse order\n",
    "print(df.sort_values(by=['GPA'], ascending=False))"
   ]
  },
  {
   "attachments": {},
   "cell_type": "markdown",
   "metadata": {},
   "source": [
    "## DataFrame Selection or Filter"
   ]
  },
  {
   "cell_type": "code",
   "execution_count": 6,
   "metadata": {},
   "outputs": [
    {
     "name": "stdout",
     "output_type": "stream",
     "text": [
      "   Student ID Year in School   GPA\n",
      "0         123             12  3.57\n",
      "1         246             10  4.00\n",
      "3         469             11  3.45\n",
      "4         324         Junior  4.75\n",
      "5         313             20  3.33\n",
      "7         167             10  3.90\n",
      "8         235      9th Grade  3.15\n",
      "10        469             11  3.45\n"
     ]
    }
   ],
   "source": [
    "#print only values with a specific criteria \n",
    "print(df[df.GPA > 3.00])"
   ]
  },
  {
   "attachments": {},
   "cell_type": "markdown",
   "metadata": {},
   "source": [
    "## DataFrame Selection Max and Min"
   ]
  },
  {
   "cell_type": "code",
   "execution_count": 6,
   "metadata": {},
   "outputs": [
    {
     "name": "stdout",
     "output_type": "stream",
     "text": [
      "  Student ID Year in School   GPA\n",
      "4        324         Junior  4.75\n",
      "\n",
      "   Student ID Year in School   GPA\n",
      "11        456             10  2.75\n"
     ]
    }
   ],
   "source": [
    "print(df[df.GPA == df.GPA.max()])\n",
    "print()\n",
    "print(df[df.GPA == df.GPA.min()])"
   ]
  },
  {
   "attachments": {},
   "cell_type": "markdown",
   "metadata": {},
   "source": [
    "# Create your own DataFrame\n",
    "\n",
    "Using Pandas allows you to create your own DataFrame in Python."
   ]
  },
  {
   "attachments": {},
   "cell_type": "markdown",
   "metadata": {},
   "source": [
    "## Python Dictionary to Pandas DataFrame"
   ]
  },
  {
   "cell_type": "code",
   "execution_count": 7,
   "metadata": {},
   "outputs": [
    {
     "name": "stdout",
     "output_type": "stream",
     "text": [
      "-------------Dictionary------------------\n",
      "{'calories': [420, 380, 390], 'duration': [50, 40, 45]}\n",
      "-------------Dict_to_DF------------------\n",
      "   calories  duration\n",
      "0       420        50\n",
      "1       380        40\n",
      "2       390        45\n",
      "----------Dict_to_DF_labels--------------\n",
      "      calories  duration\n",
      "day1       420        50\n",
      "day2       380        40\n",
      "day3       390        45\n"
     ]
    }
   ],
   "source": [
    "import pandas as pd\n",
    "\n",
    "#the data can be stored as a python dictionary\n",
    "dict = {\n",
    "  \"calories\": [420, 380, 390],\n",
    "  \"duration\": [50, 40, 45]\n",
    "}\n",
    "print(\"-------------Dictionary------------------\")\n",
    "print(dict)\n",
    "\n",
    "#stores the data in a data frame\n",
    "print(\"-------------Dict_to_DF------------------\")\n",
    "df = pd.DataFrame(dict)\n",
    "print(df)\n",
    "\n",
    "print(\"----------Dict_to_DF_labels--------------\")\n",
    "#or with the index argument, you can label rows.\n",
    "df = pd.DataFrame(dict, index = [\"day1\", \"day2\", \"day3\"])\n",
    "print(df)"
   ]
  },
  {
   "attachments": {},
   "cell_type": "markdown",
   "metadata": {},
   "source": [
    "## Examine DataFrame Rows"
   ]
  },
  {
   "cell_type": "code",
   "execution_count": 8,
   "metadata": {},
   "outputs": [
    {
     "name": "stdout",
     "output_type": "stream",
     "text": [
      "-------Examine Selected Rows---------\n",
      "      calories  duration\n",
      "day1       420        50\n",
      "day3       390        45\n",
      "--------Examine Single Row-----------\n",
      "calories    420\n",
      "duration     50\n",
      "Name: day1, dtype: int64\n"
     ]
    }
   ],
   "source": [
    "print(\"-------Examine Selected Rows---------\")\n",
    "#use a list for multiple labels:\n",
    "print(df.loc[[\"day1\", \"day3\"]])\n",
    "\n",
    "#refer to the row index:\n",
    "print(\"--------Examine Single Row-----------\")\n",
    "print(df.loc[\"day1\"])"
   ]
  },
  {
   "attachments": {},
   "cell_type": "markdown",
   "metadata": {},
   "source": [
    "## Pandas DataFrame Information"
   ]
  },
  {
   "cell_type": "code",
   "execution_count": 9,
   "metadata": {},
   "outputs": [
    {
     "name": "stdout",
     "output_type": "stream",
     "text": [
      "<class 'pandas.core.frame.DataFrame'>\n",
      "Index: 3 entries, day1 to day3\n",
      "Data columns (total 2 columns):\n",
      " #   Column    Non-Null Count  Dtype\n",
      "---  ------    --------------  -----\n",
      " 0   calories  3 non-null      int64\n",
      " 1   duration  3 non-null      int64\n",
      "dtypes: int64(2)\n",
      "memory usage: 180.0+ bytes\n",
      "None\n"
     ]
    }
   ],
   "source": [
    "#print info about the data set\n",
    "print(df.info())"
   ]
  },
  {
   "attachments": {},
   "cell_type": "markdown",
   "metadata": {},
   "source": [
    "# Example of larger data set\n",
    "\n",
    "Pandas can read CSV and many other types of files, run the following code to see more features with a larger data set"
   ]
  },
  {
   "cell_type": "code",
   "execution_count": 10,
   "metadata": {},
   "outputs": [
    {
     "name": "stdout",
     "output_type": "stream",
     "text": [
      "--Duration Top 10---------\n",
      "     Duration  Pulse  Maxpulse  Calories\n",
      "69        300    108       143    1500.2\n",
      "79        270    100       131    1729.0\n",
      "60        210    108       160    1376.0\n",
      "109       210    137       184    1860.4\n",
      "90        180    101       127     600.1\n",
      "65        180     90       130     800.4\n",
      "106       180     90       120     800.3\n",
      "61        160    110       137    1034.4\n",
      "62        160    109       135     853.0\n",
      "70        150     97       129    1115.0\n",
      "--Duration Bottom 10------\n",
      "     Duration  Pulse  Maxpulse  Calories\n",
      "64         20    110       130     131.4\n",
      "68         20    106       136     110.4\n",
      "89         20     83       107      50.3\n",
      "100        20     95       112      77.7\n",
      "95         20    151       168     229.4\n",
      "94         20    150       171     127.4\n",
      "139        20    141       162     222.4\n",
      "135        20    136       156     189.0\n",
      "93         15     80       100      50.5\n",
      "112        15    124       139     124.2\n"
     ]
    }
   ],
   "source": [
    "import pandas as pd\n",
    "\n",
    "#read csv and sort 'Duration' largest to smallest\n",
    "df = pd.read_csv('data/data.csv').sort_values(by=['Duration'], ascending=False)\n",
    "\n",
    "print(\"--Duration Top 10---------\")\n",
    "print(df.head(10))\n",
    "\n",
    "print(\"--Duration Bottom 10------\")\n",
    "print(df.tail(10))\n"
   ]
  },
  {
   "attachments": {},
   "cell_type": "markdown",
   "metadata": {},
   "source": [
    "# APIs are a Source for Panda Data\n",
    "> 3rd Party APIs are a great source for creating Pandas Data Frames.  \n",
    "- Data can be fetched and resulting json can be placed into a Data Frame\n",
    "- Observe output, this looks very similar to a Database"
   ]
  },
  {
   "cell_type": "code",
   "execution_count": 11,
   "metadata": {},
   "outputs": [
    {
     "name": "stdout",
     "output_type": "stream",
     "text": [
      "active_classes\n",
      "APCSP    160\n",
      "APCSA     62\n",
      "CSSE      60\n",
      "          20\n",
      "Name: count, dtype: int64\n"
     ]
    }
   ],
   "source": [
    "import pandas as pd\n",
    "import requests\n",
    "\n",
    "def fetch():\n",
    "    '''Obtain data from an endpoint'''\n",
    "    url = \"https://devops.nighthawkcodingsociety.com/api/users/\"\n",
    "    fetch = requests.get(url)\n",
    "    json = fetch.json()\n",
    "\n",
    "    # filter data for requirement\n",
    "    df = pd.DataFrame(json)\n",
    " \n",
    "    # Check if 'active_classes' column exists in the DataFrame\n",
    "    if 'active_classes' in df.columns:\n",
    "        # Split the 'active_classes' strings into lists of class names and expand the lists into separate rows\n",
    "        classes_series = df['active_classes'].str.split(',').explode()\n",
    "\n",
    "        # Count the unique class names and print the counts\n",
    "        print(classes_series.str.strip().value_counts())\n",
    "    else:\n",
    "        print(\"Column 'active_classes' does not exist in the DataFrame\")\n",
    "\n",
    "fetch()"
   ]
  },
  {
   "cell_type": "code",
   "execution_count": 12,
   "metadata": {},
   "outputs": [
    {
     "name": "stdout",
     "output_type": "stream",
     "text": [
      "    active_classes   id first_name last_name\n",
      "60         [APCSA]   86     Aditya          \n",
      "33         [APCSA]   55       Finn          \n",
      "30         [APCSA]   52    [Edwin]   Abraham\n",
      "247        [APCSA]  316   [Vishnu]   Aravind\n",
      "117        [APCSA]  161  [Anthony]  Bazhenov\n",
      "\n",
      "    active_classes   id first_name last_name\n",
      "298        [APCSP]  369       Test          \n",
      "94         [APCSP]  134      Cindy          \n",
      "296        [APCSP]  367   testUser          \n",
      "12         [APCSP]   29     Saaras          \n",
      "150        [APCSP]  199      Gavin          \n",
      "\n",
      "    active_classes   id           first_name last_name\n",
      "263             []  334                 Pele          \n",
      "254             []  325                 Pele          \n",
      "161             []  212              Varnika          \n",
      "193             []  246       [Alyssa-Allen]    Abrams\n",
      "258             []  329  [Alexander, Graham]      Bell\n",
      "\n",
      "    active_classes   id first_name   last_name\n",
      "286         [CSSE]  357     Amelia            \n",
      "205         [CSSE]  260    Gabriel            \n",
      "265         [CSSE]  336     Yoseph            \n",
      "211         [CSSE]  267      Timur            \n",
      "91          [CSSE]  130   [Maryam]  Abdul-Aziz\n",
      "\n"
     ]
    }
   ],
   "source": [
    "import pandas as pd\n",
    "import requests\n",
    "\n",
    "def fetch():\n",
    "    '''Obtain data from an endpoint'''\n",
    "    url = \"https://devops.nighthawkcodingsociety.com/api/users/\"\n",
    "    fetch = requests.get(url)\n",
    "    json = fetch.json()\n",
    "\n",
    "    # filter data for requirement\n",
    "    df = pd.DataFrame(json)\n",
    "    \n",
    "    # Check if 'active_classes' column exists in the DataFrame\n",
    "    if 'active_classes' in df.columns:\n",
    "        # Split the 'active_classes' strings into lists of class names\n",
    "        df['active_classes'] = df['active_classes'].str.split(',')\n",
    "\n",
    "        # Get a list of unique class names by using a set comprehension\n",
    "        unique_classes = pd.Series([unique_class.strip() for class_list in df['active_classes'] for unique_class in class_list]).unique()\n",
    "                                    \n",
    "        # Iterate over the each class name\n",
    "        for current_class in unique_classes:\n",
    "            # Filter the DataFrame for students in the current class using a lambda function\n",
    "            class_df = df[df['active_classes'].apply(lambda classes: current_class in classes)]\n",
    "\n",
    "            # Select the desired data frame column\n",
    "            students = class_df[['active_classes','id', 'first_name', 'last_name']]\n",
    "\n",
    "            # Print the list of students in the current class\n",
    "            print(students.sort_values(by='last_name').head()) # avoids jupyter notebook truncation, remove .head() to print all students\n",
    "            print()\n",
    "    else:\n",
    "        print(\"Column 'active_classes' does not exist in the DataFrame\")\n",
    "\n",
    "fetch()"
   ]
  },
  {
   "cell_type": "markdown",
   "metadata": {},
   "source": [
    "# Hacks\n",
    "> Early Seed award.  Don't tell anyone. Show to Teacher.\n",
    "- Add this Blog to you own Blogging site.\n",
    "- Have all lecture files saved to your files directory before Tech Talk starts. \n",
    "- Add this Blog to you own Blogging site.  In the Blog add notes and observations on each code cell.\n",
    "\n",
    "> The next 6 weeks, the Teachers want you to improve your understanding of data structures and data science.  Your intention is to find some things to differentiate your individual College Board project, particularly if your project looks like all other projects.\n",
    "- Look at this blog and others on data structures for todays date.  \n",
    "- Create or Find your own dataset.  The suggestion is to use a JSON file, integrating with your CPT/PBL project would be ***Amazing***.\n",
    "- Build frontend to backend to filter or use your data set in your CPT/PBL.\n",
    "- When choosing a data set, think about the following...\n",
    "    - Does it have a good sample size?\n",
    "    - Is there bias in the data?\n",
    "    - Does the data set need to be cleaned?\n",
    "    - What is the purpose of the data set?\n",
    "    - ..."
   ]
  },
  {
   "cell_type": "markdown",
   "metadata": {},
   "source": [
    "# Early Seed Award: Notes and Observations on Each Code Cell\n",
    "\n",
    "---\n",
    "\n",
    "### 1. **Importing Pandas Library**\n",
    "   - **Code:**\n",
    "     ```python\n",
    "     import pandas as pd\n",
    "     ```\n",
    "   - **Observation:**\n",
    "     - The `import pandas as pd` line imports the pandas library, a powerful tool in Python for data manipulation and analysis. By importing it with the alias `pd`, it makes it easier to reference and use throughout the code.\n",
    "   - **Note:**\n",
    "     - Pandas is essential for handling tabular data, such as CSV or Excel files, and helps to simplify data processing.\n",
    "\n",
    "---\n",
    "\n",
    "### 2. **Reading a JSON File into a DataFrame**\n",
    "   - **Code:**\n",
    "     ```python\n",
    "     df = pd.read_json('data/grade.json')\n",
    "     print(df)\n",
    "     ```\n",
    "   - **Observation:**\n",
    "     - This code reads a JSON file (`grade.json`) and converts it into a DataFrame. A DataFrame is essentially a table of data, making it easier to work with and analyze.\n",
    "   - **Note:**\n",
    "     - JSON is a common data format, and pandas simplifies converting it into a tabular form for analysis. This is useful when working with APIs or data sources that return JSON.\n",
    "\n",
    "---\n",
    "\n",
    "### 3. **Exploring DataFrame Information**\n",
    "   - **Code:**\n",
    "     ```python\n",
    "     print(df.info())  # Prints a summary of the DataFrame\n",
    "     print(df.describe())  # Prints statistics of the DataFrame\n",
    "     print(df.head())  # Prints the first 5 rows of the DataFrame\n",
    "     print(df.tail())  # Prints the last 5 rows of the DataFrame\n",
    "     print(df.columns)  # Prints the columns of the DataFrame\n",
    "     print(df.index)  # Prints the index of the DataFrame\n",
    "     ```\n",
    "   - **Observation:**\n",
    "     - These commands provide an overview of the dataset:\n",
    "       - `info()` shows a concise summary of the DataFrame, including column types and missing values.\n",
    "       - `describe()` provides statistical details (mean, standard deviation, etc.) for numeric columns.\n",
    "       - `head()` and `tail()` display the first and last 5 rows to get an idea of the data.\n",
    "       - `columns` and `index` show the column names and index labels of the DataFrame.\n",
    "   - **Note:**\n",
    "     - These functions are helpful for **exploratory data analysis (EDA)**, enabling you to quickly understand the structure of your data and identify any missing or problematic values.\n",
    "\n",
    "---\n",
    "\n",
    "### 4. **Extracting Specific Columns**\n",
    "   - **Code:**\n",
    "     ```python\n",
    "     print(df[['GPA']])\n",
    "     print(df[['Student ID','GPA']].to_string(index=False))\n",
    "     ```\n",
    "   - **Observation:**\n",
    "     - The first line extracts only the `GPA` column.\n",
    "     - The second line extracts both the `Student ID` and `GPA` columns and removes the index from the output using `.to_string(index=False)`.\n",
    "   - **Note:**\n",
    "     - Extracting specific columns is a common task when you want to focus on certain features of your dataset. In this case, it’s useful when analyzing specific attributes like student performance (GPA).\n",
    "\n",
    "---\n",
    "\n",
    "### 5. **Sorting Values**\n",
    "   - **Code:**\n",
    "     ```python\n",
    "     print(df.sort_values(by=['GPA']))\n",
    "     print(df.sort_values(by=['GPA'], ascending=False))\n",
    "     ```\n",
    "   - **Observation:**\n",
    "     - This code sorts the DataFrame by the `GPA` column in both ascending and descending order.\n",
    "   - **Note:**\n",
    "     - Sorting is a crucial operation in data analysis, helping you organize data and make comparisons (e.g., finding students with the highest or lowest GPA).\n",
    "\n",
    "---\n",
    "\n",
    "### 6. **Filtering Data Based on Conditions**\n",
    "   - **Code:**\n",
    "     ```python\n",
    "     print(df[df.GPA > 3.00])\n",
    "     ```\n",
    "   - **Observation:**\n",
    "     - This filters the DataFrame to display students with a GPA greater than 3.00.\n",
    "   - **Note:**\n",
    "     - Filtering data allows you to extract relevant subsets based on specific criteria, which is common when analyzing students' performance or other attributes.\n",
    "\n",
    "---\n",
    "\n",
    "### 7. **Finding Maximum and Minimum Values**\n",
    "   - **Code:**\n",
    "     ```python\n",
    "     print(df[df.GPA == df.GPA.max()])\n",
    "     print(df[df.GPA == df.GPA.min()])\n",
    "     ```\n",
    "   - **Observation:**\n",
    "     - The first line finds the student with the highest GPA (`df.GPA.max()`), and the second line finds the student with the lowest GPA (`df.GPA.min()`).\n",
    "   - **Note:**\n",
    "     - This technique helps identify extreme values, such as top performers or those needing extra support. It’s useful in performance analysis and decision-making.\n",
    "\n",
    "---\n",
    "\n",
    "### 8. **Creating a DataFrame from a Dictionary**\n",
    "   - **Code:**\n",
    "     ```python\n",
    "     dict = {\n",
    "       \"calories\": [420, 380, 390],\n",
    "       \"duration\": [50, 40, 45]\n",
    "     }\n",
    "     df = pd.DataFrame(dict)\n",
    "     print(df)\n",
    "     ```\n",
    "   - **Observation:**\n",
    "     - This code creates a DataFrame from a Python dictionary, where keys represent column names and values represent the data in those columns.\n",
    "   - **Note:**\n",
    "     - Pandas can easily convert data from different formats, like dictionaries or lists, into DataFrames, making it highly versatile for working with raw data.\n",
    "\n",
    "---\n",
    "\n",
    "### 9. **Using Custom Index Labels for Rows**\n",
    "   - **Code:**\n",
    "     ```python\n",
    "     df = pd.DataFrame(dict, index=[\"day1\", \"day2\", \"day3\"])\n",
    "     print(df)\n",
    "     ```\n",
    "   - **Observation:**\n",
    "     - This adds custom index labels (`day1`, `day2`, `day3`) to the rows of the DataFrame.\n",
    "   - **Note:**\n",
    "     - Custom indices improve readability and make data more meaningful, especially in time-series data or data where rows represent distinct categories (e.g., days, events).\n",
    "\n",
    "---\n",
    "\n",
    "### 10. **Selecting Specific Rows Using `.loc[]`**\n",
    "   - **Code:**\n",
    "     ```python\n",
    "     print(df.loc[[\"day1\", \"day3\"]])\n",
    "     print(df.loc[\"day1\"])\n",
    "     ```\n",
    "   - **Observation:**\n",
    "     - The first line selects multiple rows based on index labels (`day1` and `day3`), while the second line selects a single row by its index label (`day1`).\n",
    "   - **Note:**\n",
    "     - The `.loc[]` indexer allows for flexible row selection based on labels. It's particularly useful for working with labeled data where specific entries are required.\n",
    "\n",
    "---\n",
    "\n",
    "### 11. **Reading CSV Files and Sorting Data**\n",
    "   - **Code:**\n",
    "     ```python\n",
    "     df = pd.read_csv('data/data.csv').sort_values(by=['Duration'], ascending=False)\n",
    "     print(\"--Duration Top 10---------\")\n",
    "     print(df.head(10))\n",
    "     print(\"--Duration Bottom 10------\")\n",
    "     print(df.tail(10))\n",
    "     ```\n",
    "   - **Observation:**\n",
    "     - This reads data from a CSV file (`data.csv`) and sorts it by the `Duration` column. It then prints the top 10 and bottom 10 rows based on that sorting.\n",
    "   - **Note:**\n",
    "     - Reading and sorting CSV data is a common use case in data analysis, as CSV files are a popular data storage format. Sorting by a specific column helps to organize data based on significance (e.g., event duration).\n",
    "\n",
    "---\n",
    "\n",
    "### 12. **Fetching Data from an API**\n",
    "   - **Code:**\n",
    "     ```python\n",
    "     def fetch():\n",
    "         url = \"https://devops.nighthawkcodingsociety.com/api/users/\"\n",
    "         fetch = requests.get(url)\n",
    "         json = fetch.json()\n",
    "         df = pd.DataFrame(json)\n",
    "         # Further processing...\n",
    "     fetch()\n",
    "     ```\n",
    "   - **Observation:**\n",
    "     - This function fetches data from an external API and converts the returned JSON data into a DataFrame.\n",
    "   - **Note:**\n",
    "     - APIs are an excellent source for real-time data. Pandas makes it easy to fetch data from APIs and process it for analysis. This approach is commonly used for web scraping or working with live data sources.\n",
    "\n",
    "---"
   ]
  }
 ],
 "metadata": {
  "kernelspec": {
   "display_name": "venv",
   "language": "python",
   "name": "python3"
  },
  "language_info": {
   "codemirror_mode": {
    "name": "ipython",
    "version": 3
   },
   "file_extension": ".py",
   "mimetype": "text/x-python",
   "name": "python",
   "nbconvert_exporter": "python",
   "pygments_lexer": "ipython3",
   "version": "3.10.12"
  },
  "orig_nbformat": 4
 },
 "nbformat": 4,
 "nbformat_minor": 2
}

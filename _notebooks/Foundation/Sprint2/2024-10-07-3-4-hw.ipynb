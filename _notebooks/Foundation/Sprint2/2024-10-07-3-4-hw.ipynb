{
 "cells": [
  {
   "cell_type": "raw",
   "metadata": {
    "vscode": {
     "languageId": "raw"
    }
   },
   "source": [
    "---\n",
    "layout: post\n",
    "title: 3.4 Homework and Popcorn Hacks\n",
    "description: 3.4 Homework and Popcorn Hacks\n",
    "type: issues \n",
    "comments: true\n",
    "permalink: /3-4\n",
    "---"
   ]
  },
  {
   "cell_type": "markdown",
   "metadata": {},
   "source": [
    "# Popcorn Hack 4"
   ]
  },
  {
   "cell_type": "code",
   "execution_count": 23,
   "metadata": {},
   "outputs": [
    {
     "name": "stdout",
     "output_type": "stream",
     "text": [
      "The title 'Thunder' appears 38 times in the lyrics.\n",
      "232\n",
      "Thunder is loud, lightning is cool\n"
     ]
    }
   ],
   "source": [
    "# Sample song lyrics\n",
    "lyrics = \"\"\"\n",
    "Just a young gun with a quick fuse\n",
    "I was uptight, wanna let loose\n",
    "I was dreaming of bigger things\n",
    "And wanna leave my old life behind\n",
    "Not a yes-sir, not a follower\n",
    "Fit the box, fit the mold\n",
    "Have a seat in the foyer, take a number\n",
    "I lightning before the thunder\n",
    "Thunder, thunder\n",
    "Thunder, thun-, thunder\n",
    "Thun-thun-thunder, thunder, thunder\n",
    "Thunder, thun-, thunder\n",
    "Thun-thun-thunder, thunder\n",
    "Thunder, feel the thunder\n",
    "Lightning then the thunder\n",
    "Thunder, feel the thunder\n",
    "Lightning then the thunder\n",
    "Thunder, thunder\n",
    "Thunder\n",
    "Kids were laughing in my classes\n",
    "While I was scheming for the masses\n",
    "Who do you think you are?\n",
    "Dreaming 'bout being a big star\n",
    "They say you're basic, they say you're easy\n",
    "You're always riding in the back seat\n",
    "Now I'm smiling from the stage while\n",
    "You were clapping in the nosebleeds\n",
    "Thunder\n",
    "Thunder, thun-, thunder\n",
    "Thun-thun-thunder, thunder, thunder\n",
    "Thunder, thun-, thunder\n",
    "Thun-thun-thunder, thunder\n",
    "Thunder, feel the thunder\n",
    "Lightning then the thunder\n",
    "Thunder, feel the thunder\n",
    "Lightning then the thunder\n",
    "Thunderrrrrrrr\n",
    "\"\"\"\n",
    "\n",
    "# 1. Define the title of the song\n",
    "songTitle = \"Thunder\"\n",
    "\n",
    "# 2. Count how many times the title appears in the lyrics\n",
    "titleCount = lyrics.lower().count(songTitle.lower())\n",
    "print(f\"The title '{songTitle}' appears {titleCount} times in the lyrics.\")\n",
    "\n",
    "# 3. Find the index of the 50th word\n",
    "words = lyrics.split()  # Split the lyrics into individual words\n",
    "print(lyrics.find(words[49]))\n",
    "\n",
    "# 4. Replace the first verse with the last verse\n",
    "lyrics = lyrics.replace(\"Just a young gun with a quick fuse\", \"Thunderrrrrrrr\")\n",
    "\n",
    "# 5. Concatnate two verses together to make new song\n",
    "verse1 = \"Thunder is loud\"\n",
    "verse2 = \"lightning is cool\"\n",
    "new_lyrics = verse1 + ', ' + verse2\n",
    "print(new_lyrics)\n",
    "\n"
   ]
  },
  {
   "cell_type": "markdown",
   "metadata": {},
   "source": [
    "# Popcorn Hack 5"
   ]
  },
  {
   "cell_type": "code",
   "execution_count": 1,
   "metadata": {
    "vscode": {
     "languageId": "javascript"
    }
   },
   "outputs": [
    {
     "data": {
      "application/javascript": "\n// Define the flower and animal\nlet flower = \"Rose\";\nlet animal = \"Tiger\";\n\nlet newCreature = flower + animal; // Using concatenation with quotes\nlet newCreatureTemplateLiteral = `${flower}${animal}`; // Using template literals\n\n// Short story\nlet story = `\nOnce upon a time, there lived a unique creature called the ${newCreatureTemplate}. \nThe ${newCreatureTemplate} had the colors of a ${flower} and the strength of a ${animal}.\n\nOne day, a curious kid named Bob stumbled upon the ${newCreatureTemplate} while exploring the forest.\n\"Who are you?\" Bob asked.\n\n\"I am the ${newCreatureTemplate},\" the creature replied with a roar. \"I protect this forest and all its inhabitants.\"\n\nBob couldn't believe his eyes. \"Wow!\"\n`;\n\nconsole.log(story);\n",
      "text/plain": [
       "<IPython.core.display.Javascript object>"
      ]
     },
     "metadata": {},
     "output_type": "display_data"
    }
   ],
   "source": [
    "%%js \n",
    "\n",
    "// Define the flower and animal\n",
    "let flower = \"Rose\";\n",
    "let animal = \"Tiger\";\n",
    "\n",
    "let newCreature = flower + animal; // Using concatenation with quotes\n",
    "let newCreatureTemplate = `${flower}${animal}`; // Using template literals\n",
    "\n",
    "// Short story\n",
    "let story = `\n",
    "Once upon a time, there lived a unique creature called the ${newCreatureTemplate}. \n",
    "The ${newCreatureTemplate} had the colors of a ${flower} and the strength of a ${animal}.\n",
    "\n",
    "One day, a curious kid named Bob stumbled upon the ${newCreatureTemplate} while exploring the forest.\n",
    "\"Who are you?\" Bob asked.\n",
    "\n",
    "\"I am the ${newCreatureTemplate},\" the creature replied with a roar. \"I protect this forest and all its inhabitants.\"\n",
    "\n",
    "Bob couldn't believe his eyes. \"Wow!\"\n",
    "`;\n",
    "\n",
    "console.log(story);"
   ]
  },
  {
   "cell_type": "markdown",
   "metadata": {},
   "source": [
    "# Extra Popcorn Hack"
   ]
  },
  {
   "cell_type": "code",
   "execution_count": null,
   "metadata": {
    "vscode": {
     "languageId": "javascript"
    }
   },
   "outputs": [
    {
     "data": {
      "application/javascript": "\nconst lamborghiniUrusProperties = {\n    engine: 'V8',\n    power: '650 hp',\n    topSpeed: '190 mph',\n    acceleration: '0-60 mph in 3.6 seconds',\n    price: '$218,009'\n}\n\nlamborghiniUrusProperties.price = '$220,000';\n",
      "text/plain": [
       "<IPython.core.display.Javascript object>"
      ]
     },
     "metadata": {},
     "output_type": "display_data"
    }
   ],
   "source": [
    "%%js \n",
    "\n",
    "const lamborghiniUrusProperties = {\n",
    "    engine: 'V8',\n",
    "    power: '650 hp',\n",
    "    topSpeed: '190 mph',\n",
    "    acceleration: '0-60 mph in 3.6 seconds',\n",
    "    price: '$218,009'\n",
    "}\n",
    "\n",
    "// updating the dictionary\n",
    "lamborghiniUrusProperties.price = '$220,000';"
   ]
  },
  {
   "cell_type": "markdown",
   "metadata": {},
   "source": [
    "# Homework Hacks"
   ]
  },
  {
   "cell_type": "markdown",
   "metadata": {},
   "source": [
    "## Text Analyzer"
   ]
  },
  {
   "cell_type": "code",
   "execution_count": 25,
   "metadata": {},
   "outputs": [
    {
     "name": "stdout",
     "output_type": "stream",
     "text": [
      "Analyzing the following texttext: Hello. My name is Anvay and I am a sophomore at Del Norte High School. I am currently enrolled in AP Computer Science Principles in 4th period.\n",
      "The longest word is: Principles\n",
      "The reversed text is: .doirep ht4 ni selpicnirP ecneicS retupmoC PA ni dellorne yltnerruc ma I .loohcS hgiH etroN leD ta eromohpos a ma I dna yavnA si eman yM .olleH\n",
      "The middle word is: High\n"
     ]
    }
   ],
   "source": [
    "# Ask user to input some text\n",
    "\n",
    "user_input = input(\"Enter some text: \")\n",
    "\n",
    "# Splits the inputted text into words\n",
    "words = user_input.split()\n",
    "\n",
    "print(\"Analyzing the following texttext: \" + user_input)\n",
    "\n",
    "# Count the total characters in the text\n",
    "num_chars = len(user_input)\n",
    "\n",
    "longest_word = \"\" # Variable to store the longest word\n",
    "for word in words: # For each word in the list of words checkts the length of the word\n",
    "    if len(word) > len(longest_word): # If the length of the word is greater than the length of the longest word that has been previously stored\n",
    "        longest_word = word # Replace the longest word with the current word that is being checked\n",
    "\n",
    "print(\"The longest word is: \" + longest_word)\n",
    "    \n",
    "# Printing reversed text\n",
    "print(\"The reversed text is: \" + user_input[::-1])\n",
    "\n",
    "# Printing the middle word\n",
    "middle_word = words[len(words) // 2]\n",
    "print(\"The middle word is: \" + middle_word)"
   ]
  }
 ],
 "metadata": {
  "kernelspec": {
   "display_name": "venv",
   "language": "python",
   "name": "python3"
  },
  "language_info": {
   "codemirror_mode": {
    "name": "ipython",
    "version": 3
   },
   "file_extension": ".py",
   "mimetype": "text/x-python",
   "name": "python",
   "nbconvert_exporter": "python",
   "pygments_lexer": "ipython3",
   "version": "3.10.12"
  }
 },
 "nbformat": 4,
 "nbformat_minor": 2
}

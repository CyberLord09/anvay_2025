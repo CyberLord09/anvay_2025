{
 "cells": [
  {
   "cell_type": "raw",
   "metadata": {
    "vscode": {
     "languageId": "raw"
    }
   },
   "source": [
    "---\n",
    "layout: post\n",
    "title: Blog of Blogs\n",
    "description: Blog of Blogs\n",
    "type: issues\n",
    "comments: true\n",
    "---"
   ]
  },
  {
   "cell_type": "markdown",
   "metadata": {},
   "source": [
    "--------------------------------------------------------------------------------------\n",
    "\n",
    "\n",
    "  <table>\n",
    "    <tr>\n",
    "      <th>Name</th>\n",
    "      <th>Link</th>\n",
    "    </tr>\n",
    "    <tr>\n",
    "      <td>Anvay</td>\n",
    "      <td><a href=\"https://github.com/CyberLord09/anvay_2025/issues/15\">Visit Issue</a></td>\n",
    "    </tr>\n",
    "    <tr>\n",
    "      <td>Yuva</td>\n",
    "      <td><a href=\"https://github.com/yuvabala09/yuvabalacsprepo/issues/4\">Visit Issue</a></td>\n",
    "    </tr>\n",
    "    <tr>\n",
    "      <td>Pranav</td>\n",
    "      <td><a href=\"https://github.com/SanPranav/Pranav_2025/issues/2\">Visit Issue</a></td>\n",
    "    </tr>\n",
    "    <tr>\n",
    "      <td>Rayhaan</td>\n",
    "      <td><a href=\"https://github.com/RayhaanSheeraj/Rayhaan_Repository/issues/3\">Visit Issue</a></td>\n",
    "    </tr>\n",
    "    <tr>\n",
    "      <td>Kiruthic</td>\n",
    "      <td><a href=\"https://github.com/Kiruthic-Selvakumar/Kiruthic_student_2025/issues/5\">Visit Issue</a></td>\n",
    "    </tr>\n",
    "  </table>\n"
   ]
  }
 ],
 "metadata": {
  "kernelspec": {
   "display_name": "venv",
   "language": "python",
   "name": "python3"
  },
  "language_info": {
   "codemirror_mode": {
    "name": "ipython",
    "version": 3
   },
   "file_extension": ".py",
   "mimetype": "text/x-python",
   "name": "python",
   "nbconvert_exporter": "python",
   "pygments_lexer": "ipython3",
   "version": "3.10.12"
  }
 },
 "nbformat": 4,
 "nbformat_minor": 2
}

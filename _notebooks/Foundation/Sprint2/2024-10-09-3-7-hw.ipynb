{
 "cells": [
  {
   "cell_type": "raw",
   "metadata": {
    "vscode": {
     "languageId": "raw"
    }
   },
   "source": [
    "---\n",
    "layout: post\n",
    "title: 3.7 Homework and Popcorn Hacks\n",
    "description:  3.7 Homework and Popcorn Hacks\n",
    "type: issues \n",
    "comments: true\n",
    "---"
   ]
  },
  {
   "cell_type": "markdown",
   "metadata": {},
   "source": [
    "# Popcorn Hack 1"
   ]
  },
  {
   "cell_type": "code",
   "execution_count": 4,
   "metadata": {},
   "outputs": [
    {
     "name": "stdout",
     "output_type": "stream",
     "text": [
      "The weather is sunny\n",
      "Your transportation is available\n",
      "Your boots are present\n",
      "The length of the hike is long\n",
      "You need to find a shorter trail. You will get too tired.\n"
     ]
    }
   ],
   "source": [
    "weather = \"sunny\"\n",
    "transportation = \"available\"\n",
    "boots = \"present\"\n",
    "hikelength = \"long\"\n",
    "\n",
    "print(\"The weather is \" + weather)\n",
    "print(\"Your transportation is \" + transportation)\n",
    "print(\"Your boots are \" + boots)\n",
    "print(\"The length of the hike is \" + hikelength)\n",
    "\n",
    "\n",
    "if weather == \"sunny\":\n",
    "    if transportation == \"available\":\n",
    "        if boots == \"present\":\n",
    "            if hikelength == \"short\":\n",
    "                    print(\"You are ready to go hiking!\")\n",
    "            else:\n",
    "                    print(\"You need to find a shorter trail. You will get too tired.\")\n",
    "        else:\n",
    "            print(\"You need to find your boots first.\")\n",
    "    else:\n",
    "        print(\"You need to arrange transportation.\")\n",
    "else:\n",
    "    print(\"It's not good weather for hiking.\")"
   ]
  },
  {
   "cell_type": "markdown",
   "metadata": {},
   "source": [
    "# Popcorn Hack 2"
   ]
  },
  {
   "cell_type": "code",
   "execution_count": 7,
   "metadata": {
    "vscode": {
     "languageId": "javascript"
    }
   },
   "outputs": [
    {
     "data": {
      "application/javascript": "\nlet weather = \"sunny\";\nlet transportation = \"available\";\nlet boots = \"present\";\nlet hikelength = \"long\";\n\nconsole.log(\"The weather is \" + weather);\nconsole.log(\"Your transportation is \" + transportation);\nconsole.log(\"Your boots are \" + boots);\nconsole.log(\"The length of the hike is \" + hikelength);\n\nif (weather === \"sunny\") {\n    if (transportation === \"available\") {\n        if (boots === \"present\") {\n            if (hikelength === \"short\") {\n                console.log(\"You are ready to go hiking!\");\n            } else {\n                console.log(\"You need to find a shorter trail. You will get too tired.\");\n            }\n        } else {\n            console.log(\"You need to find your boots first.\");\n        }\n    } else {\n        console.log(\"You need to arrange transportation.\");\n    }\n} else {\n    console.log(\"It's not good weather for hiking.\");\n}\n",
      "text/plain": [
       "<IPython.core.display.Javascript object>"
      ]
     },
     "metadata": {},
     "output_type": "display_data"
    }
   ],
   "source": [
    "%%js\n",
    "\n",
    "let weather = \"sunny\";\n",
    "let transportation = \"available\";\n",
    "let boots = \"present\";\n",
    "let hikelength = \"long\";\n",
    "\n",
    "console.log(\"The weather is \" + weather);\n",
    "console.log(\"Your transportation is \" + transportation);\n",
    "console.log(\"Your boots are \" + boots);\n",
    "console.log(\"The length of the hike is \" + hikelength);\n",
    "\n",
    "if (weather === \"sunny\") {\n",
    "    if (transportation === \"available\") {\n",
    "        if (boots === \"present\") {\n",
    "            if (hikelength === \"short\") {\n",
    "                console.log(\"You are ready to go hiking!\");\n",
    "            } else {\n",
    "                console.log(\"You need to find a shorter trail. You will get too tired.\");\n",
    "            }\n",
    "        } else {\n",
    "            console.log(\"You need to find your boots first.\");\n",
    "        }\n",
    "    } else {\n",
    "        console.log(\"You need to arrange transportation.\");\n",
    "    }\n",
    "} else {\n",
    "    console.log(\"It's not good weather for hiking.\");\n",
    "}"
   ]
  },
  {
   "cell_type": "markdown",
   "metadata": {},
   "source": [
    "# Python Homework Hacks"
   ]
  },
  {
   "cell_type": "markdown",
   "metadata": {},
   "source": [
    "## Hack 1: Write Python pseudocode to decide whether or not to go to the beach."
   ]
  },
  {
   "cell_type": "markdown",
   "metadata": {
    "vscode": {
     "languageId": "javascript"
    }
   },
   "source": [
    "define weather\n",
    "define has_sunscreen\n",
    "define snack_count\n",
    "\n",
    "If weather is sunny\n",
    "    if has_sunscreen is True\n",
    "        if snack_count is greater than or equal to 5\n",
    "            say \"You are ready for beach\"\n",
    "        otherwise\n",
    "            say \"You should get more snacks\"\n",
    "    otherwise\n",
    "        say \"You should buy sunscreen\"\n",
    "otherwise \n",
    "    say \"It isn't a good day to go to the beach\""
   ]
  },
  {
   "cell_type": "markdown",
   "metadata": {},
   "source": [
    "## Hack 2: Write a Python code that checks if you can adopt a pet."
   ]
  },
  {
   "cell_type": "code",
   "execution_count": 12,
   "metadata": {},
   "outputs": [
    {
     "name": "stdout",
     "output_type": "stream",
     "text": [
      "You are not eligible to adopt a pet. Your house is too small.\n"
     ]
    }
   ],
   "source": [
    "age = 19\n",
    "house_sqft = 25\n",
    "available_to_care = True\n",
    "\n",
    "if age > 18:\n",
    "    if house_sqft > 50:\n",
    "        if available_to_care == True:\n",
    "            print(\"You are eligible to adopt a pet.\")\n",
    "        else:\n",
    "            print(\"You are not eligible to adopt a pet. You need to be available to care for the pet.\")\n",
    "    else:\n",
    "        print(\"You are not eligible to adopt a pet. Your house is too small.\")\n",
    "else:\n",
    "    print(\"You are not eligible to adopt a pet. You need to be over 18 years old.\")"
   ]
  },
  {
   "cell_type": "markdown",
   "metadata": {},
   "source": [
    "## Hack 3: Write Python code to determine whether or not to participate in a marathon."
   ]
  },
  {
   "cell_type": "code",
   "execution_count": 13,
   "metadata": {},
   "outputs": [
    {
     "name": "stdout",
     "output_type": "stream",
     "text": [
      "You need to practice more.\n"
     ]
    }
   ],
   "source": [
    "weather = \"clear\"\n",
    "hasRunningShoes = True\n",
    "daysPracticed = 3\n",
    "\n",
    "if weather == \"clear\":\n",
    "    if hasRunningShoes == True:\n",
    "        if daysPracticed > 10:\n",
    "            print(\"You are ready for the marathon!\")\n",
    "        else:\n",
    "            print(\"You need to practice more.\")\n",
    "    else:\n",
    "        print(\"You need to buy running shoes.\")\n",
    "else:\n",
    "    print(\"You need clear weather to run a marathon.\")"
   ]
  },
  {
   "cell_type": "markdown",
   "metadata": {},
   "source": [
    "# Javascript Homework Hacks"
   ]
  },
  {
   "cell_type": "markdown",
   "metadata": {},
   "source": [
    "## Hack 1: Write Javascript pseudocode to decide whether or not to study for an exam."
   ]
  },
  {
   "cell_type": "code",
   "execution_count": 15,
   "metadata": {
    "vscode": {
     "languageId": "javascript"
    }
   },
   "outputs": [
    {
     "data": {
      "application/javascript": "\nlet hasStudyMaterials = true;\nlet hasQuietPlaceToStudy = true;\nlet tirenessLevel = 9;\n\nif (hasStudyMaterials === true) {\n    if (hasQuietPlaceToStudy === true) {\n        if (tirenessLevel < 7) {\n            console.log(\"You should study now.\");\n        } else {\n            console.log(\"You are too tired to study.\");\n        }\n    } else {\n        console.log(\"You need a quiet place to study.\");\n    }\n}\nelse {\n    console.log(\"You need to get study materials.\");\n}\n",
      "text/plain": [
       "<IPython.core.display.Javascript object>"
      ]
     },
     "metadata": {},
     "output_type": "display_data"
    }
   ],
   "source": [
    "%%js\n",
    "\n",
    "let hasStudyMaterials = true;\n",
    "let hasQuietPlaceToStudy = true;\n",
    "let tirenessLevel = 9;\n",
    "\n",
    "if (hasStudyMaterials === true) {\n",
    "    if (hasQuietPlaceToStudy === true) {\n",
    "        if (tirenessLevel < 7) {\n",
    "            console.log(\"You should study now.\");\n",
    "        } else {\n",
    "            console.log(\"You are too tired to study.\");\n",
    "        }\n",
    "    } else {\n",
    "        console.log(\"You need a quiet place to study.\");\n",
    "    }\n",
    "} else {\n",
    "    console.log(\"You need to get study materials.\");\n",
    "}"
   ]
  },
  {
   "cell_type": "markdown",
   "metadata": {},
   "source": [
    "## Hack 2: Write Javascript code deciding whether or not you can bake a cake.\n"
   ]
  },
  {
   "cell_type": "code",
   "execution_count": 16,
   "metadata": {
    "vscode": {
     "languageId": "javascript"
    }
   },
   "outputs": [
    {
     "data": {
      "application/javascript": "\nlet bakingMaterials = \"eggs, sugar, flour\";\nlet oven = \"working\";\nlet time = 2;\n\nif (bakingMaterials === \"eggs, sugar, flour\") {\n    if (oven === \"working\") {\n        if (time >= 1) {\n            console.log(\"You can bake a cake.\");\n        } else {\n            console.log(\"You need to allow more time for baking.\");\n        }\n    } else {\n        console.log(\"You need to fix the oven.\");\n    }\n} else {\n    console.log(\"You need to get baking materials.\");\n}\n",
      "text/plain": [
       "<IPython.core.display.Javascript object>"
      ]
     },
     "metadata": {},
     "output_type": "display_data"
    }
   ],
   "source": [
    "%%js\n",
    "\n",
    "let bakingMaterials = \"eggs, sugar, flour\";\n",
    "let oven = \"working\";\n",
    "let time = 2;\n",
    "\n",
    "if (bakingMaterials === \"eggs, sugar, flour\") {\n",
    "    if (oven === \"working\") {\n",
    "        if (time >= 1) {\n",
    "            console.log(\"You can bake a cake.\");\n",
    "        } else {\n",
    "            console.log(\"You need to allow more time for baking.\");\n",
    "        }\n",
    "    } else {\n",
    "        console.log(\"You need to fix the oven.\");\n",
    "    }\n",
    "} else {\n",
    "    console.log(\"You need to get baking materials.\");\n",
    "}"
   ]
  },
  {
   "cell_type": "markdown",
   "metadata": {},
   "source": [
    "## Hack 3: Write Javascript code to determine whether or not to go camping."
   ]
  },
  {
   "cell_type": "code",
   "execution_count": 17,
   "metadata": {
    "vscode": {
     "languageId": "javascript"
    }
   },
   "outputs": [
    {
     "data": {
      "application/javascript": "\nlet weather = \"clear\";\nlet hasTent = true;\nlet hasEnoughFoodWater = false;\n\nif (weather === \"clear\") {\n    if (hasTent === true) {\n        if (hasEnoughFoodWater === true) {\n            console.log(\"You can go camping.\");\n        } else {\n            console.log(\"You need to get more food and water.\");\n        }\n    } else {\n        console.log(\"You need to bring a tent.\");\n    }\n} else {\n    console.log(\"The weather is not good for camping.\");\n}\n",
      "text/plain": [
       "<IPython.core.display.Javascript object>"
      ]
     },
     "metadata": {},
     "output_type": "display_data"
    }
   ],
   "source": [
    "%%js\n",
    "\n",
    "let weather = \"clear\";\n",
    "let hasTent = true;\n",
    "let hasEnoughFoodWater = false;\n",
    "\n",
    "if (weather === \"clear\") {\n",
    "    if (hasTent === true) {\n",
    "        if (hasEnoughFoodWater === true) {\n",
    "            console.log(\"You can go camping.\");\n",
    "        } else {\n",
    "            console.log(\"You need to get more food and water.\");\n",
    "        }\n",
    "    } else {\n",
    "        console.log(\"You need to bring a tent.\");\n",
    "    }\n",
    "} else {\n",
    "    console.log(\"The weather is not good for camping.\");\n",
    "}"
   ]
  }
 ],
 "metadata": {
  "kernelspec": {
   "display_name": "venv",
   "language": "python",
   "name": "python3"
  },
  "language_info": {
   "codemirror_mode": {
    "name": "ipython",
    "version": 3
   },
   "file_extension": ".py",
   "mimetype": "text/x-python",
   "name": "python",
   "nbconvert_exporter": "python",
   "pygments_lexer": "ipython3",
   "version": "3.10.12"
  }
 },
 "nbformat": 4,
 "nbformat_minor": 2
}

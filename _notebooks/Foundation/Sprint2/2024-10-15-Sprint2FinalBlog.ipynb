{
 "cells": [
  {
   "cell_type": "raw",
   "metadata": {
    "vscode": {
     "languageId": "raw"
    }
   },
   "source": [
    "---\n",
    "layout: post\n",
    "title: Sprint 2 Personal Blog\n",
    "description:  Sprint 2 Personal Blog\n",
    "type: issues \n",
    "comments: true\n",
    "---"
   ]
  },
  {
   "cell_type": "markdown",
   "metadata": {},
   "source": [
    "# Summary Of My Learning\n",
    "\n",
    "### Variables:\n",
    "\n",
    "> A variable acts as a storage location for data, allowing a programmer to use and manipulate that data easily by referring to the variable name instead of the actual value.\n",
    "\n",
    "### Data Abstraction:\n",
    "\n",
    "> Data abstraction involves simplifying complex data structures by focusing only on the necessary details while underlying others. This allows programmers to work with data in a more efficient and understandable way, without needing to manage all the details of how the data is processed.\n",
    "\n",
    "### Mathematical Expressions:\n",
    "\n",
    "> Mathematical expressions are combinations of numbers, variables, and mathematical operators (such as +, -, *, or /) that produce a result when evaluated. In programming, these expressions are used to perform calculations, solve problems, and manipulate numerical data.\n",
    "\n",
    "### Strings:\n",
    "\n",
    "> A string is a sequence of characters used to represent text in programming. Strings can contain letters, numbers, and symbols, and are often used to store and manipulate textual data like words, sentences, or even entire paragraphs.\n",
    "\n",
    "### Booleans:\n",
    "\n",
    "> Booleans represent one of two possible values: true or false. In programming, boolean values are used to make decisions or control the flow of a program by evaluating conditions or expressions that result in a true or false outcome.\n",
    "\n",
    "### Conditionals:\n",
    "\n",
    "> Conditionals are statements in programming that allow decisions to be made based on whether a certain condition is true or false. If the condition is true, the program executes a specific block of code and if it is false, the program may execute a different block or skip the execution entirely.\n",
    "\n",
    "### Nested Conditionals:\n",
    "\n",
    "> Nested conditionals occur when one conditional statement is placed inside another. This allows for more complex decision-making processes, like evaluating multiple conditions. The program will first check the outer condition, and if it is true, it will then evaluate the inner condition.\n",
    "\n",
    "### Iteration:\n",
    "\n",
    "> Iteration is the process of repeatedly executing a block of code. This is typically done using loops, which allow a program to repeat a set of instructions a specified number of times or until a certain condition is met. \n",
    "\n",
    "### Lists:\n",
    "\n",
    "> A list is a data structure that stores multiple values in a single variable. Lists can contain any type of data, including numbers, strings, or even other lists. They allow programmers to organize and manage collections of data, making it easier to access, modify, or iterate over the values stored within them."
   ]
  },
  {
   "cell_type": "markdown",
   "metadata": {},
   "source": [
    "--------------------------------------------------------------------------------------\n",
    "\n",
    "\n",
    "  <table>\n",
    "    <tr>\n",
    "      <th>Section</th>\n",
    "      <th>Link</th>\n",
    "    </tr>\n",
    "    <tr>\n",
    "      <td>3.1</td>\n",
    "      <td><a href=\"https://cyberlord09.github.io/anvay_2025/2024/10/07/3-1-hw_IPYNB_2_.html\">Visit Section 3.1</a></td>\n",
    "    </tr>\n",
    "    <tr>\n",
    "      <td>3.2</td>\n",
    "      <td><a href=\"https://cyberlord09.github.io/anvay_2025/2024/10/11/3-2-hw_IPYNB_2_.html\">Visit Section 3.2</a></td>\n",
    "    </tr>\n",
    "    <tr>\n",
    "      <td>3.3</td>\n",
    "      <td>Our lesson</td>\n",
    "    </tr>\n",
    "    <tr>\n",
    "      <td>3.4</td>\n",
    "      <td><a href=\"https://cyberlord09.github.io/anvay_2025/2024/10/07/3-4-hw_IPYNB_2_.html\">Visit Section 3.4</a></td>\n",
    "    </tr>\n",
    "    <tr>\n",
    "      <td>3.5</td>\n",
    "      <td>Our lesson</td>\n",
    "    </tr>\n",
    "    <tr>\n",
    "      <td>3.6</td>\n",
    "      <td><a href=\"https://cyberlord09.github.io/anvay_2025/2024/10/09/3-6-hw_IPYNB_2_.html\">Visit Section 3.6</a></td>\n",
    "    </tr>\n",
    "    <tr>\n",
    "      <td>3.7</td>\n",
    "      <td><a href=\"https://cyberlord09.github.io/anvay_2025/2024/10/09/3-7-hw_IPYNB_2_.html\">Visit Section 3.7</a></td>\n",
    "    </tr>\n",
    "    <tr>\n",
    "      <td>3.8</td>\n",
    "      <td><a href=\"https://cyberlord09.github.io/anvay_2025/2024/10/09/3-8-hw_IPYNB_2_.html\">Visit Section 3.8</a></td>\n",
    "    </tr>\n",
    "    <tr>\n",
    "      <td>3.10A</td>\n",
    "      <td><a href=\"https://cyberlord09.github.io/anvay_2025/2024/10/10/3-10-hw_IPYNB_2_.html\">Visit Section 3.9</a></td>\n",
    "    </tr>\n",
    "    <tr>\n",
    "      <td>3.10B</td>\n",
    "      <td><a href=\"https://cyberlord09.github.io/anvay_2025/2024/10/09/3-10v2-hw_IPYNB_2_.html\">Visit Section 3.10</a></td>\n",
    "    </tr>\n",
    "        <tr>\n",
    "      <td>Self Study</td>\n",
    "      <td><a href=\"https://cyberlord09.github.io/anvay_2025/2024/10/15/SelfStudyLesson_IPYNB_2_.html\">Visit Self Study</a></td>\n",
    "    </tr>\n",
    "  </table>\n"
   ]
  }
 ],
 "metadata": {
  "kernelspec": {
   "display_name": "venv",
   "language": "python",
   "name": "python3"
  },
  "language_info": {
   "codemirror_mode": {
    "name": "ipython",
    "version": 3
   },
   "file_extension": ".py",
   "mimetype": "text/x-python",
   "name": "python",
   "nbconvert_exporter": "python",
   "pygments_lexer": "ipython3",
   "version": "3.10.12"
  }
 },
 "nbformat": 4,
 "nbformat_minor": 2
}

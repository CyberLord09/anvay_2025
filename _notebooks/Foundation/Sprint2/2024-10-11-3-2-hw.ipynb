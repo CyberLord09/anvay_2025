{
 "cells": [
  {
   "cell_type": "raw",
   "metadata": {
    "vscode": {
     "languageId": "raw"
    }
   },
   "source": [
    "---\n",
    "layout: post\n",
    "title: 3.2 Homework and Popcorn Hacks\n",
    "description:  3.2 Homework and Popcorn Hacks\n",
    "type: issues \n",
    "comments: true\n",
    "permalink: /3-2\n",
    "---"
   ]
  },
  {
   "cell_type": "markdown",
   "metadata": {},
   "source": [
    "# Popcorn Hack 1"
   ]
  },
  {
   "cell_type": "code",
   "execution_count": 6,
   "metadata": {},
   "outputs": [
    {
     "name": "stdout",
     "output_type": "stream",
     "text": [
      "{1, 2, 3, 4, 5, 6}\n",
      "{1, 3, 4, 5, 6}\n",
      "{1, 3, 4, 5, 6, 7, 8, 9}\n",
      "set()\n",
      "{1, 2, 3, 4}\n",
      "4\n"
     ]
    }
   ],
   "source": [
    "## Step 1: Create a Set\n",
    "# Create a set: {1, 2, 3, 4, 5}.\n",
    "my_set = {1, 2, 3, 4, 5}\n",
    "\n",
    "## Step 2: Add an Element\n",
    "# Add 6 to the set.\n",
    "my_set.add(6)\n",
    "print(my_set)\n",
    "\n",
    "## Step 3: Remove an Element\n",
    "# Remove 2 from the set.\n",
    "my_set.remove(2)\n",
    "print(my_set)\n",
    "\n",
    "## Step 4: Union of Sets\n",
    "# Union with {7, 8, 9}.\n",
    "my_set = my_set.union({7, 8, 9})\n",
    "print(my_set)\n",
    "\n",
    "## Step 5: Clear the Set\n",
    "# Clear the set.\n",
    "my_set.clear()\n",
    "print(my_set)\n",
    "\n",
    "## Bonus\n",
    "# Create a set with duplicates: {1, 2, 2, 3, 3, 4}.\n",
    "new_set = {1, 2, 2, 3, 3, 4}\n",
    "print(new_set)\n",
    "\n",
    "# Find the length with len().\n",
    "print(len(new_set))"
   ]
  },
  {
   "cell_type": "markdown",
   "metadata": {},
   "source": [
    "# Popcorn Hack 2"
   ]
  },
  {
   "cell_type": "code",
   "execution_count": 8,
   "metadata": {},
   "outputs": [
    {
     "name": "stdout",
     "output_type": "stream",
     "text": [
      "26\n",
      "Python\n",
      "LEARNING PYTHON IS NOT FUN\n",
      "Learning Python is not good\n",
      "nuf ton si nohtyP gninraeL\n"
     ]
    }
   ],
   "source": [
    "# Step 1: Create a String\n",
    "# Create a string: \"Learning Python is not fun\".\n",
    "my_string = \"Learning Python is not fun\"\n",
    "\n",
    "# Step 2: String Length\n",
    "# Find the length of the string using len().\n",
    "print(len(my_string))\n",
    "\n",
    "# Step 3: String Slicing\n",
    "# Extract \"Python\" from the string using slicing.\n",
    "print(my_string[9:15])\n",
    "\n",
    "# Step 4: String Uppercase\n",
    "# Convert the string to all uppercase letters.\n",
    "print(my_string.upper())\n",
    "\n",
    "# Step 5: String Replace\n",
    "# Replace \"fun\" with \"good\".\n",
    "print(my_string.replace(\"fun\", \"good\"))\n",
    "\n",
    "# Bonus\n",
    "# Reverse the string using slicing.\n",
    "print(my_string[::-1])"
   ]
  },
  {
   "cell_type": "markdown",
   "metadata": {},
   "source": [
    "# Popcorn Hack 3"
   ]
  },
  {
   "cell_type": "code",
   "execution_count": 10,
   "metadata": {},
   "outputs": [
    {
     "name": "stdout",
     "output_type": "stream",
     "text": [
      "7\n",
      "[3, 6, 7, 9, 11]\n",
      "[3, 6, 7, 9, 11, 13]\n",
      "[3, 6, 7, 11, 13]\n",
      "[13, 11, 7, 6, 3]\n"
     ]
    }
   ],
   "source": [
    "## Step 1: Create a List\n",
    "# Create a list of numbers: [3, 5, 7, 9, 11].\n",
    "my_list = [3, 5, 7, 9, 11]\n",
    "\n",
    "## Step 2: Access an Element\n",
    "# Access the third element of the list.\n",
    "print(my_list[2])\n",
    "\n",
    "## Step 3: Modify an Element\n",
    "# Change the second element to 6.\n",
    "my_list[1] = 6\n",
    "print(my_list)\n",
    "\n",
    "## Step 4: Add an Element\n",
    "# Append 13 to the list.\n",
    "my_list.append(13)\n",
    "print(my_list)\n",
    "\n",
    "## Step 5: Remove an Element\n",
    "# Remove the element 9 from the list.\n",
    "my_list.remove(9)\n",
    "print(my_list)\n",
    "\n",
    "## Bonus\n",
    "# Sort the list in descending order.\n",
    "my_list.sort(reverse=True)\n",
    "print(my_list)"
   ]
  },
  {
   "cell_type": "markdown",
   "metadata": {},
   "source": [
    "# Popcorn Hack 4"
   ]
  },
  {
   "cell_type": "code",
   "execution_count": 12,
   "metadata": {},
   "outputs": [
    {
     "name": "stdout",
     "output_type": "stream",
     "text": [
      "{'name': 'John Doe', 'email': 'john@gmail.com', 'phone number': '123-456-7890'}\n",
      "My Name is: John Doe\n",
      "3\n",
      "<class 'dict'>\n",
      "My Name is: Jane Doe\n",
      "{'name': 'Jane Doe', 'email': 'jane@gmail.com', 'phone number': '987-654-3210'}\n"
     ]
    }
   ],
   "source": [
    "## Step 1: Create a Dictionary\n",
    "# Create a dictionary called personal_info.\n",
    "personal_info = {\n",
    "    \"name\": \"John Doe\",\n",
    "    \"email\": \"john@gmail.com\",\n",
    "    \"phone number\": \"123-456-7890\"\n",
    "}\n",
    "\n",
    "## Step 2: Print out the Dictionary\n",
    "# Print the entire dictionary.\n",
    "print(personal_info)\n",
    "\n",
    "## Step 3: Print out the name from your dictionary\n",
    "# Print the name from the dictionary.\n",
    "print(\"My Name is:\", personal_info[\"name\"])\n",
    "\n",
    "## Step 4: Print the Length\n",
    "# Print the length of the dictionary.\n",
    "print(len(personal_info))\n",
    "\n",
    "## Step 5: Print the Type\n",
    "# Print the type of the dictionary.\n",
    "print(type(personal_info))\n",
    "\n",
    "## Bonus\n",
    "# Create another dictionary called personal_info_2.\n",
    "personal_info_2 = {\n",
    "    \"name\": \"Jane Doe\",\n",
    "    \"email\": \"jane@gmail.com\",\n",
    "    \"phone number\": \"987-654-3210\"\n",
    "}\n",
    "\n",
    "# Print the name from the second dictionary.\n",
    "print(\"My Name is:\", personal_info_2[\"name\"])\n",
    "print(personal_info_2)"
   ]
  },
  {
   "cell_type": "markdown",
   "metadata": {},
   "source": [
    "# Homework Hacks"
   ]
  },
  {
   "cell_type": "markdown",
   "metadata": {},
   "source": [
    "## Python"
   ]
  },
  {
   "cell_type": "code",
   "execution_count": 13,
   "metadata": {},
   "outputs": [
    {
     "name": "stdout",
     "output_type": "stream",
     "text": [
      "{'full_name': 'John Doe', 'years': 30, 'location': 'New York', 'favorite_food': 'Pizza'}\n",
      "['Biking', 'Coding', 'Gaming']\n",
      "{'full_name': 'John Doe', 'years': 30, 'location': 'New York', 'favorite_food': 'Pizza', 'activities': ['Biking', 'Coding', 'Gaming']}\n",
      "Is Biking available today? True\n",
      "I have 3 activities.\n",
      "('Biking', 'Coding')\n",
      "None\n",
      "45\n"
     ]
    }
   ],
   "source": [
    "## Part 1: Create Personal Info (dict)\n",
    "# Create a dictionary called personal_info.\n",
    "personal_info = {\n",
    "    \"full_name\": \"John Doe\",\n",
    "    \"years\": 30,\n",
    "    \"location\": \"New York\",\n",
    "    \"favorite_food\": \"Pizza\"\n",
    "}\n",
    "print(personal_info)\n",
    "\n",
    "## Part 2: Create a List of Activities (list)\n",
    "# Create a list called activities.\n",
    "activities = [\"Biking\", \"Coding\", \"Gaming\"]\n",
    "print(activities)\n",
    "\n",
    "## Part 3: Add Activities to Personal Info (dict and list)\n",
    "# Add the activities list to the personal_info dictionary.\n",
    "personal_info[\"activities\"] = activities\n",
    "print(personal_info)\n",
    "\n",
    "## Part 4: Check Availability of an Activity (bool)\n",
    "# Create a boolean variable called activity_available.\n",
    "activity_available = True\n",
    "print(\"Is Biking available today?\", activity_available)\n",
    "\n",
    "## Part 5: Total Number of Activities (int)\n",
    "# Create a variable called total_activities.\n",
    "total_activities = len(activities)\n",
    "print(\"I have\", total_activities, \"activities.\")\n",
    "\n",
    "## Part 6: Favorite Activities (tuple)\n",
    "# Create a tuple called favorite_activities.\n",
    "favorite_activities = (\"Biking\", \"Coding\")\n",
    "print(favorite_activities)\n",
    "\n",
    "## Part 7: Add a New Set of Skills (set)\n",
    "# Create a set called skills.\n",
    "skills = {\"Python\", \"JavaScript\", \"HTML\"}\n",
    "print\n",
    "\n",
    "## Part 8: Consider a New Skill (NoneType)\n",
    "# Create a variable called new_skill.\n",
    "new_skill = None\n",
    "print(new_skill)\n",
    "\n",
    "## Part 9: Calculate Total Hobby and Skill Cost (float)\n",
    "# Calculate the total cost.\n",
    "total_cost = total_activities * 5 + len(skills) * 10\n",
    "print(total_cost)\n"
   ]
  },
  {
   "cell_type": "markdown",
   "metadata": {},
   "source": [
    "## JavaScript"
   ]
  },
  {
   "cell_type": "code",
   "execution_count": null,
   "metadata": {
    "vscode": {
     "languageId": "javascript"
    }
   },
   "outputs": [],
   "source": [
    "%% js\n",
    "\n",
    "// Make an application for an applicant, ask them questions about their name, age, and experiences.\n",
    "var applicant = {\n",
    "    name: prompt(\"What is your name?\"),\n",
    "    age: prompt(\"How old are you?\"),\n",
    "    experiences: prompt(\"What are your experiences?\")\n",
    "};\n",
    "\n",
    "// Store these inputs into a Dictionary, sorting each of their responses into “name”, “age”, and “experiences”\n",
    "var applicantDictionary = {\n",
    "    name: applicant.name,\n",
    "    age: applicant.age,\n",
    "    experiences: applicant.experiences\n",
    "};\n",
    "\n",
    "// Log the users input\n",
    "console.log(applicantDictionary);"
   ]
  },
  {
   "cell_type": "markdown",
   "metadata": {},
   "source": [
    "# Javascript Popcorn Hacks"
   ]
  },
  {
   "cell_type": "markdown",
   "metadata": {},
   "source": [
    "### Sets"
   ]
  },
  {
   "cell_type": "code",
   "execution_count": null,
   "metadata": {
    "vscode": {
     "languageId": "javascript"
    }
   },
   "outputs": [],
   "source": [
    "%%js\n",
    "\n",
    "// Create a set called [Set1] of 3 numbers (can be any number)\n",
    "const Set1 = new Set([1, 2, 3]);\n",
    "\n",
    "// Create a set called [Set2] of different 3 numbers (can be any number)\n",
    "const Set2 = new Set([4, 5, 6]);\n",
    "\n",
    "// log both sets separately\n",
    "console.log(Set1);\n",
    "console.log(Set2);\n",
    "\n",
    "// Add a number and Remove the 1st number from set1\n",
    "Set1.add(8);\n",
    "Set1.delete(1);\n",
    "\n",
    "// log the union of both Set1 and Set2.\n",
    "const union = new Set([...Set1, ...Set2]);\n",
    "console.log(union);"
   ]
  },
  {
   "cell_type": "markdown",
   "metadata": {},
   "source": [
    "### Dictionaries"
   ]
  },
  {
   "cell_type": "code",
   "execution_count": 14,
   "metadata": {
    "vscode": {
     "languageId": "javascript"
    }
   },
   "outputs": [
    {
     "data": {
      "application/javascript": "\n// Create a dictionary called “application” that has someones “name”, “age”, “experiences”, and “money”.\napplication = {\n    name: \"John\",\n    age: 30,\n    experiences: \"Software Engineer\",\n    money: 1000\n}\n\n// log the dictionary to make sure it works\nconsole.log(application);\n\n// log only the dictionary's money\nconsole.log(application.money);\n",
      "text/plain": [
       "<IPython.core.display.Javascript object>"
      ]
     },
     "metadata": {},
     "output_type": "display_data"
    }
   ],
   "source": [
    "%%js \n",
    "\n",
    "// Create a dictionary called “application” that has someones “name”, “age”, “experiences”, and “money”.\n",
    "application = {\n",
    "    name: \"John\",\n",
    "    age: 30,\n",
    "    experiences: \"Software Engineer\",\n",
    "    money: 1000\n",
    "}\n",
    "\n",
    "// log the dictionary to make sure it works\n",
    "console.log(application);\n",
    "\n",
    "// log only the dictionary's money\n",
    "console.log(application.money);"
   ]
  }
 ],
 "metadata": {
  "kernelspec": {
   "display_name": "venv",
   "language": "python",
   "name": "python3"
  },
  "language_info": {
   "codemirror_mode": {
    "name": "ipython",
    "version": 3
   },
   "file_extension": ".py",
   "mimetype": "text/x-python",
   "name": "python",
   "nbconvert_exporter": "python",
   "pygments_lexer": "ipython3",
   "version": "3.10.12"
  }
 },
 "nbformat": 4,
 "nbformat_minor": 2
}

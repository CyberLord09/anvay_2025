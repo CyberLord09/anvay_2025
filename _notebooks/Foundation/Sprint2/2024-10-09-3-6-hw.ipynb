{
 "cells": [
  {
   "cell_type": "raw",
   "metadata": {
    "vscode": {
     "languageId": "raw"
    }
   },
   "source": [
    "---\n",
    "layout: post\n",
    "title: 3.6 Homework and Popcorn Hacks\n",
    "description:  3.6 Homework and Popcorn Hacks\n",
    "type: issues \n",
    "comments: true\n",
    "permalink: /3-6\n",
    "---"
   ]
  },
  {
   "cell_type": "markdown",
   "metadata": {},
   "source": [
    "# Popcorn Hack 1"
   ]
  },
  {
   "cell_type": "code",
   "execution_count": 3,
   "metadata": {},
   "outputs": [
    {
     "name": "stdout",
     "output_type": "stream",
     "text": [
      "It's a warm day\n"
     ]
    }
   ],
   "source": [
    "# Step 1: Add a variable that represents temperature\n",
    "temperature = 65  # You can change this value to test different conditions\n",
    "\n",
    "# Step 2: Check if it's a hot, warm, or cold day\n",
    "if temperature >= 80:\n",
    "    print(\"It's a hot day\")\n",
    "elif 60 <= temperature < 80:\n",
    "    print(\"It's a warm day\")\n",
    "else:\n",
    "    print(\"It's a cold day\")\n",
    "\n",
    "## Verbal explanation of the code: Adding the elif statement adds an extra condition that is checked in the if-else statement. \n",
    "## If the temperature is between 60 and 80, it will print \"It's a warm day\".\n",
    "## If the temperature is less than 60, it will print \"It's a cold day\".\n",
    "## The range also does not include 80 for the elif so it will go until 80 but not inclide 80."
   ]
  },
  {
   "cell_type": "markdown",
   "metadata": {},
   "source": [
    "# Popcorn Hack 2"
   ]
  },
  {
   "cell_type": "code",
   "execution_count": 5,
   "metadata": {
    "vscode": {
     "languageId": "javascript"
    }
   },
   "outputs": [
    {
     "data": {
      "application/javascript": "\nlet score = 85;\n\nif (score >= 60) {\n    console.log(\"You passed!\");\n} else {\n    console.log(\"You failed.\");\n}\n",
      "text/plain": [
       "<IPython.core.display.Javascript object>"
      ]
     },
     "metadata": {},
     "output_type": "display_data"
    }
   ],
   "source": [
    "%%js\n",
    "\n",
    "let score = 85;\n",
    "\n",
    "if (score >= 60) {\n",
    "    console.log(\"You passed!\");\n",
    "} else {\n",
    "    console.log(\"You failed.\");\n",
    "}\n",
    "\n",
    "// Verbal explanation of the code:\n",
    "// If the score is greater than or equal to 60, the code will print \"You passed!\".\n",
    "// Otherwise, it will print \"You failed.\". This uses an if-else statement to check the score and determine the output."
   ]
  },
  {
   "cell_type": "markdown",
   "metadata": {},
   "source": [
    "# Homework Hacks in Python"
   ]
  },
  {
   "cell_type": "markdown",
   "metadata": {},
   "source": [
    "## Hack 1: Odd or Even Checker"
   ]
  },
  {
   "cell_type": "code",
   "execution_count": 9,
   "metadata": {},
   "outputs": [
    {
     "name": "stdout",
     "output_type": "stream",
     "text": [
      "Odd\n",
      "Even\n",
      "Even\n"
     ]
    }
   ],
   "source": [
    "def check_odd_even(num): ## Function to check if a number is odd or even, the function takes a number as an argument\n",
    "    if num % 2 == 0: ## If the number is divisible by 2, it is even\n",
    "        print(\"Even\")\n",
    "    else:\n",
    "        print(\"Odd\")\n",
    "\n",
    "check_odd_even(5)\n",
    "check_odd_even(10)\n",
    "check_odd_even(12)"
   ]
  },
  {
   "cell_type": "markdown",
   "metadata": {},
   "source": [
    "## Hack 2: Leap Year Checker"
   ]
  },
  {
   "cell_type": "code",
   "execution_count": 14,
   "metadata": {},
   "outputs": [
    {
     "name": "stdout",
     "output_type": "stream",
     "text": [
      "Leap Year\n",
      "Not a Leap Year\n",
      "Not a Leap Year\n",
      "Leap Year\n"
     ]
    }
   ],
   "source": [
    "def is_leap_year(year):\n",
    "    # Check if the year is divisible by 4 but not by 100, or divisible by 400\n",
    "    if (year % 4 == 0 and year % 100 != 0) or (year % 400 == 0):\n",
    "        return \"Leap Year\"\n",
    "    else:\n",
    "        return \"Not a Leap Year\"\n",
    "\n",
    "# Test the function with different years\n",
    "print(is_leap_year(1804))\n",
    "print(is_leap_year(1900))\n",
    "print(is_leap_year(2074))\n",
    "print(is_leap_year(2024))"
   ]
  },
  {
   "cell_type": "markdown",
   "metadata": {},
   "source": [
    "## Hack 3: Temperature Range Checker"
   ]
  },
  {
   "cell_type": "code",
   "execution_count": 17,
   "metadata": {},
   "outputs": [
    {
     "name": "stdout",
     "output_type": "stream",
     "text": [
      "Hot\n",
      "Warm\n",
      "Cold\n"
     ]
    }
   ],
   "source": [
    "def temperature_range(temperature): ## Function to check the temperature range, the function takes a temperature as an argument\n",
    "    if temperature >= 85: ## If the temperature is greater than or equal to 85, it is hot\n",
    "        return \"Hot\"\n",
    "    elif 60 <= temperature <= 80:   ## If the temperature is between 60 and 80, it is warm\n",
    "        return \"Warm\"\n",
    "    else:\n",
    "        return \"Cold\" ## If the temperature is less than 60, it is cold\n",
    "    \n",
    "# Test the function with different temperatures\n",
    "print(temperature_range(90))\n",
    "print(temperature_range(70))\n",
    "print(temperature_range(50))"
   ]
  },
  {
   "cell_type": "markdown",
   "metadata": {},
   "source": [
    "# Homework Hacks in Python"
   ]
  },
  {
   "cell_type": "markdown",
   "metadata": {},
   "source": [
    "## Hack 1: Check Voting Eligibility"
   ]
  },
  {
   "cell_type": "code",
   "execution_count": 19,
   "metadata": {
    "vscode": {
     "languageId": "javascript"
    }
   },
   "outputs": [
    {
     "data": {
      "application/javascript": "\nfunction checkVotingEleigibility(age) {\n    if (age >= 18) {\n        return \"You are eligible to vote!\";\n    } else {\n        return \"You are not eligible to vote yet.\";\n    }\n}\n",
      "text/plain": [
       "<IPython.core.display.Javascript object>"
      ]
     },
     "metadata": {},
     "output_type": "display_data"
    }
   ],
   "source": [
    "%%js \n",
    "\n",
    "function checkVotingEleigibility(age) {\n",
    "    if (age >= 18) {\n",
    "        return \"You are eligible to vote!\";\n",
    "    } else {\n",
    "        return \"You are not eligible to vote yet.\";\n",
    "    }\n",
    "}\n",
    "\n",
    "console.log(checkVotingEleigibility(20));\n",
    "console.log(checkVotingEleigibility(15));"
   ]
  },
  {
   "cell_type": "markdown",
   "metadata": {},
   "source": [
    "## Hack 2: Grade Calculator"
   ]
  },
  {
   "cell_type": "code",
   "execution_count": null,
   "metadata": {
    "vscode": {
     "languageId": "javascript"
    }
   },
   "outputs": [],
   "source": [
    "%%js\n",
    "\n",
    "function getGrade(score) {\n",
    "    // if score is greater than or equal to 90, return \"A\"\n",
    "    if (score >= 90) {\n",
    "        return \"A\";\n",
    "    // if score is greater than or equal to 80, return \"B\"\n",
    "    } else if (score >= 80) {\n",
    "        return \"B\";\n",
    "    // if score is greater than or equal to 70, return \"C\"\n",
    "    } else if (score >= 70) {\n",
    "        return \"C\";\n",
    "    // if score is greater than or equal to 60, return \"D\"\n",
    "    } else if (score >= 60) {\n",
    "        return \"D\";\n",
    "    // if score is less than 60, return \"F\"\n",
    "    } else {\n",
    "        return \"F\";\n",
    "    }\n",
    "}\n",
    "\n",
    "console.log(getGrade(85));\n",
    "console.log(getGrade(72));\n",
    "console.log(getGrade(50));\n",
    "console.log(getGrade(95));"
   ]
  },
  {
   "cell_type": "markdown",
   "metadata": {},
   "source": [
    "## Hack 3: Temperature Converter"
   ]
  },
  {
   "cell_type": "code",
   "execution_count": 21,
   "metadata": {
    "vscode": {
     "languageId": "javascript"
    }
   },
   "outputs": [
    {
     "data": {
      "application/javascript": "\nfunction convertTemperature(value, scale) {\n    if (scale === \"C\") {\n        return (value * 9/5) + 32  + \"°F\";\n    } else if (scale === \"F\") {\n        return (value - 32) * 5/9 + \"°C\";\n    } else {\n        return \"Invalid scale\";\n    }\n}\n\nconsole.log(convertTemperature(32, \"C\"));\nconsole.log(convertTemperature(100, \"F\"));\nconsole.log(convertTemperature(0, \"C\"));\nconsole.log(convertTemperature(212, \"F\"));\n",
      "text/plain": [
       "<IPython.core.display.Javascript object>"
      ]
     },
     "metadata": {},
     "output_type": "display_data"
    }
   ],
   "source": [
    "%%js\n",
    "\n",
    "function convertTemperature(value, scale) {\n",
    "    if (scale === \"C\") {\n",
    "        return (value * 9/5) + 32  + \"°F\";\n",
    "    } else if (scale === \"F\") {\n",
    "        return (value - 32) * 5/9 + \"°C\";\n",
    "    } else {\n",
    "        return \"Invalid scale\";\n",
    "    }\n",
    "}\n",
    "\n",
    "console.log(convertTemperature(32, \"C\"));\n",
    "console.log(convertTemperature(100, \"F\"));\n",
    "console.log(convertTemperature(0, \"C\"));\n",
    "console.log(convertTemperature(212, \"F\"));\n",
    "console.log(convertTemperature(50, \"K\"));"
   ]
  }
 ],
 "metadata": {
  "kernelspec": {
   "display_name": "venv",
   "language": "python",
   "name": "python3"
  },
  "language_info": {
   "codemirror_mode": {
    "name": "ipython",
    "version": 3
   },
   "file_extension": ".py",
   "mimetype": "text/x-python",
   "name": "python",
   "nbconvert_exporter": "python",
   "pygments_lexer": "ipython3",
   "version": "3.10.12"
  }
 },
 "nbformat": 4,
 "nbformat_minor": 2
}

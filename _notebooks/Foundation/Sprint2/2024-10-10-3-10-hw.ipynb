{
 "cells": [
  {
   "cell_type": "raw",
   "metadata": {
    "vscode": {
     "languageId": "raw"
    }
   },
   "source": [
    "---\n",
    "layout: post\n",
    "title: 3.10 Homework and Popcorn Hacks\n",
    "description:  3.10 Homework and Popcorn Hacks\n",
    "type: issues \n",
    "comments: true\n",
    "permalink: /3-10\n",
    "---"
   ]
  },
  {
   "cell_type": "markdown",
   "metadata": {},
   "source": [
    "# Popcorn Hack 1"
   ]
  },
  {
   "cell_type": "code",
   "execution_count": 2,
   "metadata": {},
   "outputs": [
    {
     "name": "stdout",
     "output_type": "stream",
     "text": [
      "Your shopping list is:['apple']\n",
      "Your shopping list is:['apple', 'banana']\n",
      "Your shopping list is:['apple', 'banana', 'fig']\n",
      "Your shopping list is:['apple', 'banana', 'fig', 'flour']\n",
      "Your shopping list is:['apple', 'banana', 'fig', 'flour', 'eggs']\n",
      "Your final shopping list is:\n",
      "apple\n",
      "banana\n",
      "fig\n",
      "flour\n",
      "eggs\n"
     ]
    }
   ],
   "source": [
    "def shopping_list():\n",
    "    # Create an empty list to store items\n",
    "    a_list = []\n",
    "\n",
    "    while True:\n",
    "        user_input = input(\"Enter an item you want to add to the shopping list (or 'q' to quit): \")\n",
    "\n",
    "        if user_input == 'q':\n",
    "            break\n",
    "\n",
    "        shopping_list = a_list.append(user_input)\n",
    "\n",
    "        print(\"Your shopping list is:\" + str(a_list))\n",
    "    \n",
    "    # Final display of the shopping list\n",
    "    print(\"Your final shopping list is:\")\n",
    "    \n",
    "    for item in a_list:\n",
    "        print(item)\n",
    "\n",
    "shopping_list()\n"
   ]
  },
  {
   "cell_type": "markdown",
   "metadata": {},
   "source": [
    "# Popcorn Hack 2"
   ]
  },
  {
   "cell_type": "code",
   "execution_count": 4,
   "metadata": {},
   "outputs": [
    {
     "name": "stdout",
     "output_type": "stream",
     "text": [
      "The second element is: pencils\n",
      "The second element has been deleted.\n",
      "The updated list is: ['paper', 'eraser', 'pen', 'pencil case', 'binder']\n"
     ]
    }
   ],
   "source": [
    "# Create an empty list\n",
    "aList = []\n",
    "\n",
    "# Input items into the list\n",
    "while True:\n",
    "    item = input(\"Enter an item to add to the list (or type 'done' to finish): \")\n",
    "    if item.lower() == 'done':\n",
    "        break\n",
    "    aList.append(item)\n",
    "\n",
    "# Display the second element if it exists\n",
    "if len(aList) > 1:\n",
    "    print(f\"The second element is: {aList[1]}\")\n",
    "else:\n",
    "    print(\"The list does not have a second element.\")\n",
    "\n",
    "# Delete the second element if it exists\n",
    "if len(aList) > 1:\n",
    "    del aList[1]\n",
    "    print(\"The second element has been deleted.\")\n",
    "else:\n",
    "    print(\"There was no second element to delete.\")\n",
    "\n",
    "# Display the updated list\n",
    "print(\"The updated list is:\", aList)"
   ]
  },
  {
   "cell_type": "markdown",
   "metadata": {},
   "source": [
    "# Popcorn Hack 3"
   ]
  },
  {
   "cell_type": "code",
   "execution_count": 6,
   "metadata": {
    "vscode": {
     "languageId": "javascript"
    }
   },
   "outputs": [
    {
     "data": {
      "application/javascript": "\n// Create a list of five favorite foods\nlet favoriteFoods = [\"Pizza\", \"Corn\", \"Burgers\", \"Pasta\", \"Ice Cream\"];\n\n// Add two more items to the list using the .push() method\nfavoriteFoods.push(\"Cake\");\nfavoriteFoods.push(\"Chocolate\");\n\n// Find and print the total number of items in the list using .length\nlet totalItems = favoriteFoods.length;\nconsole.log(\"Total number of items in the list:\", totalItems);\n",
      "text/plain": [
       "<IPython.core.display.Javascript object>"
      ]
     },
     "metadata": {},
     "output_type": "display_data"
    }
   ],
   "source": [
    "%%js \n",
    "\n",
    "// Create a list of five favorite foods\n",
    "let favoriteFoods = [\"Pizza\", \"Corn\", \"Burgers\", \"Pasta\", \"Ice Cream\"];\n",
    "\n",
    "// Add two more items to the list using the .push() method\n",
    "favoriteFoods.push(\"Cake\");\n",
    "favoriteFoods.push(\"Chocolate\");\n",
    "\n",
    "// Find and print the total number of items in the list using .length\n",
    "let totalItems = favoriteFoods.length;\n",
    "console.log(\"Total number of items in the list:\", totalItems);"
   ]
  },
  {
   "cell_type": "markdown",
   "metadata": {},
   "source": [
    "# Popcorn Hack 4"
   ]
  },
  {
   "cell_type": "code",
   "execution_count": 10,
   "metadata": {},
   "outputs": [
    {
     "name": "stdout",
     "output_type": "stream",
     "text": [
      "Sum of all even numbers in the list: 30\n"
     ]
    }
   ],
   "source": [
    "# Define the list of integers\n",
    "nums = [1, 2, 3, 4, 5, 6, 7, 8, 9, 10]\n",
    "\n",
    "# Define a variable to represent the sum of even numbers\n",
    "sum_even = 0\n",
    "\n",
    "# Iterate through the list and add even numbers to sum_even\n",
    "for num in nums:\n",
    "    if num % 2 == 0:  # Check if the number is even\n",
    "        sum_even += num  # Add the even number to sum_even\n",
    "\n",
    "# Print the sum of all even numbers in the list\n",
    "print(\"Sum of all even numbers in the list:\", sum_even)"
   ]
  },
  {
   "cell_type": "markdown",
   "metadata": {},
   "source": [
    "# Popcorn Hack 5"
   ]
  },
  {
   "cell_type": "code",
   "execution_count": 8,
   "metadata": {
    "vscode": {
     "languageId": "javascript"
    }
   },
   "outputs": [
    {
     "data": {
      "application/javascript": "let fruits = [\"apple\", \"banana\", \"orange\"];\n\n// Check if \"banana\" is in the list\nif (fruits.includes(\"banana\")) {\n    console.log(\"Banana is in the list at index\", fruits.indexOf(\"banana\"));\n} else {\n    console.log(\"Banana is not in the list.\");\n}\n",
      "text/plain": [
       "<IPython.core.display.Javascript object>"
      ]
     },
     "metadata": {},
     "output_type": "display_data"
    }
   ],
   "source": [
    "%%js\n",
    "let fruits = [\"apple\", \"banana\", \"orange\"];\n",
    "\n",
    "// Check if \"banana\" is in the list\n",
    "if (fruits.includes(\"banana\")) {\n",
    "    console.log(\"Banana is in the list at index\", fruits.indexOf(\"banana\"));\n",
    "} else {\n",
    "    console.log(\"Banana is not in the list.\");\n",
    "}"
   ]
  },
  {
   "cell_type": "markdown",
   "metadata": {},
   "source": [
    "# Homework Hacks"
   ]
  },
  {
   "cell_type": "markdown",
   "metadata": {},
   "source": [
    "## Hack #1 Numbers List (Python)"
   ]
  },
  {
   "cell_type": "code",
   "execution_count": 9,
   "metadata": {},
   "outputs": [
    {
     "name": "stdout",
     "output_type": "stream",
     "text": [
      "20\n"
     ]
    }
   ],
   "source": [
    "# Create a list of numbers\n",
    "numbers = [10, 20, 30, 40, 50]\n",
    "\n",
    "# Print the second element\n",
    "print(numbers[1])"
   ]
  },
  {
   "cell_type": "markdown",
   "metadata": {},
   "source": [
    "## Hack #2 Numbers List (JS)"
   ]
  },
  {
   "cell_type": "code",
   "execution_count": 13,
   "metadata": {
    "vscode": {
     "languageId": "javascript"
    }
   },
   "outputs": [
    {
     "data": {
      "application/javascript": "\nlet numbers = [10, 20, 30, 40, 50];\n\nconsole.log(\"The second element in the array is:\", numbers[1]);\n",
      "text/plain": [
       "<IPython.core.display.Javascript object>"
      ]
     },
     "metadata": {},
     "output_type": "display_data"
    }
   ],
   "source": [
    "%%js \n",
    "\n",
    "let numbers = [10, 20, 30, 40, 50];\n",
    "\n",
    "console.log(\"The second element in the array is:\", numbers[1]);"
   ]
  },
  {
   "cell_type": "markdown",
   "metadata": {},
   "source": [
    "## Hack #3 For loops with lists"
   ]
  },
  {
   "cell_type": "code",
   "execution_count": 18,
   "metadata": {},
   "outputs": [
    {
     "name": "stdout",
     "output_type": "stream",
     "text": [
      "apple\n",
      "banana\n",
      "cherry\n",
      "date\n",
      "fig\n",
      "grape\n"
     ]
    }
   ],
   "source": [
    "fruitList = [\"apple\", \"banana\", \"cherry\", \"date\", \"fig\", \"grape\"] # Create a list of fruits\n",
    "\n",
    "for fruit in fruitList: # Loop through each fruit in the list\n",
    "    print(fruit) # Print the fruit"
   ]
  },
  {
   "cell_type": "markdown",
   "metadata": {},
   "source": [
    "## Hack #4 Todo-List Python"
   ]
  },
  {
   "cell_type": "code",
   "execution_count": 15,
   "metadata": {},
   "outputs": [
    {
     "name": "stdout",
     "output_type": "stream",
     "text": [
      "Invalid action. Please try again.\n",
      "Added 'math hw' to the to-do list.\n",
      "Added 'essay' to the to-do list.\n",
      "Added 'CSP' to the to-do list.\n",
      "Added 'chem' to the to-do list.\n",
      "Removed 'math hw' from the to-do list.\n",
      "To-Do List:\n",
      "essay\n",
      "CSP\n",
      "chem\n"
     ]
    }
   ],
   "source": [
    "# Create an empty list to store the to-do items\n",
    "to_do_list = []\n",
    "\n",
    "# Define a function to add an item to the to-do list\n",
    "def add_item(item):\n",
    "    to_do_list.append(item)\n",
    "    print(f\"Added '{item}' to the to-do list.\")\n",
    "\n",
    "# Define a function to remove an item from the to-do list\n",
    "def remove_item(item):\n",
    "    if item in to_do_list:\n",
    "        to_do_list.remove(item)\n",
    "        print(f\"Removed '{item}' from the to-do list.\")\n",
    "    else:\n",
    "        print(f\"'{item}' is not in the to-do list.\")\n",
    "\n",
    "# Define a function to view the to-do list\n",
    "def view_list():\n",
    "    print(\"To-Do List:\")\n",
    "    for item in to_do_list:\n",
    "        print(item)\n",
    "\n",
    "# Main program loop\n",
    "while True:\n",
    "    action = input(\"Enter 'add' to add an item, 'remove' to remove an item, 'view' to view the list, or 'quit' to exit: \")\n",
    "    \n",
    "    if action == 'add':\n",
    "        item = input(\"Enter the item to add: \")\n",
    "        add_item(item)\n",
    "    elif action == 'remove':\n",
    "        item = input(\"Enter the item to remove: \")\n",
    "        remove_item(item)\n",
    "    elif action == 'view':\n",
    "        view_list()\n",
    "    elif action == 'quit':\n",
    "        break\n",
    "    else:\n",
    "        print(\"Invalid action. Please try again.\")"
   ]
  },
  {
   "cell_type": "markdown",
   "metadata": {},
   "source": [
    "## Hack #5 Workout Tracker JS"
   ]
  },
  {
   "cell_type": "code",
   "execution_count": null,
   "metadata": {
    "vscode": {
     "languageId": "javascript"
    }
   },
   "outputs": [],
   "source": [
    "%%js\n",
    "\n",
    "// Create an empty list to store the workouts\n",
    "let workoutList = [];\n",
    "\n",
    "// Function to add a workout\n",
    "function addWorkout(type, duration, calories) {\n",
    "    let workout = {\n",
    "        type: type,\n",
    "        duration: duration,\n",
    "        calories: calories\n",
    "    };\n",
    "    workoutList.push(workout);\n",
    "    console.log(`Added workout: ${type}, Duration: ${duration} minutes, Calories: ${calories} kcal.`);\n",
    "}\n",
    "\n",
    "// Function to remove a workout by its index\n",
    "function removeWorkout(index) {\n",
    "    if (index >= 0 && index < workoutList.length) {\n",
    "        const removed = workoutList.splice(index, 1);\n",
    "        console.log(`Removed workout: ${removed[0].type}`);\n",
    "    } else {\n",
    "        console.log(\"Invalid index. Unable to remove workout.\");\n",
    "    }\n",
    "}\n",
    "\n",
    "// Function to view the workout list\n",
    "function viewWorkouts() {\n",
    "    console.log(\"Workout List:\");\n",
    "    workoutList.forEach((workout, index) => {\n",
    "        console.log(`${index + 1}: Type: ${workout.type}, Duration: ${workout.duration} minutes, Calories: ${workout.calories} kcal.`);\n",
    "    });\n",
    "}\n",
    "\n",
    "// Main program loop\n",
    "while (true) {\n",
    "    let action = prompt(\"Enter 'add' to log a workout, 'remove' to delete a workout, 'view' to see workouts, or 'quit' to exit:\");\n",
    "    \n",
    "    if (action === 'add') {\n",
    "        let type = prompt(\"Enter workout type:\");\n",
    "        let duration = prompt(\"Enter duration in minutes:\");\n",
    "        let calories = prompt(\"Enter calories burned:\");\n",
    "        addWorkout(type, duration, calories);\n",
    "    } else if (action === 'remove') {\n",
    "        let index = prompt(\"Enter the workout number to remove:\") - 1;\n",
    "        removeWorkout(index);\n",
    "    } else if (action === 'view') {\n",
    "        viewWorkouts();\n",
    "    } else if (action === 'quit') {\n",
    "        break;\n",
    "    } else {\n",
    "        console.log(\"Invalid action. Please try again.\");\n",
    "    }\n",
    "}\n"
   ]
  }
 ],
 "metadata": {
  "kernelspec": {
   "display_name": "venv",
   "language": "python",
   "name": "python3"
  },
  "language_info": {
   "codemirror_mode": {
    "name": "ipython",
    "version": 3
   },
   "file_extension": ".py",
   "mimetype": "text/x-python",
   "name": "python",
   "nbconvert_exporter": "python",
   "pygments_lexer": "ipython3",
   "version": "3.10.12"
  }
 },
 "nbformat": 4,
 "nbformat_minor": 2
}

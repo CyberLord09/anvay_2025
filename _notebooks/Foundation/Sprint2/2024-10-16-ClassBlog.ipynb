{
 "cells": [
  {
   "cell_type": "raw",
   "metadata": {
    "vscode": {
     "languageId": "raw"
    }
   },
   "source": [
    "---\n",
    "layout: post\n",
    "title: Class Blog\n",
    "description: Class Blog\n",
    "type: issues\n",
    "comments: true\n",
    "---"
   ]
  },
  {
   "cell_type": "markdown",
   "metadata": {},
   "source": [
    "--------------------------------------------------------------------------------------\n",
    "\n",
    "\n",
    "  <table>\n",
    "    <tr>\n",
    "      <th>Name</th>\n",
    "      <th>Link</th>\n",
    "    </tr>\n",
    "    <tr>\n",
    "      <td>Anvay's Group</td>\n",
    "      <td><a href=\"https://cyberlord09.github.io/anvay_2025/2024/10/15/BlogofBlogs_IPYNB_2_.html\">Visit Team Blog</a></td>\n",
    "    </tr>\n",
    "    <tr>\n",
    "      <td>Maryam's Group</td>\n",
    "      <td><a href=\"https://maryamabdul-aziz.github.io/maryam_2025//2024/10/16/team-blog.html\">Visit Team Blog</a></td>\n",
    "    </tr>\n",
    "    <tr>\n",
    "      <td>Weston's Group</td>\n",
    "      <td><a href=\"https://voyager162.github.io/weston_2025/posts/teamBlog/\">Visit Team Blog</a></td>\n",
    "    </tr>\n",
    "    <tr>\n",
    "      <td>Noah's Group</td>\n",
    "      <td><a href=\"\">Visit Team Blog</a></td>\n",
    "    </tr>\n",
    "    <tr>\n",
    "      <td>Risha's Group</td>\n",
    "      <td><a href=\"https://blackstar3092.github.io/risha_guha_2025_1/sprint/2/team-blog\">Visit Team Blog</a></td>\n",
    "    </tr>\n",
    "    <tr>\n",
    "      <td>Thomas's Group</td>\n",
    "      <td><a href=\"\">Visit Team Blog</a></td>\n",
    "    </tr>\n",
    "    <tr>\n",
    "      <td>Gaheera's Group</td>\n",
    "      <td><a href=\"\">Visit Team Blog</a></td>\n",
    "    </tr>\n",
    "  </table>\n"
   ]
  }
 ],
 "metadata": {
  "kernelspec": {
   "display_name": "venv",
   "language": "python",
   "name": "python3"
  },
  "language_info": {
   "codemirror_mode": {
    "name": "ipython",
    "version": 3
   },
   "file_extension": ".py",
   "mimetype": "text/x-python",
   "name": "python",
   "nbconvert_exporter": "python",
   "pygments_lexer": "ipython3",
   "version": "3.10.12"
  }
 },
 "nbformat": 4,
 "nbformat_minor": 2
}

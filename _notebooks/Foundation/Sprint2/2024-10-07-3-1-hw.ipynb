{
 "cells": [
  {
   "cell_type": "raw",
   "metadata": {
    "vscode": {
     "languageId": "raw"
    }
   },
   "source": [
    "---\n",
    "layout: post\n",
    "title: 3.1 Homework and Popcorn Hacks\n",
    "description:  3.1 Homework and Popcorn Hacks\n",
    "type: issues \n",
    "comments: true\n",
    "---"
   ]
  },
  {
   "cell_type": "markdown",
   "metadata": {},
   "source": [
    "# Popcorn Hack 1"
   ]
  },
  {
   "cell_type": "code",
   "execution_count": 1,
   "metadata": {},
   "outputs": [
    {
     "name": "stdout",
     "output_type": "stream",
     "text": [
      "Yuva Kiruthic Pranav Anvay Rayhaan\n"
     ]
    }
   ],
   "source": [
    "memberOne = \"Yuva\"\n",
    "memberTwo = \"Kiruthic\"\n",
    "memberThree = \"Pranav\"\n",
    "memberFour = \"Anvay\"\n",
    "memberFive = \"Rayhaan\"\n",
    "\n",
    "print(memberOne, memberTwo, memberThree, memberFour, memberFive)"
   ]
  },
  {
   "cell_type": "markdown",
   "metadata": {},
   "source": [
    "# Popcorn Hack 2"
   ]
  },
  {
   "cell_type": "code",
   "execution_count": 5,
   "metadata": {},
   "outputs": [
    {
     "name": "stdout",
     "output_type": "stream",
     "text": [
      "Apples are red\n",
      "Bananas are yellow\n",
      "Grapes are purple\n"
     ]
    }
   ],
   "source": [
    "fruits = {\n",
    "    \"apple\": \"red\",\n",
    "    \"banana\": \"yellow\",\n",
    "    \"cherry\": \"red\",\n",
    "    \"date\": \"brown\",\n",
    "    \"fig\": \"purple\",\n",
    "    \"grape\": \"purple\",\n",
    "}\n",
    "\n",
    "print(\"Apples are \" + fruits[\"apple\"])\n",
    "print(\"Bananas are \" + fruits[\"banana\"])\n",
    "print(\"Grapes are \" + fruits[\"grape\"])"
   ]
  },
  {
   "cell_type": "markdown",
   "metadata": {},
   "source": [
    "# Popcorn Hack 3"
   ]
  },
  {
   "cell_type": "code",
   "execution_count": null,
   "metadata": {
    "vscode": {
     "languageId": "javascript"
    }
   },
   "outputs": [
    {
     "data": {
      "application/javascript": "\nlet mixedArray = [true, \"apple\", false, \"banana\", true, \"cherry\"];\n\nconsole.log(mixedArray);\n",
      "text/plain": [
       "<IPython.core.display.Javascript object>"
      ]
     },
     "metadata": {},
     "output_type": "display_data"
    }
   ],
   "source": [
    "%%js \n",
    "\n",
    "let mixedArray = [true, \"apple\", false, \"banana\", true, \"cherry\"];\n",
    "\n",
    "console.log(mixedArray); // the array contains both booleans and strings"
   ]
  },
  {
   "cell_type": "markdown",
   "metadata": {},
   "source": [
    "# Homework Hacks"
   ]
  },
  {
   "cell_type": "markdown",
   "metadata": {},
   "source": [
    "## Const and Let"
   ]
  },
  {
   "cell_type": "code",
   "execution_count": null,
   "metadata": {
    "vscode": {
     "languageId": "javascript"
    }
   },
   "outputs": [
    {
     "data": {
      "application/javascript": "\nconst name = \"Anvay\";  // const because the name won't change\nlet age = 15;          // let because the age might change\nconst city = \"San Diego\";\nlet hobby = \"playing video games\"; \n\nconsole.log(\"Name: \" + name);\nconsole.log(\"Age: \" + age);\nconsole.log(\"City: \" + city);\nconsole.log(\"Hobby: \" + hobby);\n\n/* How did I access the console?\n\n1. I used the console.log() function to print the variables to the console.\n2. I used my browser's developer tools (A.K.A \"Inspect\") to view the console output \n3. I was able to view the log outputs in the \"Console\" tab of the developer tools\n\n*/\n\nfunction createSentence() {\n    let sentence = `${name} is ${age} years old, lives in ${city}, and enjoys ${hobby}.`;\n    \n    console.log(sentence);\n}\n\n// Call the function to display the final sentence\ncreateSentence();\n",
      "text/plain": [
       "<IPython.core.display.Javascript object>"
      ]
     },
     "metadata": {},
     "output_type": "display_data"
    }
   ],
   "source": [
    "%%js \n",
    "\n",
    "const name = \"Anvay\";  // const because the name won't change\n",
    "let age = 15;          // let because the age might change\n",
    "const city = \"San Diego\";\n",
    "let hobby = \"playing video games\"; \n",
    "\n",
    "console.log(\"Name: \" + name);\n",
    "console.log(\"Age: \" + age);\n",
    "console.log(\"City: \" + city);\n",
    "console.log(\"Hobby: \" + hobby);\n",
    "\n",
    "/* How did I access the console?\n",
    "\n",
    "1. I used the console.log() function to print the variables to the console.\n",
    "2. I used my browser's developer tools (A.K.A \"Inspect\") to view the console output \n",
    "3. I was able to view the log outputs in the \"Console\" tab of the developer tools\n",
    "\n",
    "*/\n",
    "\n",
    "function createSentence() {\n",
    "    let sentence = `${name} is ${age} years old, lives in ${city}, and enjoys ${hobby}.`;\n",
    "    \n",
    "    console.log(sentence);\n",
    "}\n",
    "\n",
    "// Call the function to display the final sentence\n",
    "createSentence();\n"
   ]
  },
  {
   "cell_type": "markdown",
   "metadata": {},
   "source": [
    "## Average Grade Calculator"
   ]
  },
  {
   "cell_type": "code",
   "execution_count": null,
   "metadata": {
    "vscode": {
     "languageId": "javascript"
    }
   },
   "outputs": [
    {
     "data": {
      "application/javascript": "\n// Function to calculate the average grade of a student\nfunction calculateAverageGrade(grades) {\n    let total = 0;\n    for (let i = 0; i < grades.length; i++) { // loops through each grade in the array using index i\n        total += grades[i];  // Adds each grade to the total\n    }\n    // Calculate the average by dividing the total by the number of grades\n    let average = total / grades.length;\n    return average;\n}\n\n// Create an array of students with their info and grades\nconst students = [\n    {\n        name: \"John\",\n        age: 15,\n        grades: [90, 85, 88]\n    },\n    {\n        name: \"Bob\",\n        age: 16,\n        grades: [78, 82, 80]\n    },\n    {\n        name: \"Mike\",\n        age: 14,\n        grades: [95, 92, 90]\n    }\n];\n\n// Loop through each student in the array and calculate their average grade\nfor (let i = 0; i < students.length; i++) {\n    let student = students[i];  // Get each student's info\n    let averageGrade = calculateAverageGrade(student.grades);  // Call the function to get average\n    student.averageGrade = averageGrade;  // Add average grade to the student dictionary\n\n    // Log the info to console\n    console.log(`${student.name}, Age: ${student.age}, Average Grade: ${averageGrade.toFixed(2)}`);\n}\n",
      "text/plain": [
       "<IPython.core.display.Javascript object>"
      ]
     },
     "metadata": {},
     "output_type": "display_data"
    }
   ],
   "source": [
    "%%js \n",
    "\n",
    "// Function to calculate the average grade of a student\n",
    "function calculateAverageGrade(grades) {\n",
    "    let total = 0;\n",
    "    for (let i = 0; i < grades.length; i++) { // loops through each grade in the array using index i\n",
    "        total += grades[i];  // Adds each grade to the total\n",
    "    }\n",
    "    // Calculate the average by dividing the total by the number of grades\n",
    "    let average = total / grades.length;\n",
    "    return average;\n",
    "}\n",
    "\n",
    "// Create an array of students with their info and grades\n",
    "const students = [\n",
    "    {\n",
    "        name: \"John\",\n",
    "        age: 15,\n",
    "        grades: [90, 85, 88]\n",
    "    },\n",
    "    {\n",
    "        name: \"Bob\",\n",
    "        age: 16,\n",
    "        grades: [78, 82, 80]\n",
    "    },\n",
    "    {\n",
    "        name: \"Mike\",\n",
    "        age: 14,\n",
    "        grades: [95, 92, 90]\n",
    "    }\n",
    "];\n",
    "\n",
    "// Loop through each student in the array and calculate their average grade\n",
    "for (let i = 0; i < students.length; i++) {\n",
    "    let student = students[i];  // Get each student's info\n",
    "    let averageGrade = calculateAverageGrade(student.grades);  // Call the function to get average\n",
    "    student.averageGrade = averageGrade;  // Add average grade to the student dictionary\n",
    "\n",
    "    // Log the info to console\n",
    "    console.log(`${student.name}, Age: ${student.age}, Average Grade: ${averageGrade.toFixed(2)}`);\n",
    "}\n"
   ]
  }
 ],
 "metadata": {
  "kernelspec": {
   "display_name": "venv",
   "language": "python",
   "name": "python3"
  },
  "language_info": {
   "codemirror_mode": {
    "name": "ipython",
    "version": 3
   },
   "file_extension": ".py",
   "mimetype": "text/x-python",
   "name": "python",
   "nbconvert_exporter": "python",
   "pygments_lexer": "ipython3",
   "version": "3.10.12"
  }
 },
 "nbformat": 4,
 "nbformat_minor": 2
}

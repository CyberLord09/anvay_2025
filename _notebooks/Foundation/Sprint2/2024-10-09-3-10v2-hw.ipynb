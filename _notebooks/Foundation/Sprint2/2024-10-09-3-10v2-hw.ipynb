{
 "cells": [
  {
   "cell_type": "raw",
   "metadata": {
    "vscode": {
     "languageId": "raw"
    }
   },
   "source": [
    "---\n",
    "layout: post\n",
    "title: 3.10v2 Homework and Popcorn Hacks\n",
    "description:  3.10v2 Homework and Popcorn Hacks\n",
    "type: issues \n",
    "comments: true\n",
    "permalink: /3-10v2\n",
    "---"
   ]
  },
  {
   "cell_type": "markdown",
   "metadata": {},
   "source": [
    "# Popcorn Hack 1"
   ]
  },
  {
   "cell_type": "code",
   "execution_count": 3,
   "metadata": {},
   "outputs": [
    {
     "name": "stdout",
     "output_type": "stream",
     "text": [
      "After inserting 35 at second-to-last position: [10, 20, 30, 40, 35, 50]\n",
      "After inserting 25 at third-to-last position: [10, 20, 30, 40, 25, 35, 50]\n",
      "After inserting 45 at last position: [10, 20, 30, 40, 25, 35, 45, 50]\n"
     ]
    }
   ],
   "source": [
    "# Create an initial list with some numbers\n",
    "my_list = [10, 20, 30, 40, 50]\n",
    "\n",
    "# Insert a value at the second-to-last position\n",
    "my_list.insert(-1, 35)\n",
    "print(\"After inserting 35 at second-to-last position:\", my_list)\n",
    "\n",
    "# Insert a value at the third-to-last position\n",
    "my_list.insert(-2, 25)\n",
    "print(\"After inserting 25 at third-to-last position:\", my_list)\n",
    "\n",
    "# Insert a value at the last position\n",
    "my_list.insert(-1, 45)\n",
    "print(\"After inserting 45 at last position:\", my_list)"
   ]
  },
  {
   "cell_type": "markdown",
   "metadata": {},
   "source": [
    "# Popcorn Hack 2"
   ]
  },
  {
   "cell_type": "code",
   "execution_count": 4,
   "metadata": {},
   "outputs": [
    {
     "name": "stdout",
     "output_type": "stream",
     "text": [
      "Combined list: [1, 2, 3, 4, 5, 6, 7, 8, 9, 10]\n"
     ]
    }
   ],
   "source": [
    "# Create the first list with some numbers\n",
    "list1 = [1, 2, 3, 4, 5]\n",
    "\n",
    "# Create the second list with some numbers\n",
    "list2 = [6, 7, 8, 9, 10]\n",
    "\n",
    "# Add the second list to the first list using the extend() method\n",
    "list1.extend(list2)\n",
    "\n",
    "# Print the combined list\n",
    "print(\"Combined list:\", list1)"
   ]
  },
  {
   "cell_type": "markdown",
   "metadata": {},
   "source": [
    "# Popcorn Hack 3"
   ]
  },
  {
   "cell_type": "code",
   "execution_count": 5,
   "metadata": {},
   "outputs": [
    {
     "name": "stdout",
     "output_type": "stream",
     "text": [
      "['apple', 'date', 'fig', 'grape']\n"
     ]
    }
   ],
   "source": [
    "fruits = [\"apple\", \"banana\", \"cherry\", \"date\", \"elderberry\", \"fig\", \"grape\"]\n",
    "\n",
    "fruits.remove(\"banana\")\n",
    "fruits.pop(3)\n",
    "del fruits[1]\n",
    "\n",
    "print(fruits)"
   ]
  },
  {
   "cell_type": "markdown",
   "metadata": {},
   "source": [
    "# Popcorn Hack 4"
   ]
  },
  {
   "cell_type": "code",
   "execution_count": 7,
   "metadata": {
    "vscode": {
     "languageId": "javascript"
    }
   },
   "outputs": [
    {
     "data": {
      "application/javascript": "\nvar array = [1, 2, 3, 4, 5, 6, 7, 8, 9, 10];\narray.reverse();\n\nprint(array);\n",
      "text/plain": [
       "<IPython.core.display.Javascript object>"
      ]
     },
     "metadata": {},
     "output_type": "display_data"
    }
   ],
   "source": [
    "%%js \n",
    "\n",
    "var array = [1, 2, 3, 4, 5, 6, 7, 8, 9, 10];\n",
    "array.reverse();\n",
    "\n",
    "console.log(array);"
   ]
  },
  {
   "cell_type": "markdown",
   "metadata": {},
   "source": [
    "# Popcorn Hack 5"
   ]
  },
  {
   "cell_type": "code",
   "execution_count": 9,
   "metadata": {
    "vscode": {
     "languageId": "javascript"
    }
   },
   "outputs": [
    {
     "data": {
      "application/javascript": "\n// Create an initial array\nlet fruits = ['apple', 'banana', 'cherry'];\n\n// Add elements to the beginning of the array using unshift()\nfruits.unshift('orange', 'grape');\n\n// Print the updated array\nconsole.log(fruits); // Output: ['orange', 'grape', 'apple', 'banana', 'cherry']\n\n// Create an initial array\nlet vegetables = ['carrot', 'broccoli', 'spinach'];\n\n// Add elements to the beginning of the array using the spread operator\nlet moreVegetables = ['potato', 'tomato', ...vegetables];\n\n// Print the updated array\nconsole.log(moreVegetables); // Output: ['potato', 'tomato', 'carrot', 'broccoli', 'spinach']\n",
      "text/plain": [
       "<IPython.core.display.Javascript object>"
      ]
     },
     "metadata": {},
     "output_type": "display_data"
    }
   ],
   "source": [
    "%%js \n",
    "\n",
    "// Create an initial array\n",
    "let fruits = ['apple', 'banana', 'cherry'];\n",
    "\n",
    "// Add elements to the beginning of the array using unshift()\n",
    "fruits.unshift('orange', 'grape');\n",
    "\n",
    "// Print the updated array\n",
    "console.log(fruits); // Output: ['orange', 'grape', 'apple', 'banana', 'cherry']\n",
    "\n",
    "// Create an initial array\n",
    "let vegetables = ['carrot', 'broccoli', 'spinach'];\n",
    "\n",
    "// Add elements to the beginning of the array using the spread operator\n",
    "let moreVegetables = ['potato', 'tomato', ...vegetables];\n",
    "\n",
    "// Print the updated array\n",
    "console.log(moreVegetables); // Output: ['potato', 'tomato', 'carrot', 'broccoli', 'spinach']\n"
   ]
  },
  {
   "cell_type": "markdown",
   "metadata": {},
   "source": [
    "# Popcorn Hack 6"
   ]
  },
  {
   "cell_type": "code",
   "execution_count": 10,
   "metadata": {
    "vscode": {
     "languageId": "javascript"
    }
   },
   "outputs": [
    {
     "data": {
      "application/javascript": "\nvar carBrands = ['Toyota', 'Ford', 'BMW', 'Mercedes', 'Audi', 'Chevrolet', 'Honda'];\n\nvar longBrandCount = carBrands.filter(brand => brand.length > 4).length; \n\nconsole.log(longBrandCount);\n",
      "text/plain": [
       "<IPython.core.display.Javascript object>"
      ]
     },
     "metadata": {},
     "output_type": "display_data"
    }
   ],
   "source": [
    "%%js \n",
    "\n",
    "var carBrands = ['Toyota', 'Ford', 'BMW', 'Mercedes', 'Audi', 'Chevrolet', 'Honda'];\n",
    "\n",
    "var longBrandCount = carBrands.filter(brand => brand.length > 4).length; \n",
    "\n",
    "console.log(longBrandCount);"
   ]
  },
  {
   "cell_type": "markdown",
   "metadata": {},
   "source": [
    "# Homework Hacks"
   ]
  },
  {
   "cell_type": "markdown",
   "metadata": {},
   "source": [
    "## Hack #1 Grocery List"
   ]
  },
  {
   "cell_type": "code",
   "execution_count": 11,
   "metadata": {},
   "outputs": [
    {
     "name": "stdout",
     "output_type": "stream",
     "text": [
      "Current grocery list: ['apple', 'flour', 'milk']\n",
      "Updated grocery list: ['apple', 'milk']\n"
     ]
    }
   ],
   "source": [
    "# Create an empty list to store grocery items\n",
    "grocery_list = []\n",
    "\n",
    "# Input three grocery items and add them to the list\n",
    "grocery_list.append(input(\"Enter first grocery item: \"))\n",
    "grocery_list.append(input(\"Enter second grocery item: \"))\n",
    "grocery_list.append(input(\"Enter third grocery item: \"))\n",
    "\n",
    "# Display the current grocery list after all items are added\n",
    "print(\"Current grocery list:\", grocery_list)\n",
    "\n",
    "# Sort the list alphabetically and print the sorted list\n",
    "grocery_list.sort()\n",
    "\n",
    "# Remove one item specified by them and display the updated list\n",
    "grocery_list.remove(input(\"Enter an item to remove: \"))\n",
    "\n",
    "print(\"Updated grocery list:\", grocery_list)"
   ]
  },
  {
   "cell_type": "markdown",
   "metadata": {},
   "source": [
    "## Hack #2 Filtering Even Numbers"
   ]
  },
  {
   "cell_type": "code",
   "execution_count": 12,
   "metadata": {},
   "outputs": [
    {
     "name": "stdout",
     "output_type": "stream",
     "text": [
      "Original list: [1, 2, 3, 4, 5, 6, 7, 8, 9, 10, 11, 12, 13, 14, 15, 16, 17, 18, 19, 20]\n",
      "Even numbers: [2, 4, 6, 8, 10, 12, 14, 16, 18, 20]\n"
     ]
    }
   ],
   "source": [
    "# Create a list of integers from 1 to 20\n",
    "original_list = list(range(1, 21))\n",
    "\n",
    "# Print the original list\n",
    "print(\"Original list:\", original_list)\n",
    "\n",
    "# Create a new list that contains only the even numbers from the original list\n",
    "even_numbers = [number for number in original_list if number % 2 == 0]\n",
    "\n",
    "# Print the list of even numbers\n",
    "print(\"Even numbers:\", even_numbers)"
   ]
  },
  {
   "cell_type": "markdown",
   "metadata": {},
   "source": [
    "## Hack #3 Student Grades"
   ]
  },
  {
   "cell_type": "code",
   "execution_count": 15,
   "metadata": {},
   "outputs": [
    {
     "name": "stdout",
     "output_type": "stream",
     "text": [
      "Grades: [40, 76, 82]\n",
      "Passing grades: [76, 82]\n"
     ]
    }
   ],
   "source": [
    "# Create an empty list to store student grades\n",
    "grades = []\n",
    "\n",
    "# Input three grades and add them to the list\n",
    "grades.append(int(input(\"Enter first grade: \")))\n",
    "grades.append(int(input(\"Enter second grade: \")))\n",
    "grades.append(int(input(\"Enter third grade: \")))\n",
    "\n",
    "# Display the list of grades after all grades are entered\n",
    "print(\"Grades:\", grades)\n",
    "\n",
    "# Create a new list that contains only grades above 60\n",
    "passing_grades = [grade for grade in grades if grade > 60]\n",
    "\n",
    "# Display the list of passing grades\n",
    "print(\"Passing grades:\", passing_grades)"
   ]
  },
  {
   "cell_type": "markdown",
   "metadata": {},
   "source": [
    "## Hack #4 List Ordering"
   ]
  },
  {
   "cell_type": "code",
   "execution_count": 21,
   "metadata": {},
   "outputs": [
    {
     "name": "stdout",
     "output_type": "stream",
     "text": [
      "Original list: [1, 2, 3, 4, 5, 6, 7, 8, 9, 10]\n",
      "First five numbers: [10, 9, 8, 7, 6]\n",
      "Sorted list: [1, 2, 3, 4, 5, 6, 7, 8, 9, 10]\n"
     ]
    }
   ],
   "source": [
    "# Create a list of numbers from 1 to 10\n",
    "numbers = list(range(1, 11))\n",
    "\n",
    "# Print the original list\n",
    "print(\"Original list:\", numbers)\n",
    "\n",
    "# Sort the list in descending order\n",
    "numbers.sort(reverse=True)\n",
    "\n",
    "# Slice the list to get the first five numbers\n",
    "first_five = numbers[:5]\n",
    "\n",
    "# Print the first five numbers\n",
    "print(\"First five numbers:\", first_five)\n",
    "\n",
    "# Sort the list in ascending order\n",
    "numbers.sort()\n",
    "\n",
    "# Print the sorted list\n",
    "print(\"Sorted list:\", numbers)"
   ]
  },
  {
   "cell_type": "markdown",
   "metadata": {},
   "source": [
    "## Hack #5 Making an Array"
   ]
  },
  {
   "cell_type": "code",
   "execution_count": 17,
   "metadata": {
    "vscode": {
     "languageId": "javascript"
    }
   },
   "outputs": [
    {
     "data": {
      "application/javascript": "\n// Create an array with at least 5 values\nlet myArray = ['apple', 'banana', 'cherry', 'date', 'fig'];\n\n// Display the array using console.log()\nconsole.log(\"Original array:\", myArray);\n\n// Reverse the array using the reverse() method\nmyArray.reverse();\n\n// Display the reversed array using console.log()\nconsole.log(\"Reversed array:\", myArray);\n",
      "text/plain": [
       "<IPython.core.display.Javascript object>"
      ]
     },
     "metadata": {},
     "output_type": "display_data"
    }
   ],
   "source": [
    "%%js \n",
    "\n",
    "// Create an array with at least 5 values\n",
    "let myArray = ['apple', 'banana', 'cherry', 'date', 'fig'];\n",
    "\n",
    "// Display the array using console.log()\n",
    "console.log(\"Original array:\", myArray);\n",
    "\n",
    "// Reverse the array using the reverse() method\n",
    "myArray.reverse();\n",
    "\n",
    "// Display the reversed array using console.log()\n",
    "console.log(\"Reversed array:\", myArray);"
   ]
  },
  {
   "cell_type": "markdown",
   "metadata": {},
   "source": [
    "## Hack #6 Indexing"
   ]
  },
  {
   "cell_type": "code",
   "execution_count": 18,
   "metadata": {
    "vscode": {
     "languageId": "javascript"
    }
   },
   "outputs": [
    {
     "data": {
      "application/javascript": "\n// Define the array\nlet sports = [\"soccer\", \"football\", \"basketball\", \"wrestling\", \"swimming\"];\n\n// Display the values \"soccer\" and \"wrestling\" using their indexes\nconsole.log(sports[0]); // Output: soccer\nconsole.log(sports[3]); // Output: wrestling\n",
      "text/plain": [
       "<IPython.core.display.Javascript object>"
      ]
     },
     "metadata": {},
     "output_type": "display_data"
    }
   ],
   "source": [
    "%%js \n",
    "\n",
    "// Define the array\n",
    "let sports = [\"soccer\", \"football\", \"basketball\", \"wrestling\", \"swimming\"];\n",
    "\n",
    "// Display the values \"soccer\" and \"wrestling\" using their indexes\n",
    "console.log(sports[0]); // Output: soccer\n",
    "console.log(sports[3]); // Output: wrestling"
   ]
  },
  {
   "cell_type": "markdown",
   "metadata": {},
   "source": [
    "## Hack #7 Student Grades"
   ]
  },
  {
   "cell_type": "code",
   "execution_count": null,
   "metadata": {
    "vscode": {
     "languageId": "javascript"
    }
   },
   "outputs": [
    {
     "data": {
      "application/javascript": "\n// Initialize the array with four items\nlet choresList = ['dishes', 'laundry', 'vacuum', 'trash'];\n\n// Display the initial list\nconsole.log(\"Initial list:\", choresList);\n\n// Use push() to add an item to the end of the list\nchoresList.push('mop');\nconsole.log(\"After push('mop'):\", choresList);\n\n// Use shift() to remove the first item from the list\nchoresList.shift();\nconsole.log(\"After shift():\", choresList);\n\n// Use pop() to remove the last item from the list\nchoresList.pop();\nconsole.log(\"After pop():\", choresList);\n\n// Use unshift() to add an item to the beginning of the list\nchoresList.unshift('groceries');\nconsole.log(\"After unshift('groceries'):\", choresList);\n\n// Bonus: Use push() and the spread operator to add multiple values at once\nchoresList.push(...['windows', 'bathroom']);\nconsole.log(\"After push(...['windows', 'bathroom']):\", choresList);\n",
      "text/plain": [
       "<IPython.core.display.Javascript object>"
      ]
     },
     "metadata": {},
     "output_type": "display_data"
    }
   ],
   "source": [
    "%%js\n",
    "\n",
    "// Initialize the array with four items\n",
    "let choresList = ['dishes', 'laundry', 'vacuum', 'trash'];\n",
    "\n",
    "// Display the initial list\n",
    "console.log(\"Initial list:\", choresList);\n",
    "\n",
    "// Use push() to add an item to the end of the list\n",
    "choresList.push('mop');\n",
    "console.log(\"After push('mop'):\", choresList);\n",
    "\n",
    "// Use shift() to remove the first item from the list\n",
    "choresList.shift();\n",
    "console.log(\"After shift():\", choresList);\n",
    "\n",
    "// Use pop() to remove the last item from the list\n",
    "choresList.pop();\n",
    "console.log(\"After pop():\", choresList);\n",
    "\n",
    "// Use unshift() to add an item to the beginning of the list\n",
    "choresList.unshift('groceries');\n",
    "console.log(\"After unshift('groceries'):\", choresList);\n",
    "\n",
    "// Bonus: Use push() and the spread operator to add multiple values at once\n",
    "choresList.push(...['windows', 'bathroom']);\n",
    "console.log(\"After push(...['windows', 'bathroom']):\", choresList);"
   ]
  },
  {
   "cell_type": "markdown",
   "metadata": {},
   "source": [
    "## Hack #8 Student Grades"
   ]
  },
  {
   "cell_type": "code",
   "execution_count": 20,
   "metadata": {
    "vscode": {
     "languageId": "javascript"
    }
   },
   "outputs": [
    {
     "data": {
      "application/javascript": "\n// Create an array with ten random numbers (both even and odd)\nlet randomNumbers = [12, 7, 22, 35, 44, 19, 28, 31, 50, 13];\n\n// Function to count the number of even numbers in the array\nfunction countEvenNumbers(arr) {\n    let evenCount = 0;\n    for (let i = 0; i < arr.length; i++) {\n        if (arr[i] % 2 === 0) {\n            evenCount++;\n        }\n    }\n    return evenCount;\n}\n\n// Call the function and display the output using console.log()\nlet evenNumberCount = countEvenNumbers(randomNumbers);\nconsole.log(\"Number of even numbers in the array:\", evenNumberCount);\n",
      "text/plain": [
       "<IPython.core.display.Javascript object>"
      ]
     },
     "metadata": {},
     "output_type": "display_data"
    }
   ],
   "source": [
    "%%js\n",
    "\n",
    "// Create an array with ten random numbers (both even and odd)\n",
    "let randomNumbers = [12, 7, 22, 35, 44, 19, 28, 31, 50, 13];\n",
    "\n",
    "// Function to count the number of even numbers in the array\n",
    "function countEvenNumbers(arr) {\n",
    "    let evenCount = 0;\n",
    "    for (let i = 0; i < arr.length; i++) {\n",
    "        if (arr[i] % 2 === 0) {\n",
    "            evenCount++;\n",
    "        }\n",
    "    }\n",
    "    return evenCount;\n",
    "}\n",
    "\n",
    "// Call the function and display the output using console.log()\n",
    "let evenNumberCount = countEvenNumbers(randomNumbers);\n",
    "console.log(\"Number of even numbers in the array:\", evenNumberCount);\n"
   ]
  }
 ],
 "metadata": {
  "kernelspec": {
   "display_name": "venv",
   "language": "python",
   "name": "python3"
  },
  "language_info": {
   "codemirror_mode": {
    "name": "ipython",
    "version": 3
   },
   "file_extension": ".py",
   "mimetype": "text/x-python",
   "name": "python",
   "nbconvert_exporter": "python",
   "pygments_lexer": "ipython3",
   "version": "3.10.12"
  }
 },
 "nbformat": 4,
 "nbformat_minor": 2
}

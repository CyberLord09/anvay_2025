{
 "cells": [
  {
   "cell_type": "raw",
   "metadata": {
    "vscode": {
     "languageId": "raw"
    }
   },
   "source": [
    "---\n",
    "layout: post\n",
    "title: 3.8 Homework and Popcorn Hacks\n",
    "description:  3.8 Homework and Popcorn Hacks\n",
    "type: issues \n",
    "comments: true\n",
    "---"
   ]
  },
  {
   "cell_type": "markdown",
   "metadata": {},
   "source": [
    "# Popcorn Hack 1"
   ]
  },
  {
   "cell_type": "code",
   "execution_count": 7,
   "metadata": {},
   "outputs": [
    {
     "name": "stdout",
     "output_type": "stream",
     "text": [
      "Hello\n",
      "Hello\n",
      "Hello\n",
      "Hello\n",
      "Hello\n"
     ]
    }
   ],
   "source": [
    "counter = 5 # Initialize the counter variable\n",
    "\n",
    "while 1 <= counter <= 5:  # Loop while the counter is between 1 and 5 (including 5)\n",
    "    print(\"Hello\") # Print \"Hello\"\n",
    "    counter -= 1 # Decrement the counter by 1"
   ]
  },
  {
   "cell_type": "markdown",
   "metadata": {},
   "source": [
    "# Popcorn Hack 2"
   ]
  },
  {
   "cell_type": "code",
   "execution_count": 9,
   "metadata": {},
   "outputs": [
    {
     "name": "stdout",
     "output_type": "stream",
     "text": [
      "Anvay\n",
      "Varin\n",
      "Varin\n",
      "Vahia\n",
      "Vahia\n",
      "Vahia\n",
      "\n",
      "Anvay\n",
      "Varin\n",
      "Varin\n",
      "Vahia\n",
      "Vahia\n",
      "Vahia\n",
      "\n",
      "Anvay\n",
      "Varin\n",
      "Varin\n",
      "Vahia\n",
      "Vahia\n",
      "Vahia\n",
      "\n",
      "Anvay\n",
      "Varin\n",
      "Varin\n",
      "Vahia\n",
      "Vahia\n",
      "Vahia\n",
      "\n"
     ]
    }
   ],
   "source": [
    "# Define the names\n",
    "first_name = \"Anvay\"\n",
    "middle_name = \"Varin\"\n",
    "last_name = \"Vahia\"\n",
    "\n",
    "# Repeat the entire sequence 4 times by initializing a repeat count\n",
    "repeat_count = 0\n",
    "\n",
    "while repeat_count < 4:\n",
    "    # Print the first name one time\n",
    "    print(first_name)\n",
    "    \n",
    "    # Print the middle name two times\n",
    "    middle_count = 0\n",
    "    while middle_count < 2:\n",
    "        print(middle_name)\n",
    "        middle_count += 1\n",
    "    \n",
    "    # Print the last name three times\n",
    "    last_count = 0\n",
    "    while last_count < 3:\n",
    "        print(last_name)\n",
    "        last_count += 1\n",
    "    \n",
    "    print() # Print a blank line\n",
    "    \n",
    "    # Increment the repeat count\n",
    "    repeat_count += 1"
   ]
  },
  {
   "cell_type": "markdown",
   "metadata": {},
   "source": [
    "# Popcorn Hack 3"
   ]
  },
  {
   "cell_type": "code",
   "execution_count": 11,
   "metadata": {},
   "outputs": [
    {
     "name": "stdout",
     "output_type": "stream",
     "text": [
      "A\n",
      "n\n",
      "v\n",
      "a\n",
      "y\n"
     ]
    }
   ],
   "source": [
    "myname = \"Anvay\" # Initialize the string variable myname\n",
    "\n",
    "for letter in myname: # Loop through each letter in the string\n",
    "    print(letter) # Print the letter"
   ]
  },
  {
   "cell_type": "markdown",
   "metadata": {},
   "source": [
    "# Popcorn Hack 4"
   ]
  },
  {
   "cell_type": "code",
   "execution_count": 15,
   "metadata": {},
   "outputs": [
    {
     "name": "stdout",
     "output_type": "stream",
     "text": [
      "The color of apple is red.\n",
      "The color of banana is yellow.\n",
      "The color of cherry is red.\n",
      "The color of date is brown.\n",
      "The color of fig is purple.\n",
      "The color of grape is purple.\n"
     ]
    }
   ],
   "source": [
    "# Create a dictionary\n",
    "fruit_dict = {\n",
    "    \"apple\": \"red\",\n",
    "    \"banana\": \"yellow\",\n",
    "    \"cherry\": \"red\",\n",
    "    \"date\": \"brown\",\n",
    "    \"fig\": \"purple\",\n",
    "    \"grape\": \"purple\"\n",
    "}\n",
    "\n",
    "# Iterate through each key and value in the dictionary\n",
    "for key, value in fruit_dict.items():\n",
    "    # Print the key, value, and a custom message\n",
    "    print(f\"The color of {key} is {value}.\")"
   ]
  },
  {
   "cell_type": "markdown",
   "metadata": {},
   "source": [
    "# Popcorn Hack 5"
   ]
  },
  {
   "cell_type": "code",
   "execution_count": null,
   "metadata": {},
   "outputs": [
    {
     "name": "stdout",
     "output_type": "stream",
     "text": [
      "The color of apple is red.\n",
      "The color of banana is yellow.\n",
      "The color of cherry is red.\n",
      "The color of date is brown.\n",
      "The color of fig is purple.\n",
      "The color of grape is purple.\n"
     ]
    }
   ],
   "source": [
    "# Create a dictionary\n",
    "fruit_dict = {\n",
    "    \"apple\": \"red\",\n",
    "    \"banana\": \"yellow\",\n",
    "    \"cherry\": \"red\",\n",
    "    \"date\": \"brown\",\n",
    "    \"fig\": \"purple\",\n",
    "    \"grape\": \"purple\"\n",
    "}\n",
    "\n",
    "# Iterate through each key and value in the dictionary\n",
    "for key, value in fruit_dict.items():\n",
    "    # Print the key, value, and a custom message\n",
    "    print(f\"The color of {key} is {value}.\")"
   ]
  },
  {
   "cell_type": "markdown",
   "metadata": {},
   "source": [
    "# Homework Hacks"
   ]
  },
  {
   "cell_type": "markdown",
   "metadata": {},
   "source": [
    "## Hack #1 While loops"
   ]
  },
  {
   "cell_type": "code",
   "execution_count": 16,
   "metadata": {},
   "outputs": [
    {
     "name": "stdout",
     "output_type": "stream",
     "text": [
      "Incorrect password. Try again.\n",
      "Incorrect password. Try again.\n",
      "Incorrect password. Try again.\n",
      "Incorrect password. Try again.\n",
      "Incorrect password. Try again.\n",
      "Password accepted.\n"
     ]
    }
   ],
   "source": [
    "password = input(\"Enter your password: \") # Prompt the user to enter a password\n",
    "\n",
    "while password != \"secret\": # Loop while the password is incorrect\n",
    "    print(\"Incorrect password. Try again.\") # Print an error message\n",
    "    password = input(\"Enter your password: \") # Prompt the user to enter a password again\n",
    "\n",
    "print(\"Password accepted.\") # Print a success message"
   ]
  },
  {
   "cell_type": "markdown",
   "metadata": {},
   "source": [
    "## Hack #2 For loops"
   ]
  },
  {
   "cell_type": "code",
   "execution_count": 17,
   "metadata": {},
   "outputs": [
    {
     "name": "stdout",
     "output_type": "stream",
     "text": [
      "A\n",
      "n\n",
      "v\n",
      "a\n",
      "y\n"
     ]
    }
   ],
   "source": [
    "usersName = input(\"Enter your name: \") # Prompt the user to enter their name\n",
    "\n",
    "for letter in usersName: # Loop through each letter in the input\n",
    "    print(letter) # Print the letter"
   ]
  },
  {
   "cell_type": "markdown",
   "metadata": {},
   "source": [
    "## Hack #3 For loops with lists"
   ]
  },
  {
   "cell_type": "code",
   "execution_count": 18,
   "metadata": {},
   "outputs": [
    {
     "name": "stdout",
     "output_type": "stream",
     "text": [
      "apple\n",
      "banana\n",
      "cherry\n",
      "date\n",
      "fig\n",
      "grape\n"
     ]
    }
   ],
   "source": [
    "fruitList = [\"apple\", \"banana\", \"cherry\", \"date\", \"fig\", \"grape\"] # Create a list of fruits\n",
    "\n",
    "for fruit in fruitList: # Loop through each fruit in the list\n",
    "    print(fruit) # Print the fruit"
   ]
  }
 ],
 "metadata": {
  "kernelspec": {
   "display_name": "venv",
   "language": "python",
   "name": "python3"
  },
  "language_info": {
   "codemirror_mode": {
    "name": "ipython",
    "version": 3
   },
   "file_extension": ".py",
   "mimetype": "text/x-python",
   "name": "python",
   "nbconvert_exporter": "python",
   "pygments_lexer": "ipython3",
   "version": "3.10.12"
  }
 },
 "nbformat": 4,
 "nbformat_minor": 2
}

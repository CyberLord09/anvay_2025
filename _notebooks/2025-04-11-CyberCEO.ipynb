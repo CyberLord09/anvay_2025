{
 "cells": [
  {
   "cell_type": "raw",
   "id": "d03dc784",
   "metadata": {
    "vscode": {
     "languageId": "raw"
    }
   },
   "source": [
    "---\n",
    "layout: post\n",
    "title: CyberCEO Lesson Extra Credit Blog\n",
    "description: CyberCEO Lesson Extra Credit Blog\n",
    "type: issues \n",
    "comments: true\n",
    "---"
   ]
  },
  {
   "cell_type": "markdown",
   "id": "2073ffdb",
   "metadata": {},
   "source": [
    "I was part of the leadership team for CyberCEO, thanks!"
   ]
  }
 ],
 "metadata": {
  "language_info": {
   "name": "python"
  }
 },
 "nbformat": 4,
 "nbformat_minor": 5
}

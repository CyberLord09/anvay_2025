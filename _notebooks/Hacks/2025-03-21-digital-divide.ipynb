{
 "cells": [
  {
   "cell_type": "raw",
   "metadata": {
    "vscode": {
     "languageId": "raw"
    }
   },
   "source": [
    "---\n",
    "layout: post\n",
    "title: Digital Divide Homework and Popcorn Hacks\n",
    "type: issues \n",
    "comments: true\n",
    "---"
   ]
  },
  {
   "cell_type": "markdown",
   "metadata": {},
   "source": [
    "# Popcorn Hack 1:\n",
    "\n",
    "Identify one area (e.g., education, employment, healthcare, or community participation) where you’ve seen the digital divide in action. How does it affect people in different socioeconomic backgrounds?\n",
    "- One area where the digital divide really shows up is in education. A lot of students in lower-income communities don’t have access to the same tech as others. That could mean not having a laptop at home, or having to rely on slow internet or even no internet at all. During remote learning, this was a huge problem. Some students couldn’t attend Zoom calls regularly or had trouble turning in assignments online. Meanwhile, students from wealthier backgrounds had fast internet, working computers, and quiet places to focus. This puts students without those tools at a disadvantage, even if they’re just as capable. It makes it harder for them to stay caught up, which can lead to lower grades and fewer opportunities later on. The digital divide doesn’t just affect learning, it affects their future.\n",
    "\n",
    "\n",
    "# Popcorn Hack 2: \n",
    "\n",
    "Can you think of a computing innovation that might unintentionally exclude certain groups? Why might that happen?\n",
    "- A computing innovation that might accidentally exclude people is facial recognition. It’s used in phones, airports, and even in security systems, but it doesn’t always work the same for everyone. Studies have shown that these systems are less accurate for people with darker skin tones, especially women. That happens because a lot of the data used to train the models is mostly made up of lighter-skinned faces. If someone isn’t represented well in the data, the system might not recognize them correctly. This can lead to problems like being denied access or even being wrongly identified in serious situations. Even though the technology wasn’t made to be unfair, it still ends up being unfair for certain groups. This shows how important it is to test tech with a diverse group of people so it works for everyone, not just one type of user."
   ]
  },
  {
   "cell_type": "markdown",
   "metadata": {},
   "source": [
    "# Homework Hack:\n",
    "\n",
    "Write 5 sentences describing what you have noticed about the digital divide in your own community. Consider how socioeconomic factors, location, and access to technology may play a role. Then explain how you can personally help bridge this gap—perhaps through awareness, advocating for policy changes, or supporting community-based tech programs. Make sure each sentence provides a clear insight or action step. Submit your 5 sentences in the next class.\n",
    "- In my community, I’ve noticed that students who live in lower-income neighborhoods often don’t have access to fast internet or personal devices at home, which makes it harder for them to complete assignments. Some families rely on shared devices or public Wi-Fi, while others don’t have access at all, especially in more rural areas. This creates a clear gap in opportunities between students who have access to technology and those who don’t. I can help bridge this gap by raising awareness in school clubs and encouraging others to donate working devices they no longer use. I can also support local programs that offer tech education and access to students who need it the most."
   ]
  }
 ],
 "metadata": {
  "language_info": {
   "name": "python"
  }
 },
 "nbformat": 4,
 "nbformat_minor": 2
}

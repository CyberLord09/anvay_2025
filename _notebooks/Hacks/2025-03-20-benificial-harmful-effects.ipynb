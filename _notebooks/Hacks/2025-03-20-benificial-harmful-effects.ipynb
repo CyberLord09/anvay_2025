{
 "cells": [
  {
   "cell_type": "raw",
   "metadata": {
    "vscode": {
     "languageId": "raw"
    }
   },
   "source": [
    "---\n",
    "layout: post\n",
    "title: Benificial and Harmful Effects Homework and Popcorn Hacks\n",
    "type: issues \n",
    "comments: true\n",
    "permalink: /5-1\n",
    "---"
   ]
  },
  {
   "cell_type": "markdown",
   "metadata": {},
   "source": [
    "# Popcorn Hack 1:\n",
    "\n",
    "What do You Think is a Beneficial Effect?\n",
    "- A beneficial effect is something that improves people’s lives, makes tasks easier, or gives more access to helpful tools or information. For example, technology that helps people communicate faster or get medical help quicker is considered beneficial. It usually has a positive impact on society and helps solve problems or create new opportunities.\n",
    "\n",
    "\n",
    "What do You Think is a Harmful Effect?\n",
    "- A harmful effect is something that creates new problems, causes stress, or negatively affects people’s lives. For example, when technology leads to cyberbullying or spreads false information, it can hurt people emotionally or mislead them. A harmful effect usually causes confusion, inequality, or damage to individuals or groups.\n",
    "\n",
    "\n",
    "# Popcorn Hack 2:\n",
    "\n",
    "What do you think is the most beneficial out of these (or pick your own)? Why? Also, brainstrom additional beneficial effects of technology.\n",
    "- I think the most beneficial out of these is Access to Education. Technology has made it so much easier to learn outside of school. Now we can use online textbooks, educational videos, and even take full classes online. This really helps people who can’t afford expensive materials or who live far from schools or libraries. Having fast access to information helps people grow their knowledge, stay curious, and become more independent learners.\n",
    "- Some other beneficial effects of technology include helping doctors discover diseases earlier, making communication easier through texting and video calls, and allowing people to work from home. It also helps people with disabilities by giving them tools like speech-to-text or screen readers, which makes things more fair and accessible.\n",
    "\n",
    "# Popcorn Hack #3\n",
    "\n",
    "Pick a dilema from above. Do you think it’s more beneficial or harmful?\n",
    "- The dilemma I chose was using gene editing, and I think it’s more beneficial than harmful. Gene editing can help scientists fix or remove genes that cause diseases, which could save a lot of lives and improve people’s health. It has the potential to prevent things like cancer, inherited disorders, and other serious conditions before they even start. While there are some risks, like using it in unfair ways or changing traits for non-medical reasons, I think those problems can be controlled with good laws and ethical guidelines."
   ]
  },
  {
   "cell_type": "markdown",
   "metadata": {},
   "source": [
    "# Homework Hacks\n",
    "\n",
    "Based on the brainstorming you did during the lesson, pick a beneficial or harmful effect and in 5 sentences fully explain why you think this topic is beneficial of harmful?\n",
    "- One harmful effect of technology that I believe is really important is the spread of misinformation through social media. Social media platforms are used by millions of people every day to stay updated on news, trends, and current events, but not everything shared is true or verified. Because information spreads so quickly online, false stories or misleading posts can go viral before anyone has the chance to fact-check them. This is dangerous because it can cause people to believe things that aren’t accurate, leading to confusion, panic, or even hate toward certain groups. I think this is harmful because it can shape how people think and act, even if they don’t realize they’re being misled. It also makes it harder for real, trustworthy information to reach people when they need it most. \n",
    "\n",
    "\n",
    "# My MCQ Score And Answers\n",
    "\n",
    "![Image](https://github.com/user-attachments/assets/4613e761-5dd1-48d5-b0ed-88961e39505a)\n",
    "\n",
    "1. Social Media – Answer: B (Increased connectivity and an increase in cyberbullying)\n",
    "Social media helps people stay connected and share information easily, which is a positive effect. However, it has also led to a rise in cyberbullying and the spread of misinformation, which are negative effects. So the best answer is one that reflects both a benefit and a harm, which is B—increased connectivity (benefit) and an increase in cyberbullying (harm).\n",
    "\n",
    "2. Artificial Intelligence – Answer: A (Job displacement and economic inequality)\n",
    "AI can automate many tasks, which can improve productivity, but it can also replace human jobs, especially in industries like manufacturing or customer service. This may lead to job loss and widen the economic gap, especially for people without access to retraining. That’s why A is correct—it describes a harmful effect of AI: job displacement and economic inequality.\n",
    "\n",
    "3. Smartphones – Answer: C (Increased screen time and decreased social interaction)\n",
    "Smartphones help people access information and stay in touch, but they also lead to too much screen time. This can cause people to spend less time interacting face-to-face, which can affect social skills and relationships. So the harmful effect is best described by C: increased screen time and decreased social interaction.\n",
    "\n",
    "4. Electric Buses – Answer: B (Reduced air pollution and lower operating expenses)\n",
    "Electric buses produce fewer emissions than diesel or gas buses, which helps reduce air pollution. They also cost less to operate over time, since they use electricity instead of fuel and have fewer moving parts to maintain. That’s why B is the best beneficial effect: reduced air pollution and lower operating expenses.\n",
    "\n",
    "5. Video Streaming – Answer: D (More entertainment options but increased decision fatigue)\n",
    "Streaming services give people access to tons of shows and movies, which is convenient. But having too many choices can overwhelm users and make it harder to decide what to watch. This isn’t necessarily good or bad, it’s more of a neutral side effect. So D is the best answer: more entertainment options but increased decision fatigue."
   ]
  }
 ],
 "metadata": {
  "language_info": {
   "name": "python"
  }
 },
 "nbformat": 4,
 "nbformat_minor": 2
}

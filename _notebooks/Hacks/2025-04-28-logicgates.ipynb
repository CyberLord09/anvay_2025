{
 "cells": [
  {
   "cell_type": "raw",
   "id": "2665e32d",
   "metadata": {
    "vscode": {
     "languageId": "raw"
    }
   },
   "source": [
    "---\n",
    "layout: post\n",
    "title: Binary Base 2 and Logic Gates HW and Popcorn Hacks\n",
    "type: issues \n",
    "comments: true\n",
    "permalink: /2-10\n",
    "---"
   ]
  },
  {
   "cell_type": "markdown",
   "id": "9942f509",
   "metadata": {},
   "source": [
    "## Popcorn Hack 1: Examples for Identifying Binary\n",
    "\n",
    "Example 1:\n",
    " - Number: 101010\n",
    " - This is binary becuase there are only 0's and 1's \n",
    "\n",
    "Example 2:\n",
    " - Number: 12301\n",
    " - Digits other than 0 and 1 are present\n",
    "\n",
    "Example 3:\n",
    " - Number: 11001\n",
    " - This is binary becuase there are only 0's and 1's \n",
    "\n",
    "## Popcorn Hack 2: Adding and Subtracting Using Binary\n",
    "\n",
    "Example 1:\n",
    " - Binary Numbers: 101 + 110\n",
    " - Add starting from the right: 1 + 0 = 1, 0 + 1 = 1, 1 + 1 = 10 (carry over 1). Result: 1011.\n",
    "\n",
    "Example 2:\n",
    " - Binary Numbers: 1101 - 1011\n",
    " - Start from the right: 1 - 1 = 0, 0 - 1 requires borrowing, 10 - 0 = 10, 1 - 1 = 0. Result: 010.\n",
    "\n",
    "Example 3:\n",
    " - Binary Numbers: 111 + 1001\n",
    " - Add starting from the right: 1 + 1 = 10 (carry over 1), 1 + 0 + 1 = 10 (carry over 1), 1 + 0 + 1 = 10 (carry over 1). Result: 1110.\n",
    "\n",
    "\n",
    "---------------------\n",
    "\n",
    "\n",
    "## Popcorn Hack 1:\n",
    "\n",
    "What will be the result of this expression?\n",
    "\n",
    "`True or False and False`\n",
    "\n",
    "ANSWER: TRUE\n",
    "\n",
    "\n",
    "## Popcorn Hack 2:\n",
    "\n",
    "What will be the result of this expression?\n",
    "\n",
    "`not True and False`\n",
    "\n",
    "ANSWER: FALSE\n",
    "\n",
    "\n",
    "## Popcorn Hack 3:\n",
    "\n",
    "What will be the result of this expression?\n",
    "\n",
    "`True or False and not False`\n",
    "\n",
    "ANSWER: TRUE"
   ]
  },
  {
   "cell_type": "markdown",
   "id": "c60484bf",
   "metadata": {},
   "source": [
    "# Homework Hack: Binary Converter\n",
    "\n",
    "Here is my code below:"
   ]
  },
  {
   "cell_type": "code",
   "execution_count": null,
   "id": "332a48d8",
   "metadata": {},
   "outputs": [
    {
     "name": "stdout",
     "output_type": "stream",
     "text": [
      "Decimal to Binary:\n",
      "10 → 1010\n",
      "-15 → -1111\n",
      "0 → 0\n",
      "\n",
      "Binary to Decimal:\n",
      "1010 → 10\n",
      "-1111 → -15\n",
      "0 → 0\n"
     ]
    }
   ],
   "source": [
    "def decimal_to_binary(decimal_num):\n",
    "    \"\"\"Converts a decimal number to binary (returns a string).\"\"\"\n",
    "    if decimal_num == 0:\n",
    "        return \"0\"\n",
    "    elif decimal_num < 0:\n",
    "        return \"-\" + bin(decimal_num)[3:]  # Remove '-0b' prefix\n",
    "    else:\n",
    "        return bin(decimal_num)[2:]  # Remove '0b' prefix\n",
    "\n",
    "def binary_to_decimal(binary_str):\n",
    "    if binary_str.startswith(\"-\"):\n",
    "        return -int(binary_str[1:], 2)\n",
    "    else:\n",
    "        return int(binary_str, 2)\n",
    "\n",
    "# Testing\n",
    "print(\"Decimal to Binary:\")\n",
    "print(f\"10 → {decimal_to_binary(10)}\")\n",
    "print(f\"-15 → {decimal_to_binary(-15)}\")\n",
    "print(f\"0 → {decimal_to_binary(0)}\")\n",
    "\n",
    "print(\"\\nBinary to Decimal:\")\n",
    "print(f\"1010 → {binary_to_decimal('1010')}\")\n",
    "print(f\"-1111 → {binary_to_decimal('-1111')}\")\n",
    "print(f\"0 → {binary_to_decimal('0')}\")"
   ]
  },
  {
   "cell_type": "markdown",
   "id": "9ff4109a",
   "metadata": {},
   "source": [
    "# Homework Hack 2: Difficulty Level Checker\n",
    "\n",
    "Here is my fixed code below:"
   ]
  },
  {
   "cell_type": "code",
   "execution_count": 3,
   "id": "acd81caa",
   "metadata": {},
   "outputs": [
    {
     "name": "stdout",
     "output_type": "stream",
     "text": [
      "Please enter a valid difficulty level.\n",
      "Please enter a valid difficulty level.\n",
      "Difficulty set to: medium\n"
     ]
    }
   ],
   "source": [
    "import time\n",
    "\n",
    "difficulty = input(\"Enter difficulty (easy, medium, hard): \").lower().strip()\n",
    "\n",
    "while difficulty not in [\"easy\", \"medium\", \"hard\"]:\n",
    "    print(\"Please enter a valid difficulty level.\")\n",
    "    difficulty = input(\"Enter difficulty (easy, medium, hard): \").lower().strip()\n",
    "    time.sleep(0.5)\n",
    "\n",
    "print(\"Difficulty set to:\", difficulty)\n"
   ]
  }
 ],
 "metadata": {
  "kernelspec": {
   "display_name": "venv",
   "language": "python",
   "name": "python3"
  },
  "language_info": {
   "codemirror_mode": {
    "name": "ipython",
    "version": 3
   },
   "file_extension": ".py",
   "mimetype": "text/x-python",
   "name": "python",
   "nbconvert_exporter": "python",
   "pygments_lexer": "ipython3",
   "version": "3.10.12"
  }
 },
 "nbformat": 4,
 "nbformat_minor": 5
}

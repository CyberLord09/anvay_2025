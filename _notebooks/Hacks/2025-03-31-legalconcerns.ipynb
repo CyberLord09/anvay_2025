{
 "cells": [
  {
   "cell_type": "raw",
   "metadata": {
    "vscode": {
     "languageId": "raw"
    }
   },
   "source": [
    "---\n",
    "layout: post\n",
    "title: Legal and Ethical Concerns Popcorn and HW Hacks\n",
    "type: issues \n",
    "comments: true\n",
    "permalink: /5-5\n",
    "---"
   ]
  },
  {
   "cell_type": "markdown",
   "metadata": {},
   "source": [
    "# Popcorn Hack 1:\n",
    "\n",
    "What is a legal concern that arises when sharing/using code?\n",
    "- A legal concern that arises when sharing/using code is copyright infringement. If the code is not properly licensed or if you use code without adhering to its license terms, you could violate the copyright holder's rights. This can lead to legal consequences, such as fines or lawsuits. Always ensure that you understand and comply with the licensing terms of any code you use or share.\n",
    "\n",
    "\n",
    "# Popcorn Hack 2: \n",
    "\n",
    "What is an ethical concern that arises when sharing/using code?\n",
    "- An ethical concern that arises when sharing/using code is plagiarism or lack of attribution. Using someone else's code without giving proper credit to the original author is unethical, even if the code is publicly available. It undermines the contributions of the original creator and can harm trust within the developer community. Profiting off this code also is ethically wrong. \n",
    "\n",
    "# Popcorn Hack 3:\n",
    "\n",
    "You're building an open-source lyric guessing app. You want it to spread fast, but also don’t want big corporations to steal your work (without giving you credit!). Which license do you pick?\n",
    "- I would choose the GPL (GNU General Public License) for my lyric guessing app. I want the app to grow and spread, but I also want to make sure that big companies can’t take my code, make changes, and keep it private without giving credit. The GPL makes sure that anyone who uses or changes my code also has to share their version under the same license. This way, the project stays open-source and I still get recognition for the work I put in. Other licenses like MIT or Apache are more relaxed and would let companies use my code without sharing anything back, which I don’t want."
   ]
  },
  {
   "cell_type": "markdown",
   "metadata": {},
   "source": [
    "# Homework Hack:\n",
    "\n",
    "<img width=\"995\" alt=\"Image\" src=\"https://github.com/user-attachments/assets/17a4da98-cd84-4542-b498-b8ec3e036122\" />\n",
    "\n",
    "License Repo: https://github.com/CyberLord09/snake-game\n",
    "\n",
    "I chose the GPL license for my Snake game because I believe in keeping software open and available for everyone. With GPL, anyone can use or modify my code, but they also have to share their changes under the same license. That means the project stays open-source, and no one can take the code, improve it, and make it closed or private. I want others to learn from my project and contribute back if they make something better. It’s a way to protect my code and make sure the project keeps growing in a fair way.\n",
    "\n",
    "\n",
    "# MCQ Explainations\n",
    "\n",
    "Q1: **Open-source software is NOT considered a form of intellectual property (IP)**  \n",
    "   Intellectual property includes things like **copyrights**, **trademarks**, and **patents**, which are legal protections. Open-source software can be under a copyright, but the term \"open-source\" itself just refers to how the software is shared and licensed, not a specific legal category like the others.\n",
    "\n",
    "---\n",
    "\n",
    "Q2: **Open-source software allows modification, but open-access research usually doesn't**  \n",
    "   Open-source licenses specifically allow people to view, change, and share the code. Open-access research just means you can *read* it for free, but not necessarily remix or alter it. It’s about access, not modification rights.\n",
    "\n",
    "---\n",
    "\n",
    "Q3: **The “digital divide” is about differences in technology access between regions**  \n",
    "   The digital divide is a social issue—it refers to how people in different parts of the world (or even within the same country) have unequal access to technology, like the internet, computers, or education about tech.\n",
    "\n",
    "---\n",
    "\n",
    "Q4: **Open-source software can be modified and redistributed under certain licenses**  \n",
    "   That’s what makes it open-source! Licenses like MIT, GPL, or Apache allow users to change and share the software, often with conditions (like attribution or keeping it open).\n",
    "\n",
    "---\n",
    "\n",
    "Q5: **Copying code without credit is plagiarism**  \n",
    "   Even if the code is open-source, claiming it as your own in a competition or assignment without attribution is unethical. It’s considered **plagiarism**, just like copying words in an essay without citing.\n",
    "\n",
    "---\n",
    "\n",
    "Q6: **“Speed of AI” is NOT an ethical concern**  \n",
    "   While AI is fast, speed isn’t what people worry about ethically. They worry more about **bias**, **misinformation**, and **privacy violations**—because these things can cause real-world harm.\n",
    "\n",
    "---\n",
    "\n",
    "Q7: **GPL requires derivative works to be open-source; MIT does not**  \n",
    "   GPL is a \"copyleft\" license, which means if you modify GPL-licensed software, your version has to be open-source too. MIT is more relaxed—you can even use it in proprietary (closed-source) projects.\n",
    "\n",
    "---\n",
    "\n",
    "Q8: **Selling modified GPL code without sharing the source breaks the license**  \n",
    "   GPL says if you distribute a modified version, you *must* also share your source code under the same license. If you don’t, that’s a license violation.\n",
    "\n",
    "---\n",
    "\n",
    "Q9: **Proprietary software comes with EULAs that restrict usage**  \n",
    "   Proprietary software is closed-source and controlled by the company. You usually agree to a license (an EULA) that says you won’t change it, copy it, or share it.\n",
    "\n",
    "---\n",
    "\n",
    "Q10: **Violating an open-source license can result in a lawsuit**  \n",
    "   Open-source licenses are legal contracts. If you break the rules (like not crediting authors or not releasing your source), the creator can take legal action.\n",
    "\n",
    "---\n",
    "\n",
    "Q11: **GPL requires all derivative works to use the same license**  \n",
    "   This is called “copyleft.” If you modify GPL software and distribute it, your version must also be GPL. This ensures the software stays open forever.\n",
    "\n",
    "---\n",
    "\n",
    "Q12: **MIT License lets companies use code in closed-source projects**  \n",
    "   Unlike GPL, the MIT License doesn’t force companies to release their own code. That’s why businesses like it—they can use open-source tools without having to share their internal code.\n",
    "\n",
    "\n",
    "# MCQ Score:\n",
    "\n",
    "<img width=\"482\" alt=\"Image\" src=\"https://github.com/user-attachments/assets/6ebe4b9c-2a37-40ea-97dc-1e8f63f2e80f\" />"
   ]
  }
 ],
 "metadata": {
  "language_info": {
   "name": "python"
  }
 },
 "nbformat": 4,
 "nbformat_minor": 2
}

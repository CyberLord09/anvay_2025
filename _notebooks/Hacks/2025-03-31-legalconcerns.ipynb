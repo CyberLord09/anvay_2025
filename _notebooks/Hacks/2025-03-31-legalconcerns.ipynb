{
 "cells": [
  {
   "cell_type": "raw",
   "metadata": {
    "vscode": {
     "languageId": "raw"
    }
   },
   "source": [
    "---\n",
    "layout: post\n",
    "title: Legal and Ethical Concerns Popcorn and HW Hacks\n",
    "type: issues \n",
    "comments: true\n",
    "---"
   ]
  },
  {
   "cell_type": "markdown",
   "metadata": {},
   "source": [
    "# Popcorn Hack 1:\n",
    "\n",
    "What is a legal concern that arises when sharing/using code?\n",
    "- A legal concern that arises when sharing/using code is copyright infringement. If the code is not properly licensed or if you use code without adhering to its license terms, you could violate the copyright holder's rights. This can lead to legal consequences, such as fines or lawsuits. Always ensure that you understand and comply with the licensing terms of any code you use or share.\n",
    "\n",
    "\n",
    "# Popcorn Hack 2: \n",
    "\n",
    "What is an ethical concern that arises when sharing/using code?\n",
    "- An ethical concern that arises when sharing/using code is plagiarism or lack of attribution. Using someone else's code without giving proper credit to the original author is unethical, even if the code is publicly available. It undermines the contributions of the original creator and can harm trust within the developer community. Profiting off this code also is ethically wrong. \n",
    "\n",
    "# Popcorn Hack 3:\n",
    "\n",
    "You're building an open-source lyric guessing app. You want it to spread fast, but also don’t want big corporations to steal your work (without giving you credit!). Which license do you pick?\n",
    "- I would choose the GPL (GNU General Public License) for my lyric guessing app. I want the app to grow and spread, but I also want to make sure that big companies can’t take my code, make changes, and keep it private without giving credit. The GPL makes sure that anyone who uses or changes my code also has to share their version under the same license. This way, the project stays open-source and I still get recognition for the work I put in. Other licenses like MIT or Apache are more relaxed and would let companies use my code without sharing anything back, which I don’t want."
   ]
  },
  {
   "cell_type": "markdown",
   "metadata": {},
   "source": [
    "# Homework Hack:\n",
    "\n",
    "License Repo: https://github.com/CyberLord09/snake-game\n",
    "\n",
    "I chose the GPL license for my Snake game because I believe in keeping software open and available for everyone. With GPL, anyone can use or modify my code, but they also have to share their changes under the same license. That means the project stays open-source, and no one can take the code, improve it, and make it closed or private. I want others to learn from my project and contribute back if they make something better. It’s a way to protect my code and make sure the project keeps growing in a fair way.\n",
    "\n",
    "\n",
    "# MCQ SCORE\n",
    "\n",
    "\n",
    "<img>\n",
    "\n"
   ]
  }
 ],
 "metadata": {
  "language_info": {
   "name": "python"
  }
 },
 "nbformat": 4,
 "nbformat_minor": 2
}

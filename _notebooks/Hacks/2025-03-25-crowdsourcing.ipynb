{
 "cells": [
  {
   "cell_type": "raw",
   "metadata": {
    "vscode": {
     "languageId": "raw"
    }
   },
   "source": [
    "---\n",
    "layout: post\n",
    "title: Crowsourcing Homework and Popcorn Hacks \n",
    "type: issues \n",
    "comments: true\n",
    "permalink: /5-4\n",
    "---"
   ]
  },
  {
   "cell_type": "markdown",
   "metadata": {},
   "source": [
    "# Popcorn Hack 1:\n",
    "\n",
    "What are the different types of crowdsourcing, and how do they contribute to innovation? Provide a brief description of each type.\n",
    "- There are different types of crowdsourcing that help support new ideas and solutions. One type is crowd creation, where people help make content, like videos, articles, or apps. Another is crowd voting, which lets users give feedback or choose the best ideas, like liking posts or rating products. Crowd funding is when people donate money to support a new project, which helps creators get the funding they need. Crowd wisdom is when a group works together to fix problems or find answers, which is common in open-source communities (like Quora). All of these types help people work together to create better technology and share ideas.\n",
    "\n",
    "\n",
    "# Popcorn Hack 2: \n",
    "\n",
    "What is data crowdsourcing, and how does it contribute to open-source development? Provide 3+ examples of public datasets that have been created through crowdsourcing efforts.\n",
    "- Data crowdsourcing is when a lot of people help collect or label data that others can use in projects. This helps open-source development because developers can use this shared data to build or improve programs. One example is OpenStreetMap, where people around the world help update maps. Another example is Common Crawl, which collects data from websites that researchers and developers use. A third example is Zooniverse, where volunteers help label data for science research like space or wildlife studies. These datasets are shared with the public and help people create useful tools or research projects.\n",
    "\n",
    "\n",
    "# Popcorn Hack 3:\n",
    "\n",
    "How does distributed computing contribute to innovations through crowdsourcing? Provide 3+ examples of successful projects that have utilized distributed computing and crowdsourcing to obtain data.\n",
    "- Distributed computing is when a big problem is split into smaller pieces and solved by many computers working together. This helps crowdsourcing projects by letting people donate their computer power to help with research or other tasks. One example is Folding@Home, which uses people’s computers to help study diseases like cancer or COVID-19. Another is SETI@Home, which searched space signals to try and find signs of life. Rosetta@Home is also a good example because it helps scientists study proteins. These projects show how crowdsourcing and distributed computing can work together to solve big problems faster."
   ]
  },
  {
   "cell_type": "markdown",
   "metadata": {},
   "source": [
    "# Homework Hack:\n",
    "\n",
    "Write 4+ sentences on the impact of crowdsourcing on modern innovation.\n",
    "\n",
    "- Crowdsourcing has had a major impact on modern innovation by allowing people from all over the world to contribute to various public projects that are open source and avalible to use personally. There are several types of crowdsourcing, including crowd creation, crowd funding, crowd wisdom, and crowd voting, each helping to support different parts of the innovation process. Distributed computing takes crowdsourcing even further by using the combined processing power of many people's devices to handle large scientific tasks, such as disease research or space exploration. Data crowdsourcing has also played a big role in open source development by providing large, shared datasets that developers can use to build tools, train models, or improve systems.\n",
    "\n",
    "\n",
    "Then reflect in a sentence or two on the future potential of crowdsourcing in driving innovation.\n",
    "\n",
    "- Looking ahead, crowdsourcing has the potential to drive even more innovation by connecting more people, increasing collaboration, and giving access to resources that were once limited to large companies or research labs. It turns everyday users into active contributors to global progress.\n",
    "\n",
    "\n",
    "# MCQ SCORE\n",
    "\n",
    "![Image](https://github.com/user-attachments/assets/41ce27c7-a4ff-4b13-b5b9-d06c7be32e71)"
   ]
  }
 ],
 "metadata": {
  "language_info": {
   "name": "python"
  }
 },
 "nbformat": 4,
 "nbformat_minor": 2
}

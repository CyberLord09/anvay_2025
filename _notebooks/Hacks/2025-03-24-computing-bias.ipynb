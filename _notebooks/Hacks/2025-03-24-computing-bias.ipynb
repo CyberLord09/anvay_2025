{
 "cells": [
  {
   "cell_type": "raw",
   "metadata": {
    "vscode": {
     "languageId": "raw"
    }
   },
   "source": [
    "---\n",
    "layout: post\n",
    "title: Computing Bias Homework and Popcorn Hacks\n",
    "type: issues \n",
    "comments: true\n",
    "---"
   ]
  },
  {
   "cell_type": "markdown",
   "metadata": {},
   "source": [
    "# Popcorn Hack 1:\n",
    "\n",
    "- What is an example of Explicit Data?\n",
    "  - A) Netflix recommends shows based on your viewing history.\n",
    "  - B) You provide your name, age, and preferences when creating a Netflix account.\n",
    "  - C) Netflix tracks the time you spend watching certain genres.\n",
    "\n",
    "I believe the answer is: B, which says \"You provide your name, age, and preferences when creating a Netflix account.\" This is explicit data because this data is directly provided by the user. \n",
    "\n",
    "\n",
    "# Popcorn Hack 2:\n",
    "\n",
    "- What is an example of Data Bias?\n",
    "  - A) A hiring algorithm favors male candidates because the training data contains a disproportionate number of male resumes.\n",
    "  - B) A system is trained on a dataset where certain groups, such as people with darker skin tones, are underrepresented.\n",
    "  - C) A researcher intentionally selects data that supports their own beliefs about the impact of screen time on grades.\n",
    "\n",
    "I believe the answer is: B, which says \"A system is trained on a dataset where certain groups, such as people with darker skin tones, are underrepresented\" This is data bias as the data that the model was trained on was biased toward certain groups. Leading the model to be biased. \n",
    "\n",
    "# Popcorn Hack #3\n",
    "\n",
    "Participated in class."
   ]
  },
  {
   "cell_type": "markdown",
   "metadata": {},
   "source": [
    "# Homework Hacks\n",
    "\n",
    "### MCQ Score:\n",
    "\n",
    "![Image](https://github.com/user-attachments/assets/b249f97c-fc2a-4ad4-a709-9ed39ee77748)\n",
    "![Image](https://github.com/user-attachments/assets/f05084b7-7af9-4af5-9673-fa2702a0a881)\n",
    "\n",
    "* Note: My first submission I forgot to submit an FRQ response, please exclude that response. Incase of any trouble, my FRQ response is already below:\n",
    "\n",
    "### FRQ Question: \n",
    "\n",
    "Implicit data is information collected from a user’s behavior and actions without them directly providing it. This happens in the background as the user interacts with a system. For example, a streaming app might track which shows a user watches the most or how long they watch certain genres. Additionally, a social media app may also collect data on what types of videos users like to suggest them with other videos similar to those. Other examples include search history, location data, or which links a user clicks on. \n",
    "\n",
    "Explicit data is information the user gives directly and on purpose. This includes things like filling out a form, choosing interests when signing up, or rating a product. For example, if a user selects “action movies” as their favorite genre or writes a review that’s explicit data. Other examples include selecting a preferred language during setting up an account or choosing favorite topics or categories in a news app."
   ]
  }
 ],
 "metadata": {
  "language_info": {
   "name": "python"
  }
 },
 "nbformat": 4,
 "nbformat_minor": 2
}

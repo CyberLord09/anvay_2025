{
 "cells": [
  {
   "cell_type": "raw",
   "metadata": {
    "vscode": {
     "languageId": "raw"
    }
   },
   "source": [
    "---\n",
    "layout: post\n",
    "title: Lists and Filtering Algorithims Popcorn and HW Hacks\n",
    "type: issues \n",
    "comments: true\n",
    "---"
   ]
  },
  {
   "cell_type": "markdown",
   "metadata": {},
   "source": [
    "## Popcorn Hack 1\n",
    "\n",
    "What are some possible benefits of using lists? What are some real world examples of lists being used in code ?\n",
    "- Lists are helpful because they let you store and organize multiple pieces of data in one place. Instead of making a separate variable for every item, you can keep them all in a single list and access them by index. Lists make it easier to loop through data, sort items, and perform actions on a group of values. They are also flexible since you can add, remove, or update items at any time. In real-world code, lists are used everywhere. A to-do list app might use a list to store tasks. A streaming service could use lists to keep track of movies in a user's watch history. In games, a list might store the names and scores of players. Even search engines and social media feeds use lists to manage and display posts or results.\n",
    "\n",
    "## Popcorn Hack 2\n",
    "\n",
    "```python\n",
    "items = [\"pen\", \"pencil\", \"marker\", \"eraser\"]\n",
    "items.remove(\"pencil\")\n",
    "items.append(\"sharpener\")\n",
    "print(items[2])\n",
    "``` \n",
    "\n",
    "What does this code output?\n",
    "1. The original list is:  \n",
    "   `[\"pen\", \"pencil\", \"marker\", \"eraser\"]`\n",
    "\n",
    "2. `items.remove(\"pencil\")`  \n",
    "   - This removes `\"pencil\"` from the list.  \n",
    "   Now the list becomes:  \n",
    "   `[\"pen\", \"marker\", \"eraser\"]`\n",
    "\n",
    "3. `items.append(\"sharpener\")`  \n",
    "   - This adds `\"sharpener\"` to the end of the list.  \n",
    "   Now the list is:  \n",
    "   `[\"pen\", \"marker\", \"eraser\", \"sharpener\"]`\n",
    "\n",
    "4. `print(items[2])`  \n",
    "   - Index 2 means the **third** item (Python starts at 0).  \n",
    "   So the third item is: `\"eraser\"`\n",
    "\n",
    "Final answer: **eraser**\n",
    "\n",
    "\n",
    "## Popcorn Hack 3\n",
    "\n",
    "What are some real world examples of filtering algorithms?\n",
    "- Filtering algorithms are used in many real-world situations to sort through large amounts of data and keep only the information that is useful or relevant. One common example is spam filtering in email services, where algorithms check incoming messages for signs of spam like suspicious links or keywords. In recommendation systems, such as those used by Netflix or Spotify, filtering algorithms help suggest movies or songs based on a user’s preferences and past activity. Social media platforms also use filtering to decide which posts appear in a user’s feed, based on who they follow and what content they engage with. In banking, filtering algorithms are used for fraud detection by scanning transactions for unusual patterns that could signal suspicious activity. These algorithms help make systems more efficient and user-friendly by focusing on relevant data."
   ]
  },
  {
   "cell_type": "markdown",
   "metadata": {},
   "source": [
    "# Homework Hacks\n",
    "\n",
    "Here is my code below:"
   ]
  },
  {
   "cell_type": "code",
   "execution_count": 1,
   "metadata": {},
   "outputs": [
    {
     "name": "stdout",
     "output_type": "stream",
     "text": [
      "calculator\n",
      "Item: pen\n",
      "Item: notebook\n",
      "Item: calculator\n",
      "Item: ruler\n",
      "Item: eraser\n",
      "Filtered Supplies: ['notebook', 'calculator', 'eraser']\n"
     ]
    }
   ],
   "source": [
    "################## PART 1 ##################\n",
    "\n",
    "# Create a list of school supplies\n",
    "supplies = [\"pen\", \"notebook\", \"calculator\", \"highlighter\", \"ruler\"]\n",
    "\n",
    "# Procedure 1: Add an item to the list using append()\n",
    "supplies.append(\"eraser\")  # Adds \"eraser\" to the end of the list\n",
    "\n",
    "# Procedure 2: Remove an item using remove()\n",
    "supplies.remove(\"highlighter\")  # Removes \"highlighter\" from the list\n",
    "\n",
    "# Procedure 3: Access an item using an index\n",
    "print(supplies[2])  # Prints the third item in the list (index 2)\n",
    "\n",
    "\n",
    "#################### PART 2 ##################\n",
    "\n",
    "# Steps to go through a list one item at a time:\n",
    "# 1. Start at the beginning of the list (index 0).\n",
    "# 2. Use a for loop to move through each element.\n",
    "# 3. Perform an action with each item (like printing it).\n",
    "# 4. Stop when all elements have been visited.\n",
    "\n",
    "# Example of iterating through the list\n",
    "for item in supplies:\n",
    "    print(\"Item:\", item)\n",
    "\n",
    "\n",
    "############### PART 3 ##################\n",
    "\n",
    "# Condition: Keep only items that are longer than 5 letters.\n",
    "# Steps:\n",
    "# 1. Start with the original list (supplies).\n",
    "# 2. Create an empty list called filtered_supplies.\n",
    "# 3. Use a loop to go through each item.\n",
    "# 4. If the item has more than 5 letters, add it to the new list.\n",
    "# 5. At the end, filtered_supplies will only have the items that passed the test.\n",
    "\n",
    "# Example of filtering the list\n",
    "filtered_supplies = []\n",
    "\n",
    "for item in supplies:\n",
    "    if len(item) > 5:\n",
    "        filtered_supplies.append(item)\n",
    "\n",
    "# Print the filtered list\n",
    "print(\"Filtered Supplies:\", filtered_supplies)"
   ]
  },
  {
   "cell_type": "markdown",
   "metadata": {},
   "source": [
    "## Final Reflection:\n",
    "\n",
    "In two complete sentences, explain when and how filtering algorithms and lists are used in real life.\n",
    "- Filtering algorithms and lists are used in real life whenever we need to search, sort, or organize information based on specific conditions. For example, streaming services use filtering to show movies by genre, rating, or popularity. Online stores use them to display products that match a user's search or fit within a price range. In coding, we start with a list of data, use a loop to go through each item, apply a condition, and build a new list with only the items that match. This helps make large amounts of information easier to manage and more useful."
   ]
  }
 ],
 "metadata": {
  "kernelspec": {
   "display_name": "venv",
   "language": "python",
   "name": "python3"
  },
  "language_info": {
   "codemirror_mode": {
    "name": "ipython",
    "version": 3
   },
   "file_extension": ".py",
   "mimetype": "text/x-python",
   "name": "python",
   "nbconvert_exporter": "python",
   "pygments_lexer": "ipython3",
   "version": "3.10.12"
  }
 },
 "nbformat": 4,
 "nbformat_minor": 2
}

{
 "cells": [
  {
   "cell_type": "raw",
   "id": "498ed049",
   "metadata": {
    "vscode": {
     "languageId": "raw"
    }
   },
   "source": [
    "---\n",
    "layout: post\n",
    "toc: true\n",
    "title: Calling Class Methods Homework\n",
    "permalink: /csa/unit_01/1_10/homework\n",
    "author: Trevor, Kush, Elliot, Aranya, Travis, Alex\n",
    "---"
   ]
  },
  {
   "cell_type": "markdown",
   "id": "3a4007b3",
   "metadata": {},
   "source": [
    "# Homework: Ultimate Battle\n",
    "\n",
    "---\n",
    "\n",
    "## Scenario\n",
    "\n",
    "You are programming a game where 2 objects of your choosing (e.g., Robots, Dinosaurs, People) battle. Each object has health and power.\n",
    "\n",
    "---\n",
    "\n",
    "## Instructions\n",
    "\n",
    "1. **Create a class** representing your object with:\n",
    "\n",
    "   **Instance variables:**  \n",
    "   - `String name`  \n",
    "   - `int power`  \n",
    "   - `int health`  \n",
    "   - `MAKE YOUR OWN`\n",
    "\n",
    "   **Static variables:**\n",
    "   - `double fightDuration`\n",
    "\n",
    "   **Instance methods:**  \n",
    "   - `void attack()`\n",
    "   - `void printStatus()`\n",
    "   - `MAKE YOUR OWN`\n",
    "\n",
    "   **Class methods:**  \n",
    "   - `static int strongerFighter()`\n",
    "   - `static void beginBattle()`\n",
    "   - `MAKE YOUR OWN`\n",
    "\n",
    "2. **In `main`:**  \n",
    "   - Create two objects.  \n",
    "   - Use instance methods to attack and print status.  \n",
    "   - Use static methods to compare, print a fact, and start the battle."
   ]
  },
  {
   "cell_type": "code",
   "execution_count": null,
   "id": "73c91681",
   "metadata": {
    "vscode": {
     "languageId": "java"
    }
   },
   "outputs": [
    {
     "name": "stdout",
     "output_type": "stream",
     "text": [
      "=== Initial Status ===\n",
      "AlphaX | Power: 25 | Health: 100 | Weapon: Laser Cannon\n",
      "BetaBot | Power: 20 | Health: 120 | Weapon: Plasma Blade\n",
      "\n",
      "=== Power Comparison ===\n",
      "AlphaX is stronger!\n",
      "\n",
      "=== Battle Start ===\n",
      "⚔️ The Ultimate Battle Begins Between AlphaX and BetaBot! ⚔️\n",
      "AlphaX attacks BetaBot with Laser Cannon!\n",
      "BetaBot attacks AlphaX with Plasma Blade!\n",
      "AlphaX attacks BetaBot with Laser Cannon!\n",
      "BetaBot attacks AlphaX with Plasma Blade!\n",
      "AlphaX attacks BetaBot with Laser Cannon!\n",
      "BetaBot attacks AlphaX with Plasma Blade!\n",
      "AlphaX attacks BetaBot with Laser Cannon!\n",
      "BetaBot attacks AlphaX with Plasma Blade!\n",
      "AlphaX attacks BetaBot with Laser Cannon!\n",
      "\n",
      "Battle Over!\n",
      "AlphaX wins with 20 health left!\n",
      "Total fight duration: 22.5 seconds\n"
     ]
    }
   ],
   "source": [
    "public class Robot {\n",
    "    private String name;\n",
    "    private int power;\n",
    "    private int health;\n",
    "    private String weapon;\n",
    "    private static double fightDuration = 0.0;\n",
    "\n",
    "    public Robot(String name, int power, int health, String weapon) {\n",
    "        this.name = name;\n",
    "        this.power = power;\n",
    "        this.health = health;\n",
    "        this.weapon = weapon;\n",
    "    }\n",
    "\n",
    "    public void attack(Robot target) {\n",
    "        System.out.println(this.name + \" attacks \" + target.name + \" with \" + this.weapon + \"!\");\n",
    "        target.health -= this.power;\n",
    "        if (target.health < 0) target.health = 0;\n",
    "        fightDuration += 2.5;\n",
    "    }\n",
    "\n",
    "    public void printStatus() {\n",
    "        System.out.println(name + \" | Power: \" + power + \" | Health: \" + health + \" | Weapon: \" + weapon);\n",
    "    }\n",
    "\n",
    "    public void repair() {\n",
    "        health += 15;\n",
    "        System.out.println(name + \" repairs itself and regains 15 health!\");\n",
    "    }\n",
    "\n",
    "    public static int strongerFighter(Robot r1, Robot r2) {\n",
    "        if (r1.power > r2.power) return 1;\n",
    "        else if (r2.power > r1.power) return 2;\n",
    "        else return 0;\n",
    "    }\n",
    "\n",
    "    public static void beginBattle(Robot r1, Robot r2) {\n",
    "        System.out.println(\"⚔️ The Ultimate Battle Begins Between \" + r1.name + \" and \" + r2.name + \"! ⚔️\");\n",
    "        fightDuration = 0.0;\n",
    "\n",
    "        while (r1.health > 0 && r2.health > 0) {\n",
    "            r1.attack(r2);\n",
    "            if (r2.health > 0) r2.attack(r1);\n",
    "        }\n",
    "\n",
    "        System.out.println(\"\\nBattle Over!\");\n",
    "        if (r1.health > 0)\n",
    "            System.out.println(r1.name + \" wins with \" + r1.health + \" health left!\");\n",
    "        else if (r2.health > 0)\n",
    "            System.out.println(r2.name + \" wins with \" + r2.health + \" health left!\");\n",
    "        else\n",
    "            System.out.println(\"Both fighters have fallen!\");\n",
    "\n",
    "        System.out.printf(\"Total fight duration: %.1f seconds%n\", fightDuration);\n",
    "    }\n",
    "\n",
    "    public static void main(String[] args) {\n",
    "        Robot alpha = new Robot(\"AlphaX\", 25, 100, \"Laser Cannon\");\n",
    "        Robot beta = new Robot(\"BetaBot\", 20, 120, \"Plasma Blade\");\n",
    "\n",
    "        System.out.println(\"=== Initial Status ===\");\n",
    "        alpha.printStatus();\n",
    "        beta.printStatus();\n",
    "\n",
    "        System.out.println(\"\\n=== Power Comparison ===\");\n",
    "        int result = strongerFighter(alpha, beta);\n",
    "        if (result == 1) System.out.println(alpha.name + \" is stronger!\");\n",
    "        else if (result == 2) System.out.println(beta.name + \" is stronger!\");\n",
    "        else System.out.println(\"They are equally matched!\");\n",
    "\n",
    "        System.out.println(\"\\n=== Battle Start ===\");\n",
    "        beginBattle(alpha, beta);\n",
    "    }\n",
    "}\n",
    "\n",
    "Robot.main(null);"
   ]
  },
  {
   "cell_type": "markdown",
   "id": "38a1d412",
   "metadata": {},
   "source": [
    "## Popcorn Hack: Which is an instance method or static method\n",
    "\n",
    "### What to do\n",
    "You’ve learned that **static methods** belong to the *class* and **instance methods** belong to the *object*.\n",
    "\n",
    "Look at the code below and decide which lines will work — and which will cause an error.  \n",
    "Then fix the wrong ones."
   ]
  },
  {
   "cell_type": "code",
   "execution_count": 7,
   "id": "5fe35ceb",
   "metadata": {
    "vscode": {
     "languageId": "java"
    }
   },
   "outputs": [
    {
     "name": "stdout",
     "output_type": "stream",
     "text": [
      "Sup bro?\n",
      "Hey, I'm Alex\n",
      "Sup bro?\n"
     ]
    }
   ],
   "source": [
    "class Bro {\n",
    "    String name;\n",
    "    static String catchphrase = \"Sup bro?\";\n",
    "\n",
    "    public Bro(String name) {\n",
    "        this.name = name;\n",
    "    }\n",
    "\n",
    "    public void sayHi() {\n",
    "        System.out.println(\"Hey, I'm \" + name);\n",
    "    }\n",
    "\n",
    "    public static void sayCatchphrase() {\n",
    "        System.out.println(catchphrase);\n",
    "    }\n",
    "\n",
    "    public static void main(String[] args) {\n",
    "        // Works — static method called correctly\n",
    "        Bro.sayCatchphrase();\n",
    "\n",
    "        // sayHi(); → must be called on an object\n",
    "        Bro alex = new Bro(\"Alex\");\n",
    "\n",
    "        // Works — instance method called on object\n",
    "        alex.sayHi();\n",
    "\n",
    "        // Works — static method can be called this way (but class name is preferred)\n",
    "        alex.sayCatchphrase();\n",
    "    }\n",
    "}\n",
    "\n",
    "Bro.main(null);"
   ]
  }
 ],
 "metadata": {
  "kernelspec": {
   "display_name": "Java",
   "language": "java",
   "name": "java"
  },
  "language_info": {
   "codemirror_mode": "java",
   "file_extension": ".jshell",
   "mimetype": "text/x-java-source",
   "name": "Java",
   "pygments_lexer": "java",
   "version": "17.0.16+0"
  }
 },
 "nbformat": 4,
 "nbformat_minor": 5
}

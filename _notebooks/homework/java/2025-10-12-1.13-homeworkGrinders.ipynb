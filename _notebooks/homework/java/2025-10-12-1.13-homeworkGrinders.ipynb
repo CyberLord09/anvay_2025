{
 "cells": [
  {
   "cell_type": "raw",
   "id": "354709c5",
   "metadata": {
    "vscode": {
     "languageId": "raw"
    }
   },
   "source": [
    "---\n",
    "layout: post\n",
    "toc: true\n",
    "title: Object Creation and Storage (Instantiation)\n",
    "permalink: /csa/unit_01/1_13/homework\n",
    "authors: Nora, Soni, Avika\n",
    "---"
   ]
  },
  {
   "cell_type": "markdown",
   "id": "3a467362",
   "metadata": {},
   "source": [
    "# Popcorn Hack #1: Stack vs Heap\n",
    "Run the following code in your own notebook and observe:"
   ]
  },
  {
   "cell_type": "code",
   "execution_count": 3,
   "id": "ba4916ff",
   "metadata": {
    "vscode": {
     "languageId": "java"
    }
   },
   "outputs": [
    {
     "name": "stdout",
     "output_type": "stream",
     "text": [
      "Primitives (Stack):\n",
      "a = 10\n",
      "b = 20\n",
      "\n",
      "Arrays (Heap):\n",
      "array1[0] = 99\n",
      "array2[0] = 99\n"
     ]
    }
   ],
   "source": [
    "public class MemoryDemo {\n",
    "    public static void main(String[] args) {\n",
    "        // Stack variables\n",
    "        int a = 10;\n",
    "        int b = a;  // Copy of value\n",
    "        b = 20;     // Changing b doesn't affect a\n",
    "        \n",
    "        System.out.println(\"Primitives (Stack):\");\n",
    "        System.out.println(\"a = \" + a);  // Still 10\n",
    "        System.out.println(\"b = \" + b);  // Now it's 20\n",
    "        \n",
    "        // Heap variables\n",
    "        int[] array1 = {1, 2, 3};\n",
    "        int[] array2 = array1;  // Copy of reference (address)\n",
    "        array2[0] = 99;         // Changing array2 DOES affect array1\n",
    "        \n",
    "        System.out.println(\"\\nArrays (Heap):\");\n",
    "        System.out.println(\"array1[0] = \" + array1[0]);  // Now it's 99!\n",
    "        System.out.println(\"array2[0] = \" + array2[0]);  // Also 99\n",
    "    }\n",
    "}\n",
    "\n",
    "MemoryDemo.main(null);"
   ]
  },
  {
   "cell_type": "markdown",
   "id": "bcaafba5",
   "metadata": {},
   "source": [
    "## Tasks:\n",
    "**Answer in a few sentences in your notebook**\n",
    "\n",
    "1. Why does changing b not affect a, but changing array2 affects array1?\n",
    "\n",
    "Changing b doesn’t affect a because a and b are primitive variables (type int), which store their actual values directly on the stack. When you assign b = a, Java copies the value 10 into b, so the two variables are independent.\n",
    "However, array1 and array2 are reference variables that both point to the same array object in the heap. When you change an element through array2, you’re modifying that shared array, so array1 sees the same change.\n",
    "\n",
    "2. Describe what's on the stack vs. the heap for this code.\n",
    "\n",
    "On the stack, you have the local variables: a, b, array1, and array2. The primitives (a, b) store actual numbers, while the reference variables (array1, array2) store memory addresses (pointers) to the same array object. On the heap, there’s one array object {99, 2, 3} that both array1 and array2 reference."
   ]
  },
  {
   "cell_type": "markdown",
   "id": "674d75b2",
   "metadata": {},
   "source": [
    "# Popcorn Hack #2: Understanding Pass-by-Reference\n",
    "Examine the code below and predict the output before running it:"
   ]
  },
  {
   "cell_type": "code",
   "execution_count": 5,
   "id": "b47025e6",
   "metadata": {
    "vscode": {
     "languageId": "java"
    }
   },
   "outputs": [
    {
     "name": "stdout",
     "output_type": "stream",
     "text": [
      "Before birthday: John is 20\n",
      "Inside method: John is now 21\n",
      "After birthday: John is 21\n",
      "\n",
      "Before reassign: John is 21\n",
      "Inside reassign: New Person is 99\n",
      "After reassign: John is 21\n"
     ]
    }
   ],
   "source": [
    "public class PersonDemo {\n",
    "    static class Person {\n",
    "        String name;\n",
    "        int age;\n",
    "        \n",
    "        Person(String name, int age) {\n",
    "            this.name = name;\n",
    "            this.age = age;\n",
    "        }\n",
    "    }\n",
    "    \n",
    "    public static void haveBirthday(Person p) {\n",
    "        p.age = p.age + 1;  // Modifying object content\n",
    "        System.out.println(\"Inside method: \" + p.name + \" is now \" + p.age);\n",
    "    }\n",
    "    \n",
    "    public static void reassignPerson(Person p) {\n",
    "        p = new Person(\"New Person\", 99);  // Reassigning reference\n",
    "        System.out.println(\"Inside reassign: \" + p.name + \" is \" + p.age);\n",
    "    }\n",
    "    \n",
    "    public static void main(String[] args) {\n",
    "        Person john = new Person(\"John\", 20);\n",
    "        \n",
    "        System.out.println(\"Before birthday: \" + john.name + \" is \" + john.age);\n",
    "        haveBirthday(john);\n",
    "        System.out.println(\"After birthday: \" + john.name + \" is \" + john.age);\n",
    "        \n",
    "        System.out.println(\"\\nBefore reassign: \" + john.name + \" is \" + john.age);\n",
    "        reassignPerson(john);\n",
    "        System.out.println(\"After reassign: \" + john.name + \" is \" + john.age);\n",
    "    }\n",
    "}\n",
    "\n",
    "PersonDemo.main(null);"
   ]
  },
  {
   "cell_type": "markdown",
   "id": "1319f7f5",
   "metadata": {},
   "source": [
    "## Questions:\n",
    "\n",
    "1. After haveBirthday(john) is called, what is John's age? Why?\n",
    "\n",
    "After haveBirthday(john) is called, John’s age becomes 21. This happens because the method receives a copy of the reference to the same Person object in memory. When the method changes p.age, it’s modifying the actual object stored on the heap, so the change is visible outside the method.\n",
    "\n",
    "2. After reassignPerson(john) is called, what is John's name and age? Why?\n",
    "\n",
    "After reassignPerson(john) is called, John’s name and age remain John, 21. Inside the method, p is reassigned to a new Person object, but that reassignment only changes the local copy of the reference — it doesn’t affect the original john variable in main.\n",
    "\n",
    "3. Explain the difference between modifying an object's contents vs. reassigning a reference.\n",
    "\n",
    "Modifying an object’s contents changes the data stored in the same heap object that all references point to. Reassigning a reference, on the other hand, just makes the local variable point to a different object, without changing what the original reference (like john) points to."
   ]
  },
  {
   "cell_type": "code",
   "execution_count": null,
   "id": "4fa4bd60",
   "metadata": {
    "vscode": {
     "languageId": "java"
    }
   },
   "outputs": [
    {
     "name": "stdout",
     "output_type": "stream",
     "text": [
      "Car{brand='Toyota', year=2020}\n",
      "Car{brand='Ford', year=2018}\n"
     ]
    }
   ],
   "source": [
    "// Homework Hack #1: Object Creation Practice\n",
    "\n",
    "public class ObjectCreation {\n",
    "    public static void main(String[] args) {\n",
    "        // 1. Create two Car objects using 'new'\n",
    "        // Example: Car car1 = new Car(\"Tesla\", 2024);\n",
    "        Car car1 = new Car(\"Toyota\", 2020);\n",
    "        Car car2 = new Car(\"Ford\", 2018);\n",
    "\n",
    "        // 2. Print each car's info\n",
    "        // Example: System.out.println(car1);\n",
    "        System.out.println(car1);\n",
    "        System.out.println(car2);\n",
    "    }\n",
    "}\n",
    "\n",
    "class Car {\n",
    "    // 1. Declare variables: brand, year\n",
    "    String brand;\n",
    "    int year;\n",
    "\n",
    "    // 2. Create a constructor to set those variables\n",
    "    Car(String brand, int year) {\n",
    "        this.brand = brand;\n",
    "        this.year = year;\n",
    "    }\n",
    "\n",
    "    // 3. Add a method or toString() to display car info\n",
    "    @Override\n",
    "    public String toString() {\n",
    "        return \"Car{\" +\n",
    "                \"brand='\" + brand + '\\'' +\n",
    "                \", year=\" + year +\n",
    "                '}';\n",
    "    }\n",
    "}\n",
    "\n",
    "ObjectCreation.main(null);\n"
   ]
  },
  {
   "cell_type": "markdown",
   "id": "5dfeb6ec",
   "metadata": {},
   "source": [
    "## Homework Hack #2 — Heap vs Stack Storage Demo\n",
    "\n",
    "**Goal** - Understand where data is stored in memory — stack vs heap.\n",
    "<br>\n",
    "Instructions:\n",
    "- Create a Book class with one variable: String title.\n",
    "- In main(), create:\n",
    "- A primitive variable (e.g. int pages = 300;)\n",
    "- A Book object (e.g. Book b1 = new Book(\"Java Basics\");)\n",
    "- Copy both into new variables (int pagesCopy = pages;, Book b2 = b1;)\n",
    "<br>\n",
    "Change the original values and print everything — watch what changes."
   ]
  },
  {
   "cell_type": "code",
   "execution_count": 7,
   "id": "87b5929f",
   "metadata": {
    "vscode": {
     "languageId": "java"
    }
   },
   "outputs": [
    {
     "name": "stdout",
     "output_type": "stream",
     "text": [
      "Primitive pages: 200\n",
      "Copied primitive pages: 100\n"
     ]
    }
   ],
   "source": [
    "// Homework Hack #2: Heap vs Stack Storage Demo\n",
    "\n",
    "public class HeapVsStack {\n",
    "    public static void main(String[] args) {\n",
    "        // 1. Create a primitive variable (int pages)\n",
    "        int pages = 100;\n",
    "        \n",
    "        // 2. Create another primitive variable that copies it\n",
    "        int copiedPages = pages;\n",
    "        \n",
    "        // 3. Create a Book object (Book b1 = new Book(\"Java Basics\");)\n",
    "        Book b1 = new Book(\"Java Basics\");\n",
    "        \n",
    "        // 4. Create another Book reference (Book b2 = b1;)\n",
    "        Book b2 = b1;\n",
    "        \n",
    "        // 5. Change the original primitive and the Book title\n",
    "        pages = 200;  // Changing primitive\n",
    "        \n",
    "        // 6. Print both sets of values to compare behavior\n",
    "        System.out.println(\"Primitive pages: \" + pages);          // 200\n",
    "        System.out.println(\"Copied primitive pages: \" + copiedPages); // 100\n",
    "    }\n",
    "}\n",
    "\n",
    "class Book {\n",
    "    // 1. Declare variable: String title\n",
    "    String title;\n",
    "    \n",
    "    // 2. Create a constructor to set the title\n",
    "    Book(String title) {\n",
    "        this.title = title;\n",
    "    }\n",
    "    \n",
    "    // 3. Create a toString() to show the title\n",
    "    @Override\n",
    "    public String toString() {\n",
    "        return \"Book{\" +\n",
    "                \"title='\" + title + '\\'' +\n",
    "                '}';\n",
    "    }\n",
    "}\n",
    "\n",
    "HeapVsStack.main(null);"
   ]
  }
 ],
 "metadata": {
  "kernelspec": {
   "display_name": "Java",
   "language": "java",
   "name": "java"
  },
  "language_info": {
   "codemirror_mode": "java",
   "file_extension": ".jshell",
   "mimetype": "text/x-java-source",
   "name": "Java",
   "pygments_lexer": "java",
   "version": "17.0.16+0"
  }
 },
 "nbformat": 4,
 "nbformat_minor": 5
}

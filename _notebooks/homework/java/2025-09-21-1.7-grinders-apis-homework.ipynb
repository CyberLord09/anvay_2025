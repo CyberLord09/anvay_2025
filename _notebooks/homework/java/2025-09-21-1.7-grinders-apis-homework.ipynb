{
 "cells": [
  {
   "cell_type": "markdown",
   "metadata": {},
   "source": [
    "---\n",
    "title: Application Program Interface (API) and Libraries Homework\n",
    "description: Understanding Application Program Interfaces and Java Libraries - Homework\n",
    "layout: post\n",
    "type: hacks\n",
    "toc: true\n",
    "permalink: /csa/unit_01/1_7/homework\n",
    "---"
   ]
  },
  {
   "cell_type": "markdown",
   "metadata": {},
   "source": [
    "---\n",
    "\n",
    "## 🍿 Popcorn Hack #1: Using Documentation (5 minutes)\n",
    "\n",
    "**Task:** Use the Math class and ArrayList class based on their documentation.\n",
    "\n",
    "Complete the following:\n",
    "1. Use `Math.pow()` to calculate 3^4\n",
    "2. Use `Math.sqrt()` to find square root of 64\n",
    "3. Create an ArrayList of Strings\n",
    "4. Add 3 colors to the ArrayList\n",
    "5. Print the ArrayList size"
   ]
  },
  {
   "cell_type": "code",
   "execution_count": null,
   "metadata": {
    "vscode": {
     "languageId": "java"
    }
   },
   "outputs": [
    {
     "name": "stdout",
     "output_type": "stream",
     "text": [
      "3 to the power of 4: 81.0\n",
      "Square root of 64: 8.0\n",
      "Number of colors: 3\n"
     ]
    }
   ],
   "source": [
    "// Popcorn Hack #1: Complete this code\n",
    "\n",
    "import java.util.ArrayList;\n",
    "\n",
    "public class PopcornHack1 {\n",
    "    public static void main(String[] args) {\n",
    "\n",
    "        // TODO: Use Math.pow() to calculate 3^4\n",
    "        System.out.println(\"3 to the power of 4: \" + Math.pow(3, 4));\n",
    "        \n",
    "        // TODO: Use Math.sqrt() to find square root of 64\n",
    "        System.out.println(\"Square root of 64: \" + Math.sqrt(64));\n",
    "        \n",
    "        // TODO: Create ArrayList of Strings\n",
    "        ArrayList<String> colors = new ArrayList<>();\n",
    "        \n",
    "        // TODO: Add 3 colors (\"red\", \"blue\", \"green\")\n",
    "        colors.add(\"red\");\n",
    "        colors.add(\"blue\");\n",
    "        colors.add(\"green\");\n",
    "        \n",
    "        // TODO: Print the size\n",
    "        System.out.println(\"Number of colors: \" + colors.size());\n",
    "        \n",
    "    }\n",
    "}\n",
    "\n",
    "PopcornHack1.main(null);"
   ]
  },
  {
   "cell_type": "markdown",
   "metadata": {},
   "source": [
    "---\n",
    "\n",
    "## 🍿 Popcorn Hack #2: Attributes and Behaviors (5 minutes)\n",
    "\n",
    "**Task:** Create a `Book` class with attributes and behaviors.\n",
    "\n",
    "**Requirements:**\n",
    "\n",
    "**Attributes (3):**\n",
    "- `title` (String)\n",
    "- `author` (String)  \n",
    "- `pages` (int)\n",
    "\n",
    "**Behaviors (3 methods):**\n",
    "1. Constructor to set all attributes\n",
    "2. `displayInfo()` - print all book info\n",
    "3. `isLong()` - return true if pages > 300\n",
    "\n",
    "**Test:** Create a Book object and call all methods."
   ]
  },
  {
   "cell_type": "code",
   "execution_count": null,
   "metadata": {
    "vscode": {
     "languageId": "java"
    }
   },
   "outputs": [
    {
     "name": "stdout",
     "output_type": "stream",
     "text": [
      "Title: Java Basics\n",
      "Author: Nolan Hightower\n",
      "Pages: 5678\n",
      "Is it a long book? true\n",
      "Author: Nolan Hightower\n",
      "Pages: 5678\n",
      "Is it a long book? true\n"
     ]
    }
   ],
   "source": [
    "// Popcorn Hack #2: Complete the Book class\n",
    "\n",
    "public class Book {\n",
    "\n",
    "    // TODO: Add 3 attributes (title, author, pages)\n",
    "    private String title;\n",
    "    private String author;\n",
    "    private int pages;\n",
    "    \n",
    "    // TODO: Add constructor\n",
    "    public Book(String title, String author, int pages) {\n",
    "        this.title = title;\n",
    "        this.author = author;\n",
    "        this.pages = pages;\n",
    "    }\n",
    "    \n",
    "    // TODO: Add displayInfo() method\n",
    "    public void displayInfo() {\n",
    "        System.out.println(\"Title: \" + title);\n",
    "        System.out.println(\"Author: \" + author);\n",
    "        System.out.println(\"Pages: \" + pages);\n",
    "    }\n",
    "    \n",
    "    // TODO: Add isLong() method (returns true if pages > 300)\n",
    "    public boolean isLong() {\n",
    "        return pages > 300;\n",
    "    }\n",
    "    \n",
    "}\n",
    "\n",
    "// Create a Book object and test all methods\n",
    "Book myBook = new Book(\"Java Basics\", \"Nolan Hightower\", 5678);\n",
    "\n",
    "// Test the methods\n",
    "myBook.displayInfo();\n",
    "System.out.println(\"Is it a long book? \" + myBook.isLong());\n"
   ]
  },
  {
   "cell_type": "markdown",
   "metadata": {},
   "source": [
    "---\n",
    "\n",
    "## 📝 Homework Hack: Phone Class\n",
    "\n",
    "Create a `Phone` class that demonstrates **all concepts** from this lesson:\n",
    "- Libraries/Classes\n",
    "- Packages (use ArrayList from java.util)\n",
    "- Attributes\n",
    "- Behaviors\n",
    "\n",
    "### Requirements:\n",
    "\n",
    "**Attributes (4):**\n",
    "- `brand` (String)\n",
    "- `model` (String)\n",
    "- `batteryLevel` (int) - starts at 100\n",
    "- `contacts` (ArrayList<String>)\n",
    "\n",
    "**Behaviors (5 methods):**\n",
    "1. Constructor - sets brand and model, initializes empty contacts list\n",
    "2. `displayInfo()` - prints brand, model, and battery level\n",
    "3. `addContact(String name)` - adds name to contacts list\n",
    "4. `showContacts()` - prints all contacts\n",
    "5. `usePhone(int minutes)` - decreases battery by minutes used\n",
    "\n",
    "**Testing:**\n",
    "- Create 2 Phone objects\n",
    "- Add 3 contacts to each phone\n",
    "- Use phone for some minutes\n",
    "- Display all information\n",
    "\n",
    "### Grading:\n",
    "- Correct attributes (4 points)\n",
    "- Correct methods (5 points)\n",
    "- Proper use of ArrayList from java.util (3 points)\n",
    "- Complete testing (3 points)\n",
    "- **Total: 15 points**"
   ]
  },
  {
   "cell_type": "code",
   "execution_count": 3,
   "metadata": {
    "vscode": {
     "languageId": "java"
    }
   },
   "outputs": [
    {
     "name": "stdout",
     "output_type": "stream",
     "text": [
      "Brand: Apple\n",
      "Model: iPhone 14\n",
      "Battery Level: 70%\n",
      "Contacts:\n",
      "- Alice\n",
      "- Bob\n",
      "- Charlie\n",
      "Brand: Samsung\n",
      "Model: Galaxy S23\n",
      "Battery Level: 55%\n",
      "Contacts:\n",
      "- David\n",
      "- Eve\n",
      "- Frank\n"
     ]
    }
   ],
   "source": [
    "// Homework Hack: Complete the Phone class\n",
    "\n",
    "\n",
    "import java.util.ArrayList;\n",
    "\n",
    "public class Phone {\n",
    "    // TODO: Add 4 attributes\n",
    "    private String brand;\n",
    "    private String model;\n",
    "    private int batteryLevel;\n",
    "    private ArrayList<String> contacts;\n",
    "    \n",
    "    // TODO: Add constructor\n",
    "    public Phone(String brand, String model) {\n",
    "        this.brand = brand;\n",
    "        this.model = model;\n",
    "        this.batteryLevel = 100; // starts at 100\n",
    "        this.contacts = new ArrayList<>();\n",
    "    }\n",
    "    \n",
    "    // TODO: Add displayInfo() method\n",
    "    public void displayInfo() {\n",
    "        System.out.println(\"Brand: \" + brand);\n",
    "        System.out.println(\"Model: \" + model);\n",
    "        System.out.println(\"Battery Level: \" + batteryLevel + \"%\");\n",
    "    }\n",
    "    \n",
    "    // TODO: Add addContact(String name) method\n",
    "    public void addContact(String name) {\n",
    "        contacts.add(name);\n",
    "    }\n",
    "    \n",
    "    // TODO: Add showContacts() method\n",
    "    public void showContacts() {\n",
    "        System.out.println(\"Contacts:\");\n",
    "        for (String contact : contacts) {\n",
    "            System.out.println(\"- \" + contact);\n",
    "        }\n",
    "    }\n",
    "    \n",
    "    // TODO: Add usePhone(int minutes) method\n",
    "    public void usePhone(int minutes) {\n",
    "        batteryLevel -= minutes;\n",
    "        if (batteryLevel < 0) {\n",
    "            batteryLevel = 0;\n",
    "        }\n",
    "    }\n",
    "}\n",
    "\n",
    "// Test your Phone class\n",
    "public class PhoneTest {\n",
    "    public static void main(String[] args) {\n",
    "        // TODO: Create 2 Phone objects\n",
    "        Phone phone1 = new Phone(\"Apple\", \"iPhone 14\");\n",
    "        Phone phone2 = new Phone(\"Samsung\", \"Galaxy S23\");\n",
    "        \n",
    "        // TODO: Add 3 contacts to each\n",
    "        phone1.addContact(\"Alice\");\n",
    "        phone1.addContact(\"Bob\");\n",
    "        phone1.addContact(\"Charlie\");\n",
    "\n",
    "        phone2.addContact(\"David\");\n",
    "        phone2.addContact(\"Eve\");\n",
    "        phone2.addContact(\"Frank\");\n",
    "        \n",
    "        // TODO: Use phones for some minutes\n",
    "        phone1.usePhone(30);\n",
    "        phone2.usePhone(45);\n",
    "        \n",
    "        // TODO: Display all information\n",
    "        phone1.displayInfo();\n",
    "        phone1.showContacts();\n",
    "        phone2.displayInfo();\n",
    "        phone2.showContacts();\n",
    "        \n",
    "    }\n",
    "}\n",
    "\n",
    "PhoneTest.main(null);"
   ]
  }
 ],
 "metadata": {
  "kernelspec": {
   "display_name": "Java",
   "language": "java",
   "name": "java"
  },
  "language_info": {
   "codemirror_mode": "java",
   "file_extension": ".jshell",
   "mimetype": "text/x-java-source",
   "name": "Java",
   "pygments_lexer": "java",
   "version": "17.0.16+0"
  }
 },
 "nbformat": 4,
 "nbformat_minor": 2
}

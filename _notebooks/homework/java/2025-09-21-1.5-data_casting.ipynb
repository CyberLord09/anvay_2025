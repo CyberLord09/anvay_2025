{
  "cells": [
    {
      "cell_type": "raw",
      "id": "a11a4f47",
      "metadata": {
        "vscode": {
          "languageId": "raw"
        }
      },
      "source": [
        "---\n",
        "layout: post\n",
        "toc: true\n",
        "title: Casting and Range of Variables\n",
        "menu: nav/CSA_Nunits/csaunit1.html\n",
        "permalink: /csa/unit_01/1_5_lesson\n",
        "---"
      ]
    },
    {
      "cell_type": "markdown",
      "id": "80b57aee",
      "metadata": {},
      "source": [
        "# AP CSA Unit 1.5 — Casting and Range of Variables (2025)\n",
        "\n",
        "**Scope**: Java casting between `int` and `double`, integer division, modulus, and range/overflow behavior of `int`.  \n",
        "**Goal**: Predict results, spot overflow, and place casts correctly to control evaluation.\n"
      ]
    },
    {
      "cell_type": "markdown",
      "id": "5f5362b7",
      "metadata": {},
      "source": [
        "## Practice: predict the output (Java)\n",
        "\n",
        "Write your answers, then check against the key below.\n",
        "\n",
        "**Q1**"
      ]
    },
    {
      "cell_type": "code",
      "execution_count": 7,
      "id": "77e1b377",
      "metadata": {
        "vscode": {
          "languageId": "java"
        }
      },
      "outputs": [
        {
          "name": "stdout",
          "output_type": "stream",
          "text": [
            "2\n",
            "2\n",
            "2.0\n",
            "2.5\n"
          ]
        }
      ],
      "source": [
        "int a = 10, b = 4;\n",
        "System.out.println(a / b);\n",
        "System.out.println(a % b);\n",
        "System.out.println((double)(a / b));\n",
        "System.out.println((double)a / b);"
      ]
    },
    {
      "cell_type": "markdown",
      "id": "2fc41bca",
      "metadata": {},
      "source": [
        "**Q2**"
      ]
    },
    {
      "cell_type": "code",
      "execution_count": 8,
      "id": "c61c2783",
      "metadata": {
        "vscode": {
          "languageId": "java"
        }
      },
      "outputs": [
        {
          "name": "stdout",
          "output_type": "stream",
          "text": [
            "-2\n",
            "-3\n",
            "3\n"
          ]
        }
      ],
      "source": [
        "double d = -2.6;\n",
        "System.out.println((int)d);\n",
        "System.out.println((int)(d - 0.5));\n",
        "System.out.println((int)(-d + 0.5));"
      ]
    },
    {
      "cell_type": "markdown",
      "id": "6c7f83c8",
      "metadata": {},
      "source": [
        "**Q3**"
      ]
    },
    {
      "cell_type": "code",
      "execution_count": 9,
      "id": "e7df7f84",
      "metadata": {
        "vscode": {
          "languageId": "java"
        }
      },
      "outputs": [
        {
          "name": "stdout",
          "output_type": "stream",
          "text": [
            "2147483647\n",
            "-2147483647\n"
          ]
        }
      ],
      "source": [
        "int x = Integer.MAX_VALUE;\n",
        "int y = x + 2;\n",
        "System.out.println(x);\n",
        "System.out.println(y);"
      ]
    },
    {
      "cell_type": "markdown",
      "id": "c2b8c7fc",
      "metadata": {},
      "source": [
        "## Answer key\n",
        "\n",
        "**Q1**\n",
        "```\n",
        "2\n",
        "2\n",
        "2.0\n",
        "2.5\n",
        "```\n",
        "\n",
        "**Q2**\n",
        "```\n",
        "-2\n",
        "-3\n",
        "3\n",
        "```\n",
        "\n",
        "**Q3**\n",
        "```\n",
        "2147483647\n",
        "-2147483647   // wraps: MAX_VALUE + 2\n",
        "```"
      ]
    },
    {
      "cell_type": "markdown",
      "id": "891505df",
      "metadata": {},
      "source": [
        "## FRQ-style tasks\n",
        "\n",
        "**FRQ 1. Average with correct casting**  \n",
        "Write a method `avgInt` that takes two `int` values and returns their average as a `double`, preserving the `.5` if present.\n"
      ]
    },
    {
      "cell_type": "code",
      "execution_count": 25,
      "id": "73fd04b6",
      "metadata": {
        "vscode": {
          "languageId": "java"
        }
      },
      "outputs": [
        {
          "data": {
            "text/plain": [
              "4.0"
            ]
          },
          "execution_count": 25,
          "metadata": {},
          "output_type": "execute_result"
        }
      ],
      "source": [
        "public static double avgInt(int a, int b) {\n",
        "    return (a + b) / 2.0;\n",
        "}\n",
        "\n",
        "avgInt(3, 5);   // returns 4.0"
      ]
    },
    {
      "cell_type": "markdown",
      "id": "b93bd549",
      "metadata": {},
      "source": [
        "**FRQ 2. Percentage**  \n",
        "Given `int correct` and `int total`, compute the percentage as a `double` from 0.0 to 100.0 **without** losing fractional precision."
      ]
    },
    {
      "cell_type": "code",
      "execution_count": 24,
      "id": "fe8b95db",
      "metadata": {
        "vscode": {
          "languageId": "java"
        }
      },
      "outputs": [
        {
          "data": {
            "text/plain": [
              "90.0"
            ]
          },
          "execution_count": 24,
          "metadata": {},
          "output_type": "execute_result"
        }
      ],
      "source": [
        "public static double percent(int correct, int total) {\n",
        "    return (double) correct / total * 100;\n",
        "}\n",
        "\n",
        "percent(45, 50);   // returns 90.0"
      ]
    },
    {
      "cell_type": "markdown",
      "id": "ce4a91e8",
      "metadata": {},
      "source": [
        "**FRQ 3. Safe remainder**  \n",
        "Implement `safeMod(int a, int b)` that returns `a % b`, but if `b == 0`, it should return `0` instead of throwing."
      ]
    },
    {
      "cell_type": "code",
      "execution_count": 23,
      "id": "73def34d",
      "metadata": {
        "vscode": {
          "languageId": "java"
        }
      },
      "outputs": [
        {
          "data": {
            "text/plain": [
              "0"
            ]
          },
          "execution_count": 23,
          "metadata": {},
          "output_type": "execute_result"
        }
      ],
      "source": [
        "public static int safeMod(int a, int b) {\n",
        "    if (b == 0) {\n",
        "        return 0;\n",
        "    }\n",
        "    return a % b;\n",
        "}\n",
        "\n",
        "safeMod(5, 0);   // returns 0"
      ]
    },
    {
      "cell_type": "markdown",
      "id": "71832932",
      "metadata": {},
      "source": [
        "# Java Casting MCQ's"
      ]
    },
    {
      "cell_type": "markdown",
      "id": "007b85a9",
      "metadata": {},
      "source": [
        "Here are 5 multiple-choice questions on Java casting:\n",
        "\n",
        "**Question 1:**\n",
        "What is the output of the following code?\n",
        "\n",
        "A) 7.9  \n",
        "B) 8  \n",
        "C) 7  \n",
        "D) 8.0  \n",
        "E) Compile error"
      ]
    },
    {
      "cell_type": "code",
      "execution_count": 10,
      "id": "a1d124c1",
      "metadata": {
        "vscode": {
          "languageId": "java"
        }
      },
      "outputs": [
        {
          "name": "stdout",
          "output_type": "stream",
          "text": [
            "7\n"
          ]
        }
      ],
      "source": [
        "double x = 7.9;\n",
        "int y = (int) x;\n",
        "System.out.println(y);"
      ]
    },
    {
      "cell_type": "markdown",
      "id": "3a53b66e",
      "metadata": {},
      "source": [
        "**Question 2:**\n",
        "Which of the following statements will compile without error?\n",
        "\n",
        "A) `int c = a + b;`  \n",
        "B) `int c = (int)(a + b);`  \n",
        "C) `int c = a + (int)b;`  \n",
        "D) Both B and C  \n",
        "E) All of the above"
      ]
    },
    {
      "cell_type": "code",
      "execution_count": 16,
      "id": "849eae52",
      "metadata": {
        "vscode": {
          "languageId": "java"
        }
      },
      "outputs": [
        {
          "ename": "CompilationException",
          "evalue": "",
          "output_type": "error",
          "traceback": [
            "\u001b[1m\u001b[30m|   \u001b[1m\u001b[30mint c = \u001b[0m\u001b[1m\u001b[30m\u001b[41ma + b\u001b[0m\u001b[1m\u001b[30m;\u001b[0m",
            "\u001b[1m\u001b[31mincompatible types: possible lossy conversion from double to int\u001b[0m",
            ""
          ]
        }
      ],
      "source": [
        "int a = 10;\n",
        "double b = 5.5;\n",
        "int c = (int)(a + b);\n",
        "int c = a + (int)b;\n",
        "int c = a + b;"
      ]
    },
    {
      "cell_type": "markdown",
      "id": "0d37e204",
      "metadata": {},
      "source": [
        "Both B and C compile without error. Option A causes the following error:\n",
        "\n",
        "|   int c = a + b;\n",
        "incompatible types: possible lossy conversion from double to int"
      ]
    },
    {
      "cell_type": "markdown",
      "id": "4d25817a",
      "metadata": {},
      "source": [
        "**Question 3:**\n",
        "What is the result of the following code?\n",
        "A) 4.5  \n",
        "B) 4  \n",
        "C) 5  \n",
        "D) 4.0  \n",
        "E) Compile error"
      ]
    },
    {
      "cell_type": "code",
      "execution_count": 12,
      "id": "e4e0d500",
      "metadata": {
        "vscode": {
          "languageId": "java"
        }
      },
      "outputs": [
        {
          "name": "stdout",
          "output_type": "stream",
          "text": [
            "4\n"
          ]
        }
      ],
      "source": [
        "int num = 9 / 2;\n",
        "System.out.println(num);"
      ]
    },
    {
      "cell_type": "markdown",
      "id": "f6147e88",
      "metadata": {},
      "source": [
        "**Question 4:**\n",
        "Given the following code, what is printed?\n",
        "\n",
        "A) 15  \n",
        "B) 16  \n",
        "C) 15.5  \n",
        "D) 16.0  \n",
        "E) 15.7"
      ]
    },
    {
      "cell_type": "code",
      "execution_count": 13,
      "id": "80ecae51",
      "metadata": {
        "vscode": {
          "languageId": "java"
        }
      },
      "outputs": [
        {
          "name": "stdout",
          "output_type": "stream",
          "text": [
            "16\n"
          ]
        }
      ],
      "source": [
        "double d = 15.7;\n",
        "int i = (int)(d + 0.5);\n",
        "System.out.println(i);"
      ]
    },
    {
      "cell_type": "markdown",
      "id": "adf7f09b",
      "metadata": {},
      "source": [
        "**Question 5:**\n",
        "Which statement about casting is TRUE?\n",
        "\n",
        "A) Casting from int to double requires explicit casting  \n",
        "B) Casting from double to int requires explicit casting  \n",
        "C) Casting from int to double may result in loss of data  \n",
        "D) Casting is never necessary in Java  \n",
        "E) Casting from double to int always rounds to the nearest integer"
      ]
    },
    {
      "cell_type": "markdown",
      "id": "c97fa7a0",
      "metadata": {
        "vscode": {
          "languageId": "java"
        }
      },
      "source": [
        "The correct answer is B. This is because double → int is a narrowing conversion and requires an explicit cast."
      ]
    }
  ],
  "metadata": {
    "kernelspec": {
      "display_name": "Java",
      "language": "java",
      "name": "java"
    },
    "language_info": {
      "codemirror_mode": "java",
      "file_extension": ".jshell",
      "mimetype": "text/x-java-source",
      "name": "Java",
      "pygments_lexer": "java",
      "version": "17.0.16+0"
    }
  },
  "nbformat": 4,
  "nbformat_minor": 5
}
